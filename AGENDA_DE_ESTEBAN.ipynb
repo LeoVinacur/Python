{
  "nbformat": 4,
  "nbformat_minor": 0,
  "metadata": {
    "colab": {
      "name": "AGENDA DE ESTEBAN.ipynb",
      "provenance": [],
      "collapsed_sections": [],
      "authorship_tag": "ABX9TyOEvdw1QDPzFjtRW8zAltS4",
      "include_colab_link": true
    },
    "kernelspec": {
      "name": "python3",
      "display_name": "Python 3"
    },
    "language_info": {
      "name": "python"
    }
  },
  "cells": [
    {
      "cell_type": "markdown",
      "metadata": {
        "id": "view-in-github",
        "colab_type": "text"
      },
      "source": [
        "<a href=\"https://colab.research.google.com/github/LeoVinacur/Python/blob/main/AGENDA_DE_ESTEBAN.ipynb\" target=\"_parent\"><img src=\"https://colab.research.google.com/assets/colab-badge.svg\" alt=\"Open In Colab\"/></a>"
      ]
    },
    {
      "cell_type": "markdown",
      "source": [
        ""
      ],
      "metadata": {
        "id": "QXM7ruZjbsL4"
      }
    },
    {
      "cell_type": "markdown",
      "source": [
        "AGENDA DE ESTEBAN\n"
      ],
      "metadata": {
        "id": "N_LQG_wLbtSu"
      }
    },
    {
      "cell_type": "code",
      "source": [
        "from google.colab import drive\n",
        "drive.mount(\"/drive/\")\n",
        "ruta = \"/drive/MyDrive/Base de Datos\""
      ],
      "metadata": {
        "colab": {
          "base_uri": "https://localhost:8080/"
        },
        "id": "zp97ZA9ocAaE",
        "outputId": "d64b4262-8379-4a9d-e993-18c2a5b0934a"
      },
      "execution_count": 2,
      "outputs": [
        {
          "output_type": "stream",
          "name": "stdout",
          "text": [
            "Mounted at /drive/\n"
          ]
        }
      ]
    },
    {
      "cell_type": "code",
      "source": [
        "# Escribir un programa para gestionar un listado telefónico con los nombres y los\n",
        "# teléfonos de los clientes de una empresa. El programa debe incorporar las\n",
        "# siguientes funciones:\n",
        "# 1. Obtener teléfono de un cliente del listado\n",
        "# 2. Añadir teléfono de un cliente del listado\n",
        "# 3. Eliminar teléfono de un cliente del listado\n",
        "# 4. Crear listado\n",
        "# El listado debe estar guardado en el archivo json `listado.json` donde el nombre\n",
        "# del cliente y su teléfono deben aparecer separados por comas y cada cliente en\n",
        "# una línea distinta. Tener en cuento Excepciones si el archivo no existe.\n",
        "# \"\"\"\n",
        " \n",
        "\n",
        "import json\n",
        "\n",
        "\n",
        "class Cliente:\n",
        "    datos = {}\n",
        "\n",
        "    def __init__(self):\n",
        "        self.datos[\"nombre\"] = input(\"Nombre: \")\n",
        "        self.datos[\"telefono\"] = input(\"Teléfono: \")\n",
        "\n",
        "\n",
        "class BaseDeDatos:\n",
        "    datos = []\n",
        "\n",
        "    @classmethod\n",
        "    def obtener_datos(cls):\n",
        "        try:\n",
        "            with open(\"agenda.json\", mode=\"r\") as archivo:\n",
        "                try:\n",
        "                    cls.datos = json.load(archivo)\n",
        "                except Exception as error:\n",
        "                    print(\"No se pudo leer 'agenda.json'\")\n",
        "\n",
        "        except FileNotFoundError:\n",
        "            with open(\"agenda.json\", mode=\"w\") as archivo:\n",
        "                print(\"El archivo 'agenda.json' fue creado\")\n",
        "\n",
        "    @classmethod\n",
        "    def guardar_datos(cls):\n",
        "        cls.datos += [Cliente.datos]  # TRAER LOS VALORES DE CLIENTES\n",
        "        try:\n",
        "            with open(\"agenda.json\", mode=\"w\") as archivo:\n",
        "                json.dumps(cls.datos)\n",
        "                json.dump(cls.datos, archivo)\n",
        "        except Exception as error:\n",
        "            print(error)\n",
        "\n",
        "\n",
        "def menu():\n",
        "    while True:\n",
        "        print()\n",
        "        print(\"Gestión de agenda\")\n",
        "        print(\"=================\")\n",
        "        print(\"1 - Crear un contacto\")\n",
        "        print(\"2 - Consultar un contacto\")\n",
        "        print(\"3 - Eliminar un contacto\")\n",
        "        print(\"9 - Salir\")\n",
        "        opcion = input(\"Introduzca el número de la opción deseada: \")\n",
        "        match opcion:\n",
        "            case \"1\":\n",
        "                cliente = Cliente()\n",
        "            case \"2\":\n",
        "                pass\n",
        "            case \"9\":\n",
        "                exit()\n",
        "            case _:\n",
        "                continue\n",
        "\n",
        "\n",
        "def main():\n",
        "    import os\n",
        "\n",
        "    os.system(\"cls\")\n",
        "    BaseDeDatos.obtener_datos()\n",
        "    menu()\n",
        "\n",
        "\n",
        "main()\n"
      ],
      "metadata": {
        "colab": {
          "base_uri": "https://localhost:8080/",
          "height": 130
        },
        "id": "QdU4ismVbxcG",
        "outputId": "f412c327-7cf6-4de5-ef03-ecc9e2a4bf6d"
      },
      "execution_count": 6,
      "outputs": [
        {
          "output_type": "error",
          "ename": "SyntaxError",
          "evalue": "ignored",
          "traceback": [
            "\u001b[0;36m  File \u001b[0;32m\"<ipython-input-6-9c88bddbbebd>\"\u001b[0;36m, line \u001b[0;32m62\u001b[0m\n\u001b[0;31m    match opcion:\u001b[0m\n\u001b[0m               ^\u001b[0m\n\u001b[0;31mSyntaxError\u001b[0m\u001b[0;31m:\u001b[0m invalid syntax\n"
          ]
        }
      ]
    }
  ]
}