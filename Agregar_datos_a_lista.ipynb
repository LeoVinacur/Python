{
  "nbformat": 4,
  "nbformat_minor": 0,
  "metadata": {
    "colab": {
      "name": "Agregar datos a lista.ipynb",
      "provenance": [],
      "authorship_tag": "ABX9TyO7EvFU3q28Gymj9V+wVGGS",
      "include_colab_link": true
    },
    "kernelspec": {
      "name": "python3",
      "display_name": "Python 3"
    },
    "language_info": {
      "name": "python"
    }
  },
  "cells": [
    {
      "cell_type": "markdown",
      "metadata": {
        "id": "view-in-github",
        "colab_type": "text"
      },
      "source": [
        "<a href=\"https://colab.research.google.com/github/LeoVinacur/Python/blob/main/Agregar_datos_a_lista.ipynb\" target=\"_parent\"><img src=\"https://colab.research.google.com/assets/colab-badge.svg\" alt=\"Open In Colab\"/></a>"
      ]
    },
    {
      "cell_type": "code",
      "execution_count": 7,
      "metadata": {
        "colab": {
          "base_uri": "https://localhost:8080/"
        },
        "id": "UfYCi2RUXzar",
        "outputId": "b231ccf9-a8ab-4217-aaaf-1e7cf26966d2"
      },
      "outputs": [
        {
          "output_type": "stream",
          "name": "stdout",
          "text": [
            "ingrese número de nombres que quiere agregar 3\n",
            "ingrese un nombre: Diana\n",
            "ingrese un nombre: Leo\n",
            "ingrese un nombre: Fedra\n",
            "\n",
            "la lista armada es:\n",
            "['Diana', 'Leo', 'Fedra']\n"
          ]
        }
      ],
      "source": [
        "n = int(input(\"ingrese número de nombres que quiere agregar \"))\n",
        "\n",
        "lista = []\n",
        "\n",
        "for i in range(n):\n",
        "    x = input(\"ingrese un nombre: \")\n",
        "    lista.append(x)\n",
        "print()\n",
        "print(\"la lista armada es:\")\n",
        "print(lista)"
      ]
    }
  ]
}