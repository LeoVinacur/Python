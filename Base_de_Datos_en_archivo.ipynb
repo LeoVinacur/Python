{
  "nbformat": 4,
  "nbformat_minor": 0,
  "metadata": {
    "colab": {
      "name": "Base de Datos en archivo.ipynb",
      "provenance": [],
      "collapsed_sections": [],
      "authorship_tag": "ABX9TyM8zF43UV856d0dQKYG3yJO",
      "include_colab_link": true
    },
    "kernelspec": {
      "name": "python3",
      "display_name": "Python 3"
    },
    "language_info": {
      "name": "python"
    }
  },
  "cells": [
    {
      "cell_type": "markdown",
      "metadata": {
        "id": "view-in-github",
        "colab_type": "text"
      },
      "source": [
        "<a href=\"https://colab.research.google.com/github/LeoVinacur/Python/blob/main/Base_de_Datos_en_archivo.ipynb\" target=\"_parent\"><img src=\"https://colab.research.google.com/assets/colab-badge.svg\" alt=\"Open In Colab\"/></a>"
      ]
    },
    {
      "cell_type": "code",
      "execution_count": 5,
      "metadata": {
        "colab": {
          "base_uri": "https://localhost:8080/"
        },
        "id": "MixURYrWaI_s",
        "outputId": "40827861-298f-477b-84cb-c8203ca89346"
      },
      "outputs": [
        {
          "output_type": "stream",
          "name": "stdout",
          "text": [
            "Mounted at /drive/\n"
          ]
        }
      ],
      "source": [
        "from google.colab import drive\n",
        "drive.mount(\"/drive/\")"
      ]
    },
    {
      "cell_type": "code",
      "source": [
        ""
      ],
      "metadata": {
        "id": "EGsp2ER9Y9_e"
      },
      "execution_count": null,
      "outputs": []
    },
    {
      "cell_type": "code",
      "source": [
        "ruta = \"/drive/MyDrive/Base de Datos\""
      ],
      "metadata": {
        "id": "A6F8OzQidKxd"
      },
      "execution_count": 6,
      "outputs": []
    },
    {
      "cell_type": "code",
      "source": [
        "f = open(ruta + \"/archivo.txt\", \"w\") #w significa dar permiso de escritura, solo podemos seleccionar un metodo de lectura/escritura\n",
        "f.write(\"Esto es un texto.\\n\") #gracias a que tenemos permiso de escritura podemos ejecutar este metodo que me permite escribir sobre el archivo \n",
        "f.write(\"Esto es una linea.\\n\") # Nótese el uso del carácter '\\n' para indicar el salto de línea.\n",
        "f.write(\"Esto es otra linea.\\n\")\n",
        "f.write(\"Esta es la tercer linea.\\n\")\n",
        "f.close() #Cerramos el archivo"
      ],
      "metadata": {
        "id": "qo6w8ZvEdWAK"
      },
      "execution_count": null,
      "outputs": []
    },
    {
      "cell_type": "code",
      "source": [
        " f = open(ruta + \"/archivo.txt\", \"r\") #Ahora lo abrimos con permiso de lectura\n",
        "contenido = f.read() #Leemos el archivo gracias a que lo abrimos con permiso de lectura\n",
        "print(contenido)"
      ],
      "metadata": {
        "colab": {
          "base_uri": "https://localhost:8080/"
        },
        "id": "xW_ynZfqcPYo",
        "outputId": "fd1483b1-90e9-488e-bac8-b23bb914fb1d"
      },
      "execution_count": null,
      "outputs": [
        {
          "output_type": "stream",
          "name": "stdout",
          "text": [
            "Esto es un texto.\n",
            "Esto es una linea.\n",
            "Esto es otra linea.\n",
            "Esta es la tercer linea.\n",
            "\n"
          ]
        }
      ]
    },
    {
      "cell_type": "code",
      "source": [
        "f = open(ruta + \"/archivo.txt\", \"w\")\n",
        "f.write(\"\") #Vacio el archivo\n",
        "f.close()\n"
      ],
      "metadata": {
        "id": "W90uzaz9eLqZ"
      },
      "execution_count": null,
      "outputs": []
    },
    {
      "cell_type": "code",
      "source": [
        "nombre = \"Jose\"\n",
        "apellido = \"Martinez\"\n",
        "dni = 245353234\n",
        "\n",
        "d = {\"NOMBRE\":nombre, \n",
        "     \"APELLIDO\":apellido, \n",
        "     \"DNI\":dni}\n",
        "\n",
        "f = open(ruta + \"/otro.txt\", \"a\")\n",
        "f.write(d[\"NOMBRE\"] + \",\" +d[\"APELLIDO\"] +\",\" +str(d[\"DNI\"])+\"\\n\")\n",
        "\n",
        "f.close()\n"
      ],
      "metadata": {
        "id": "89InDTtOg39Y"
      },
      "execution_count": null,
      "outputs": []
    },
    {
      "cell_type": "code",
      "source": [
        "f = open(ruta + \"/otro.txt\", \"r\")\n",
        "content = f.read()\n",
        "print(content)\n",
        " "
      ],
      "metadata": {
        "colab": {
          "base_uri": "https://localhost:8080/"
        },
        "id": "v9JThIZihALX",
        "outputId": "d2d992a4-8210-48c2-af70-8322c7f958d8"
      },
      "execution_count": null,
      "outputs": [
        {
          "output_type": "stream",
          "name": "stdout",
          "text": [
            "Jose,Martinez,245353234\n",
            "Jose,Martinez,245353234\n",
            "\n"
          ]
        }
      ]
    },
    {
      "cell_type": "markdown",
      "source": [
        "\"w\" escritura ' total '   \n",
        "\"r\" lectura   \n",
        "\"a\" escritura desde la última línea\n"
      ],
      "metadata": {
        "id": "osIAvCmehtNC"
      }
    },
    {
      "cell_type": "code",
      "source": [
        ""
      ],
      "metadata": {
        "id": "TQTq8dELhuPE"
      },
      "execution_count": null,
      "outputs": []
    },
    {
      "cell_type": "code",
      "source": [
        "#Verificar si un archivo existe, \n",
        "import os\n",
        "file = '/drive/MyDrive/UST - Curso PYTHON/Clase 19 - Manejo de archivos/listado1.txt'\n",
        "if os.path.isfile(file): #Vemos si el archivo existe en la ruta indicada\n",
        "    answer = input('El fichero ' + file + ' ya existe. ¿Desea vaciarlo (S/N)? ')\n",
        "    if answer == 'N': \n",
        "      print('No se ha vaciado el fichero.\\n')\n",
        "    else:\n",
        "      f = open(file, 'w')\n",
        "      f.close()\n",
        "      print(\"Se ha vaciado el fichero\")\n",
        "else:\n",
        "    f = open(file, 'w')\n",
        "    f.close()\n",
        "    print('Se ha creado el fichero.\\n')\n"
      ],
      "metadata": {
        "id": "-HDs3Nu8jyOx"
      },
      "execution_count": null,
      "outputs": []
    },
    {
      "cell_type": "code",
      "source": [
        "#f = open(ruta + \"/agenda.txt\", \"w\")\n",
        "#f.close()\n",
        "#NO ES NECESARIO LO DE ARRIBA, PORQUE CON a, aunque no exista la base de datos, la crea\n",
        "\n",
        "while True:\n",
        "      nombre = input(\"Ingrese el nombre del contacto: \")\n",
        "      telefono=input(\"Ingrese el teléfono: \")\n",
        "      mail = input(\"Ingrese el mail del contacto: \")\n",
        "      d = {\"NOMBRE\":nombre, \n",
        "     \"TELEFONO\":telefono, \n",
        "     \"MAIL\":mail}\n",
        "      f = open(ruta + \"/agendass.txt\", \"a\")\n",
        "      f.write(d[\"NOMBRE\"] + \",\" +d[\"TELEFONO\"] +\",\" +str(d[\"MAIL\"])+\"\\n\")     \n",
        "      f.close()\n",
        "      rta=input(\"quiere agregar otro usuario? s/n :\")\n",
        "      if rta != \"s\":\n",
        "        break\n",
        "\n",
        "print()\n",
        "f = open(ruta + \"/agendass.txt\", \"r\")  \n",
        "contenido = f.read()  \n",
        "print(contenido)\n",
        "\n",
        " "
      ],
      "metadata": {
        "colab": {
          "base_uri": "https://localhost:8080/"
        },
        "id": "F5G3XKiFj6ug",
        "outputId": "a4fe70b2-4de2-477c-a706-19e7798f8352"
      },
      "execution_count": null,
      "outputs": [
        {
          "output_type": "stream",
          "name": "stdout",
          "text": [
            "Ingrese el nombre del contacto: Diana\n",
            "Ingrese el teléfono: 555\n",
            "Ingrese el mail del contacto: diana@yahoo.com\n",
            "quiere agregar otro usuario? s/n :n\n",
            "\n",
            "prueba1,11,prueba1\n",
            "prueba2,22,prueba2\n",
            "prueba3,33,prueba3\n",
            "Nuevo,55,nuevo\n",
            "Domingo,888,Dom88\n",
            "Miercoles,333,miercoles@yahoo.com\n",
            "Josejose,44,olero\n",
            "Diana,555,diana@yahoo.com\n",
            "\n"
          ]
        }
      ]
    },
    {
      "cell_type": "code",
      "source": [
        "f = open(ruta + \"/agendass.txt\", \"r\")  \n",
        "contenido = f.read()  \n",
        "print(contenido)\n",
        "\n"
      ],
      "metadata": {
        "colab": {
          "base_uri": "https://localhost:8080/"
        },
        "id": "V9p2Z8Vp_j1Z",
        "outputId": "40298965-a4be-4741-e3ef-5512cabfec79"
      },
      "execution_count": null,
      "outputs": [
        {
          "output_type": "error",
          "ename": "NameError",
          "evalue": "ignored",
          "traceback": [
            "\u001b[0;31m---------------------------------------------------------------------------\u001b[0m",
            "\u001b[0;31mNameError\u001b[0m                                 Traceback (most recent call last)",
            "\u001b[0;32m<ipython-input-1-5c327848ff17>\u001b[0m in \u001b[0;36m<module>\u001b[0;34m()\u001b[0m\n\u001b[0;32m----> 1\u001b[0;31m \u001b[0mf\u001b[0m \u001b[0;34m=\u001b[0m \u001b[0mopen\u001b[0m\u001b[0;34m(\u001b[0m\u001b[0mruta\u001b[0m \u001b[0;34m+\u001b[0m \u001b[0;34m\"/agendass.txt\"\u001b[0m\u001b[0;34m,\u001b[0m \u001b[0;34m\"r\"\u001b[0m\u001b[0;34m)\u001b[0m\u001b[0;34m\u001b[0m\u001b[0;34m\u001b[0m\u001b[0m\n\u001b[0m\u001b[1;32m      2\u001b[0m \u001b[0mcontenido\u001b[0m \u001b[0;34m=\u001b[0m \u001b[0mf\u001b[0m\u001b[0;34m.\u001b[0m\u001b[0mread\u001b[0m\u001b[0;34m(\u001b[0m\u001b[0;34m)\u001b[0m\u001b[0;34m\u001b[0m\u001b[0;34m\u001b[0m\u001b[0m\n\u001b[1;32m      3\u001b[0m \u001b[0mprint\u001b[0m\u001b[0;34m(\u001b[0m\u001b[0mcontenido\u001b[0m\u001b[0;34m)\u001b[0m\u001b[0;34m\u001b[0m\u001b[0;34m\u001b[0m\u001b[0m\n\u001b[1;32m      4\u001b[0m \u001b[0;34m\u001b[0m\u001b[0m\n",
            "\u001b[0;31mNameError\u001b[0m: name 'ruta' is not defined"
          ]
        }
      ]
    },
    {
      "cell_type": "code",
      "source": [
        "f = open(ruta + \"/prueba.txt\", \"r\")  \n",
        "contenido = f.read()  \n",
        "print(contenido)"
      ],
      "metadata": {
        "colab": {
          "base_uri": "https://localhost:8080/"
        },
        "id": "HahEGDM719Gc",
        "outputId": "a637345f-2bec-4c34-aa31-c671f17ccaca"
      },
      "execution_count": null,
      "outputs": [
        {
          "output_type": "stream",
          "name": "stdout",
          "text": [
            "miguel,22,mi\n",
            "\n"
          ]
        }
      ]
    },
    {
      "cell_type": "code",
      "source": [
        "ruta"
      ],
      "metadata": {
        "id": "wcwBc9Fbj2Xe",
        "colab": {
          "base_uri": "https://localhost:8080/",
          "height": 35
        },
        "outputId": "1d4ee521-a3d2-494a-d0d9-fb0f03f91034"
      },
      "execution_count": null,
      "outputs": [
        {
          "output_type": "execute_result",
          "data": {
            "text/plain": [
              "'/drive/MyDrive/Base de Datos'"
            ],
            "application/vnd.google.colaboratory.intrinsic+json": {
              "type": "string"
            }
          },
          "metadata": {},
          "execution_count": 8
        }
      ]
    },
    {
      "cell_type": "code",
      "source": [
        "import json  #Importar las funciones de json en la \n",
        "\n",
        "data = {}\n",
        "\n",
        "data['clients'] = []\n",
        "\n",
        "data['clients'].append({\n",
        "    'first_name': 'Sigrid',\n",
        "    'last_name': 'Mannock',\n",
        "    'age': 27,\n",
        "    'amount': 7.17})\n",
        "\n",
        "data['clients'].append({\n",
        "    'first_name': 'Joe',\n",
        "    'last_name': 'Hinners',\n",
        "    'age': 31,\n",
        "    'amount': [1.90, 5.50]})\n",
        "\n",
        "data['clients'].append({\n",
        "    'first_name': 'Theodoric',\n",
        "    'last_name': 'Rivers',\n",
        "    'age': 36,\n",
        "    'amount': 1.11})\n",
        "\n",
        "print(data) #Un diccionario con clave clients y valor tiene una lista con diccionarios."
      ],
      "metadata": {
        "colab": {
          "base_uri": "https://localhost:8080/"
        },
        "id": "tL2_oCdGLlfH",
        "outputId": "88fee447-21bf-49c9-8f21-c2eadfb0f327"
      },
      "execution_count": null,
      "outputs": [
        {
          "output_type": "stream",
          "name": "stdout",
          "text": [
            "{'clients': [{'first_name': 'Sigrid', 'last_name': 'Mannock', 'age': 27, 'amount': 7.17}, {'first_name': 'Joe', 'last_name': 'Hinners', 'age': 31, 'amount': [1.9, 5.5]}, {'first_name': 'Theodoric', 'last_name': 'Rivers', 'age': 36, 'amount': 1.11}]}\n"
          ]
        }
      ]
    },
    {
      "cell_type": "code",
      "source": [
        "with open(ruta + \"/primerJson.json\", 'w') as file:\n",
        "    json.dump(data, file, indent=4)"
      ],
      "metadata": {
        "id": "zk_rnOZYLrk6"
      },
      "execution_count": null,
      "outputs": []
    },
    {
      "cell_type": "code",
      "source": [
        "f = open(ruta + \"/primerJson.json\", \"r\")\n",
        "f.read()"
      ],
      "metadata": {
        "colab": {
          "base_uri": "https://localhost:8080/",
          "height": 87
        },
        "id": "KjzKaf0-Lvp1",
        "outputId": "ba842d71-8aa7-4d28-debd-747057b5abd4"
      },
      "execution_count": null,
      "outputs": [
        {
          "output_type": "execute_result",
          "data": {
            "text/plain": [
              "'{\\n    \"clients\": [\\n        {\\n            \"first_name\": \"Sigrid\",\\n            \"last_name\": \"Mannock\",\\n            \"age\": 27,\\n            \"amount\": 7.17\\n        },\\n        {\\n            \"first_name\": \"Joe\",\\n            \"last_name\": \"Hinners\",\\n            \"age\": 31,\\n            \"amount\": [\\n                1.9,\\n                5.5\\n            ]\\n        },\\n        {\\n            \"first_name\": \"Theodoric\",\\n            \"last_name\": \"Rivers\",\\n            \"age\": 36,\\n            \"amount\": 1.11\\n        }\\n    ]\\n}'"
            ],
            "application/vnd.google.colaboratory.intrinsic+json": {
              "type": "string"
            }
          },
          "metadata": {},
          "execution_count": 11
        }
      ]
    },
    {
      "cell_type": "code",
      "source": [
        "with open(ruta + \"/primerJson.json\") as file:\n",
        "\n",
        "    dataLectura = json.load(file)\n",
        "    #print(dataLectura)\n",
        "    \n",
        "    for client in dataLectura['clients']:\n",
        "        print('First name:', client['first_name'])\n",
        "        print('Last name:', client['last_name'])\n",
        "        print('Age:', client['age'])\n",
        "        print('Amount:', client['amount'])\n",
        "        print('')"
      ],
      "metadata": {
        "colab": {
          "base_uri": "https://localhost:8080/"
        },
        "id": "Bj-KMB38LxNR",
        "outputId": "78721de1-8f38-4663-c18c-cb9b19c66c93"
      },
      "execution_count": null,
      "outputs": [
        {
          "output_type": "stream",
          "name": "stdout",
          "text": [
            "First name: Sigrid\n",
            "Last name: Mannock\n",
            "Age: 27\n",
            "Amount: 7.17\n",
            "\n",
            "First name: Joe\n",
            "Last name: Hinners\n",
            "Age: 31\n",
            "Amount: [1.9, 5.5]\n",
            "\n",
            "First name: Theodoric\n",
            "Last name: Rivers\n",
            "Age: 36\n",
            "Amount: 1.11\n",
            "\n"
          ]
        }
      ]
    },
    {
      "cell_type": "code",
      "source": [
        "dataLectura "
      ],
      "metadata": {
        "colab": {
          "base_uri": "https://localhost:8080/"
        },
        "id": "8pt3-D8DL8Ic",
        "outputId": "8459690d-5a25-4eda-ef53-edc862425f60"
      },
      "execution_count": null,
      "outputs": [
        {
          "output_type": "execute_result",
          "data": {
            "text/plain": [
              "{'clients': [{'age': 27,\n",
              "   'amount': 7.17,\n",
              "   'first_name': 'Sigrid',\n",
              "   'last_name': 'Mannock'},\n",
              "  {'age': 31,\n",
              "   'amount': [1.9, 5.5],\n",
              "   'first_name': 'Joe',\n",
              "   'last_name': 'Hinners'},\n",
              "  {'age': 36,\n",
              "   'amount': 1.11,\n",
              "   'first_name': 'Theodoric',\n",
              "   'last_name': 'Rivers'}]}"
            ]
          },
          "metadata": {},
          "execution_count": 13
        }
      ]
    },
    {
      "cell_type": "code",
      "source": [
        ""
      ],
      "metadata": {
        "id": "V80fMHchUPo7"
      },
      "execution_count": null,
      "outputs": []
    },
    {
      "cell_type": "code",
      "source": [
        "\n",
        "import json\n",
        "from pprint import pprint as pp\n",
        "\n",
        "data = []\n",
        "\n",
        "try:\n",
        "    with open(\"agenda_nueva.json\", \"r\") as file:\n",
        "        data = json.load(file)\n",
        "        pp(data)\n",
        "except Exception as e:\n",
        "    print(e)\n",
        "    print()\n",
        "\n",
        "\n",
        "while True:\n",
        "    nombre = input(\"Ingrese el nombre del contacto: \")\n",
        "    telefono = input(\"Ingrese el teléfono: \")\n",
        "    mail = input(\"Ingrese el mail del contacto: \")\n",
        "    data.append({\"Nombre\": nombre, \"Telefono\": telefono, \"Mail\": mail})\n",
        "    print(\"\\nDATOS DEL OBJETO data:\")\n",
        "    pp(data)\n",
        "\n",
        "    # json.dumps(data)  # dumps (no dump) , convierte (serializa) un objeto Python en un objeto Json\n",
        "    # print(\"\\nDATOS DEL data serializado json:\")\n",
        "    # print(data)\n",
        "\n",
        "    rta = input(\"\\n¿Quiere agregar otro usuario? s/n: \")\n",
        "    if rta.lower() not in (\"s\", \"si\", \"sí\"):\n",
        "        break\n",
        "\n",
        "rta = input(\"\\n¿Desea grabar? s/n: \")\n",
        "if rta.lower() not in (\"s\", \"si\", \"sí\"):\n",
        "    exit()\n",
        "\n",
        "with open(\"agenda_nueva.json\", \"w\") as file:\n",
        "    json.dump(data, file)\n",
        "\n",
        "with open(\"agenda_nueva.json\", \"r\") as file:\n",
        "    data = json.load(file)\n",
        "    print(\"\\nCONTENIDO DEL ARCHIVO JSON\")\n",
        "    pp(data)"
      ],
      "metadata": {
        "id": "wYPjZia0L-K2",
        "colab": {
          "base_uri": "https://localhost:8080/"
        },
        "outputId": "f0df0348-df44-4cb3-f3fb-5beade0e9bd5"
      },
      "execution_count": 3,
      "outputs": [
        {
          "output_type": "stream",
          "name": "stdout",
          "text": [
            "[{'Mail': 'diana@yahoo.com', 'Nombre': 'Diana', 'Telefono': '444555'}]\n",
            "Ingrese el nombre del contacto: Pedro\n",
            "Ingrese el teléfono: 777\n",
            "Ingrese el mail del contacto: pedro@yahoo.com\n",
            "\n",
            "DATOS DEL OBJETO data:\n",
            "[{'Mail': 'diana@yahoo.com', 'Nombre': 'Diana', 'Telefono': '444555'},\n",
            " {'Mail': 'pedro@yahoo.com', 'Nombre': 'Pedro', 'Telefono': '777'}]\n",
            "\n",
            "¿Quiere agregar otro usuario? s/n: n\n",
            "\n",
            "¿Desea grabar? s/n: s\n",
            "\n",
            "CONTENIDO DEL ARCHIVO JSON\n",
            "[{'Mail': 'diana@yahoo.com', 'Nombre': 'Diana', 'Telefono': '444555'},\n",
            " {'Mail': 'pedro@yahoo.com', 'Nombre': 'Pedro', 'Telefono': '777'}]\n"
          ]
        }
      ]
    },
    {
      "cell_type": "code",
      "source": [
        "def get_phone(file, client):\n",
        "    '''\n",
        "    Función que devuelve el teléfono de un cliente de un fichero dado.\n",
        "    Parámetros:\n",
        "        file: Es un fichero con los nombres y teléfonos de clientes.\n",
        "        client: Es una cadena con el nombre del cliente.\n",
        "    Devuelve:\n",
        "        El teléfono del cliente guardado en el fichero o un mensaje de error si el teléfono o el fichero no existe.\n",
        "    '''\n",
        "    try: \n",
        "        f = open(file, 'r')\n",
        "    except FileNotFoundError:\n",
        "        return('¡El fichero ' + file + ' no existe!\\n')\n",
        "    else:\n",
        "        directory = f.readlines()\n",
        "        f.close()\n",
        "        listado_telefonos = {}\n",
        "        for line in directory:\n",
        "          nom, tel = line.split(',')\n",
        "          listado_telefonos[nom] = tel\n",
        "        if client in listado_telefonos:\n",
        "            return listado_telefonos[client]\n",
        "        else:\n",
        "            return('¡El cliente ' + client + ' no existe!\\n')\n",
        "\n",
        "\n",
        "def add_phone(file, client, telf):\n",
        "    '''\n",
        "    Función que añade el teléfono de un cliente de un fichero dado.\n",
        "    Parámetros:\n",
        "        file: Es un fichero con los nombres y teléfonos de clientes.\n",
        "        client: Es una cadena con el nombre del cliente.\n",
        "        telf: Es una cadena con el teléfono del cliente.\n",
        "    Devuelve:\n",
        "        Un mesaje informando sobre si el teléfono se ha añadido o ha habido algún problema.\n",
        "    '''\n",
        "    try: \n",
        "        f = open(file, 'a')\n",
        "    except FileNotFoundError:\n",
        "        return('¡El fichero ' + file + ' no existe!\\n')\n",
        "    else:\n",
        "        f.write(client + ',' + telf + '\\n')\n",
        "        f.close()\n",
        "        return('El teléfono se ha añadido.\\n')\n",
        "\n",
        "def remove_phone(file, client):\n",
        "    '''\n",
        "    Función que elimina el teléfono de un cliente de un fichero dado.\n",
        "    Parámetros:\n",
        "        file: Es un fichero con los nombres y teléfonos de clientes.\n",
        "        client: Es una cadena con el nombre del cliente.\n",
        "    Devuelve:\n",
        "        Un mesaje informando sobre si el teléfono se ha borrado o ha habido algún problema.\n",
        "    '''\n",
        "    try: \n",
        "        f = open(file, 'r')\n",
        "    except FileNotFoundError:\n",
        "        return('¡El fichero ' + file + ' no existe!\\n')\n",
        "    else:\n",
        "        directory = f.readlines()\n",
        "        f.close()\n",
        "        listado_telefonos = {}\n",
        "        for line in directory:\n",
        "          nom, tel = line.split(',')\n",
        "          listado_telefonos[nom] = tel\n",
        "        if client in listado_telefonos:\n",
        "            del listado_telefonos[client]\n",
        "            f = open(file, 'w')\n",
        "            for name, telf in listado_telefonos.items():\n",
        "                f.write(name + ',' + telf)\n",
        "            f.close()\n",
        "            return ('¡El cliente se ha borrado!\\n')\n",
        "        else:\n",
        "            return('¡El cliente ' + client + ' no existe!\\n')\n",
        "\n",
        "\n",
        "def create_directory(file):\n",
        "    '''\n",
        "    Función que crea un fichero vacío para guardar un listín telefónico.\n",
        "    Parámetros:\n",
        "        file: Es un fichero.\n",
        "    Devuelve:\n",
        "        Un mesaje informando sobre si el fichero se ha creado correctamente o no.\n",
        "    '''\n",
        "    import os\n",
        "    if os.path.isfile(file):\n",
        "        answer = input('El fichero ' + file + ' ya existe. ¿Desea vaciarlo (S/N)? ')\n",
        "        if answer == 'N': \n",
        "            return 'No se ha creado el fichero porque ya existe.\\n'\n",
        "    f = open(file, 'w')\n",
        "    f.close()\n",
        "    return 'Se ha creado el fichero.\\n'\n",
        "     \n",
        "\n",
        "def menu():\n",
        "    '''\n",
        "    Función que presenta un menú con las operaciones disponibles sobre un listín telefónico y devuelve la opción seleccionada por el usuario.\n",
        "    Devuelve:\n",
        "        La opción seleccionada por el usuario.\n",
        "    '''\n",
        "    print('Gesión del listín telefónico')\n",
        "    print('============================')\n",
        "    print('1 - Consultar un teléfono')\n",
        "    print('2 - Añadir un teléfono')\n",
        "    print('3 - Eliminar un teléfono')\n",
        "    print('4 - Crear el listín')\n",
        "    print('0 - Terminar')\n",
        "    option = input('Introduzca el número de la opción deseada: ')\n",
        "    return option\n",
        "\n",
        "\n",
        "def directory():\n",
        "    '''\n",
        "    Función que lanza la aplicación para la gestión del listín telefónico.\n",
        "    '''\n",
        "    file = 'listin.txt' \n",
        "    while True:\n",
        "        option = menu()\n",
        "        if option == '1':\n",
        "            name = input('Introduce el nombre del cliente: ')\n",
        "            print(get_phone(file, name))\n",
        "        elif option == '2':\n",
        "            name = input('Introduce el nombre del cliente: ')\n",
        "            telf = input('Introduce el teléfono del cliente: ')\n",
        "            print(add_phone(file, name, telf))\n",
        "        elif option == '3':\n",
        "            name = input('Introduce el nombre del cliente: ')\n",
        "            print(remove_phone(file, name))\n",
        "        elif option == '4':\n",
        "            print(create_directory(file))\n",
        "        else:\n",
        "            break\n",
        "    return\n",
        "\n",
        "directory()\n"
      ],
      "metadata": {
        "colab": {
          "base_uri": "https://localhost:8080/"
        },
        "id": "idXE8uV-Zdf4",
        "outputId": "9fe24fec-1b46-4a2e-ee23-72c2d870c99a"
      },
      "execution_count": null,
      "outputs": [
        {
          "output_type": "stream",
          "name": "stdout",
          "text": [
            "Gesión del listín telefónico\n",
            "============================\n",
            "1 - Consultar un teléfono\n",
            "2 - Añadir un teléfono\n",
            "3 - Eliminar un teléfono\n",
            "4 - Crear el listín\n",
            "0 - Terminar\n"
          ]
        }
      ]
    }
  ]
}