{
  "nbformat": 4,
  "nbformat_minor": 0,
  "metadata": {
    "colab": {
      "name": "Base de Datos en archivo.ipynb",
      "provenance": [],
      "collapsed_sections": [],
      "authorship_tag": "ABX9TyMfAIUBK7uEAccCRZx8AwL2",
      "include_colab_link": true
    },
    "kernelspec": {
      "name": "python3",
      "display_name": "Python 3"
    },
    "language_info": {
      "name": "python"
    }
  },
  "cells": [
    {
      "cell_type": "markdown",
      "metadata": {
        "id": "view-in-github",
        "colab_type": "text"
      },
      "source": [
        "<a href=\"https://colab.research.google.com/github/LeoVinacur/Python/blob/main/Base_de_Datos_en_archivo.ipynb\" target=\"_parent\"><img src=\"https://colab.research.google.com/assets/colab-badge.svg\" alt=\"Open In Colab\"/></a>"
      ]
    },
    {
      "cell_type": "code",
      "execution_count": 7,
      "metadata": {
        "colab": {
          "base_uri": "https://localhost:8080/"
        },
        "id": "MixURYrWaI_s",
        "outputId": "b64e385c-4ff4-4da7-b5b9-79e87da61e75"
      },
      "outputs": [
        {
          "output_type": "stream",
          "name": "stdout",
          "text": [
            "Mounted at /drive/\n"
          ]
        }
      ],
      "source": [
        "from google.colab import drive\n",
        "drive.mount(\"/drive/\")"
      ]
    },
    {
      "cell_type": "code",
      "source": [
        "ruta = \"/drive/MyDrive/Base de Datos\""
      ],
      "metadata": {
        "id": "A6F8OzQidKxd"
      },
      "execution_count": 3,
      "outputs": []
    },
    {
      "cell_type": "code",
      "source": [
        "f = open(ruta + \"/archivo.txt\", \"w\") #w significa dar permiso de escritura, solo podemos seleccionar un metodo de lectura/escritura\n",
        "f.write(\"Esto es un texto.\\n\") #gracias a que tenemos permiso de escritura podemos ejecutar este metodo que me permite escribir sobre el archivo \n",
        "f.write(\"Esto es una linea.\\n\") # Nótese el uso del carácter '\\n' para indicar el salto de línea.\n",
        "f.write(\"Esto es otra linea.\\n\")\n",
        "f.write(\"Esta es la tercer linea.\\n\")\n",
        "f.close() #Cerramos el archivo\n"
      ],
      "metadata": {
        "id": "qo6w8ZvEdWAK"
      },
      "execution_count": 8,
      "outputs": []
    },
    {
      "cell_type": "code",
      "source": [
        " f = open(ruta + \"/archivo.txt\", \"r\") #Ahora lo abrimos con permiso de lectura\n",
        "contenido = f.read() #Leemos el archivo gracias a que lo abrimos con permiso de lectura\n",
        "print(contenido)\n"
      ],
      "metadata": {
        "colab": {
          "base_uri": "https://localhost:8080/",
          "height": 241
        },
        "id": "xW_ynZfqcPYo",
        "outputId": "0013330a-b602-44f2-9b8c-99766bf45ee3"
      },
      "execution_count": 5,
      "outputs": [
        {
          "output_type": "error",
          "ename": "FileNotFoundError",
          "evalue": "ignored",
          "traceback": [
            "\u001b[0;31m---------------------------------------------------------------------------\u001b[0m",
            "\u001b[0;31mFileNotFoundError\u001b[0m                         Traceback (most recent call last)",
            "\u001b[0;32m<ipython-input-5-8d9c390a980e>\u001b[0m in \u001b[0;36m<module>\u001b[0;34m()\u001b[0m\n\u001b[0;32m----> 1\u001b[0;31m \u001b[0mf\u001b[0m \u001b[0;34m=\u001b[0m \u001b[0mopen\u001b[0m\u001b[0;34m(\u001b[0m\u001b[0mruta\u001b[0m \u001b[0;34m+\u001b[0m \u001b[0;34m\"/archivo.txt\"\u001b[0m\u001b[0;34m,\u001b[0m \u001b[0;34m\"r\"\u001b[0m\u001b[0;34m)\u001b[0m \u001b[0;31m#Ahora lo abrimos con permiso de lectura\u001b[0m\u001b[0;34m\u001b[0m\u001b[0;34m\u001b[0m\u001b[0m\n\u001b[0m\u001b[1;32m      2\u001b[0m \u001b[0mcontenido\u001b[0m \u001b[0;34m=\u001b[0m \u001b[0mf\u001b[0m\u001b[0;34m.\u001b[0m\u001b[0mread\u001b[0m\u001b[0;34m(\u001b[0m\u001b[0;34m)\u001b[0m \u001b[0;31m#Leemos el archivo gracias a que lo abrimos con permiso de lectura\u001b[0m\u001b[0;34m\u001b[0m\u001b[0;34m\u001b[0m\u001b[0m\n\u001b[1;32m      3\u001b[0m \u001b[0mprint\u001b[0m\u001b[0;34m(\u001b[0m\u001b[0mcontenido\u001b[0m\u001b[0;34m)\u001b[0m\u001b[0;34m\u001b[0m\u001b[0;34m\u001b[0m\u001b[0m\n",
            "\u001b[0;31mFileNotFoundError\u001b[0m: [Errno 2] No such file or directory: '/drive/MyDrive/Base de Datos/archivo.txt'"
          ]
        }
      ]
    },
    {
      "cell_type": "code",
      "source": [
        "f = open(ruta + \"/archivo.txt\", \"w\")\n",
        "f.write(\"\") #Vacio el archivo\n",
        "f.close()\n"
      ],
      "metadata": {
        "id": "W90uzaz9eLqZ",
        "colab": {
          "base_uri": "https://localhost:8080/",
          "height": 223
        },
        "outputId": "93bb6f76-140b-4c4b-8f50-5582b5f9dbf2"
      },
      "execution_count": 6,
      "outputs": [
        {
          "output_type": "error",
          "ename": "FileNotFoundError",
          "evalue": "ignored",
          "traceback": [
            "\u001b[0;31m---------------------------------------------------------------------------\u001b[0m",
            "\u001b[0;31mFileNotFoundError\u001b[0m                         Traceback (most recent call last)",
            "\u001b[0;32m<ipython-input-6-32961ad96a67>\u001b[0m in \u001b[0;36m<module>\u001b[0;34m()\u001b[0m\n\u001b[0;32m----> 1\u001b[0;31m \u001b[0mf\u001b[0m \u001b[0;34m=\u001b[0m \u001b[0mopen\u001b[0m\u001b[0;34m(\u001b[0m\u001b[0mruta\u001b[0m \u001b[0;34m+\u001b[0m \u001b[0;34m\"/archivo.txt\"\u001b[0m\u001b[0;34m,\u001b[0m \u001b[0;34m\"w\"\u001b[0m\u001b[0;34m)\u001b[0m\u001b[0;34m\u001b[0m\u001b[0;34m\u001b[0m\u001b[0m\n\u001b[0m\u001b[1;32m      2\u001b[0m \u001b[0mf\u001b[0m\u001b[0;34m.\u001b[0m\u001b[0mwrite\u001b[0m\u001b[0;34m(\u001b[0m\u001b[0;34m\"\"\u001b[0m\u001b[0;34m)\u001b[0m \u001b[0;31m#Vacio el archivo\u001b[0m\u001b[0;34m\u001b[0m\u001b[0;34m\u001b[0m\u001b[0m\n\u001b[1;32m      3\u001b[0m \u001b[0mf\u001b[0m\u001b[0;34m.\u001b[0m\u001b[0mclose\u001b[0m\u001b[0;34m(\u001b[0m\u001b[0;34m)\u001b[0m\u001b[0;34m\u001b[0m\u001b[0;34m\u001b[0m\u001b[0m\n",
            "\u001b[0;31mFileNotFoundError\u001b[0m: [Errno 2] No such file or directory: '/drive/MyDrive/Base de Datos/archivo.txt'"
          ]
        }
      ]
    },
    {
      "cell_type": "code",
      "source": [
        "nombre = \"Jose\"\n",
        "apellido = \"Martinez\"\n",
        "dni = 245353234\n",
        "\n",
        "d = {\"NOMBRE\":nombre, \n",
        "     \"APELLIDO\":apellido, \n",
        "     \"DNI\":dni}\n",
        "\n",
        "f = open(ruta + \"/otro.txt\", \"a\")\n",
        "f.write(d[\"NOMBRE\"] + \",\" +d[\"APELLIDO\"] +\",\" +str(d[\"DNI\"])+\"\\n\")\n",
        "\n",
        "f.close()\n"
      ],
      "metadata": {
        "id": "89InDTtOg39Y"
      },
      "execution_count": 46,
      "outputs": []
    },
    {
      "cell_type": "code",
      "source": [
        "f = open(ruta + \"/otro.txt\", \"r\")\n",
        "content = f.read()\n",
        "print(content)\n",
        " "
      ],
      "metadata": {
        "colab": {
          "base_uri": "https://localhost:8080/"
        },
        "id": "v9JThIZihALX",
        "outputId": "da2b6e86-c366-4f55-d4fb-7fbdd879d475"
      },
      "execution_count": 47,
      "outputs": [
        {
          "output_type": "stream",
          "name": "stdout",
          "text": [
            "Jose,Martinez,245353234\n",
            "\n"
          ]
        }
      ]
    },
    {
      "cell_type": "markdown",
      "source": [
        "\"w\" escritura ' total '   \n",
        "\"r\" lectura   \n",
        "\"a\" escritura desde la última línea\n"
      ],
      "metadata": {
        "id": "osIAvCmehtNC"
      }
    },
    {
      "cell_type": "code",
      "source": [
        ""
      ],
      "metadata": {
        "id": "TQTq8dELhuPE"
      },
      "execution_count": null,
      "outputs": []
    },
    {
      "cell_type": "code",
      "source": [
        "#Verificar si un archivo existe, \n",
        "import os\n",
        "file = '/drive/MyDrive/UST - Curso PYTHON/Clase 19 - Manejo de archivos/listado1.txt'\n",
        "if os.path.isfile(file): #Vemos si el archivo existe en la ruta indicada\n",
        "    answer = input('El fichero ' + file + ' ya existe. ¿Desea vaciarlo (S/N)? ')\n",
        "    if answer == 'N': \n",
        "      print('No se ha vaciado el fichero.\\n')\n",
        "    else:\n",
        "      f = open(file, 'w')\n",
        "      f.close()\n",
        "      print(\"Se ha vaciado el fichero\")\n",
        "else:\n",
        "    f = open(file, 'w')\n",
        "    f.close()\n",
        "    print('Se ha creado el fichero.\\n')\n"
      ],
      "metadata": {
        "id": "-HDs3Nu8jyOx"
      },
      "execution_count": null,
      "outputs": []
    },
    {
      "cell_type": "code",
      "source": [
        "#f = open(ruta + \"/agenda.txt\", \"w\")\n",
        "#f.close()\n",
        "#NO ES NECESARIO LO DE ARRIBA, PORQUE CON a, aunque no exista la base de datos, la crea\n",
        "\n",
        "while True:\n",
        "      nombre = input(\"Ingrese el nombre del contacto: \")\n",
        "      telefono=input(\"Ingrese el teléfono: \")\n",
        "      mail = input(\"Ingrese el mail del contacto: \")\n",
        "      d = {\"NOMBRE\":nombre, \n",
        "     \"TELEFONO\":telefono, \n",
        "     \"MAIL\":mail}\n",
        "      f = open(ruta + \"/agendass.txt\", \"a\")\n",
        "      f.write(d[\"NOMBRE\"] + \",\" +d[\"TELEFONO\"] +\",\" +str(d[\"MAIL\"])+\"\\n\")     \n",
        "      f.close()\n",
        "      rta=input(\"quiere agregar otro usuario? s/n :\")\n",
        "      if rta != \"s\":\n",
        "        break\n",
        "\n",
        "print()\n",
        "f = open(ruta + \"/agendass.txt\", \"r\")  \n",
        "contenido = f.read()  \n",
        "print(contenido)\n",
        "\n"
      ],
      "metadata": {
        "colab": {
          "base_uri": "https://localhost:8080/"
        },
        "id": "F5G3XKiFj6ug",
        "outputId": "56833276-cc34-417b-b4b3-d9cc2c46d6c2"
      },
      "execution_count": 58,
      "outputs": [
        {
          "output_type": "stream",
          "name": "stdout",
          "text": [
            "Ingrese el nombre del contacto: prueba3\n",
            "Ingrese el teléfono: 33\n",
            "Ingrese el mail del contacto: prueba3\n",
            "quiere agregar otro usuario? s/n :n\n",
            "\n",
            "prueba1,11,prueba1\n",
            "prueba2,22,prueba2\n",
            "prueba3,33,prueba3\n",
            "\n"
          ]
        }
      ]
    },
    {
      "cell_type": "code",
      "source": [
        "f = open(ruta + \"/prueba.txt\", \"r\")  \n",
        "contenido = f.read()  \n",
        "print(contenido)"
      ],
      "metadata": {
        "colab": {
          "base_uri": "https://localhost:8080/"
        },
        "id": "HahEGDM719Gc",
        "outputId": "d1048ad6-68a5-4560-eb75-d420cce7ca35"
      },
      "execution_count": 56,
      "outputs": [
        {
          "output_type": "stream",
          "name": "stdout",
          "text": [
            "miguel,22,mi\n",
            "\n"
          ]
        }
      ]
    },
    {
      "cell_type": "code",
      "source": [
        ""
      ],
      "metadata": {
        "id": "wcwBc9Fbj2Xe"
      },
      "execution_count": null,
      "outputs": []
    }
  ]
}