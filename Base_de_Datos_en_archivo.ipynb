{
  "cells": [
    {
      "cell_type": "markdown",
      "metadata": {
        "id": "view-in-github",
        "colab_type": "text"
      },
      "source": [
        "<a href=\"https://colab.research.google.com/github/LeoVinacur/Python/blob/main/Base_de_Datos_en_archivo.ipynb\" target=\"_parent\"><img src=\"https://colab.research.google.com/assets/colab-badge.svg\" alt=\"Open In Colab\"/></a>"
      ]
    },
    {
      "cell_type": "code",
      "execution_count": 100,
      "metadata": {
        "colab": {
          "base_uri": "https://localhost:8080/"
        },
        "id": "MixURYrWaI_s",
        "outputId": "b4830b40-0500-4e30-a79d-43a63cc464e6"
      },
      "outputs": [
        {
          "output_type": "stream",
          "name": "stdout",
          "text": [
            "Drive already mounted at /drive/; to attempt to forcibly remount, call drive.mount(\"/drive/\", force_remount=True).\n"
          ]
        }
      ],
      "source": [
        "from google.colab import drive\n",
        "drive.mount(\"/drive/\")"
      ]
    },
    {
      "cell_type": "code",
      "execution_count": null,
      "metadata": {
        "id": "EGsp2ER9Y9_e"
      },
      "outputs": [],
      "source": [
        ""
      ]
    },
    {
      "cell_type": "code",
      "execution_count": 101,
      "metadata": {
        "id": "A6F8OzQidKxd"
      },
      "outputs": [],
      "source": [
        "ruta = \"/drive/MyDrive/Base de Datos\""
      ]
    },
    {
      "cell_type": "code",
      "execution_count": null,
      "metadata": {
        "id": "qo6w8ZvEdWAK"
      },
      "outputs": [],
      "source": [
        "f = open(ruta + \"/archivo.txt\", \"w\") #w significa dar permiso de escritura, solo podemos seleccionar un metodo de lectura/escritura\n",
        "f.write(\"Esto es un texto.\\n\") #gracias a que tenemos permiso de escritura podemos ejecutar este metodo que me permite escribir sobre el archivo \n",
        "f.write(\"Esto es una linea.\\n\") # Nótese el uso del carácter '\\n' para indicar el salto de línea.\n",
        "f.write(\"Esto es otra linea.\\n\")\n",
        "f.write(\"Esta es la tercer linea.\\n\")\n",
        "f.close() #Cerramos el archivo"
      ]
    },
    {
      "cell_type": "code",
      "execution_count": null,
      "metadata": {
        "colab": {
          "base_uri": "https://localhost:8080/"
        },
        "id": "xW_ynZfqcPYo",
        "outputId": "fd1483b1-90e9-488e-bac8-b23bb914fb1d"
      },
      "outputs": [
        {
          "name": "stdout",
          "output_type": "stream",
          "text": [
            "Esto es un texto.\n",
            "Esto es una linea.\n",
            "Esto es otra linea.\n",
            "Esta es la tercer linea.\n",
            "\n"
          ]
        }
      ],
      "source": [
        " f = open(ruta + \"/archivo.txt\", \"r\") #Ahora lo abrimos con permiso de lectura\n",
        "contenido = f.read() #Leemos el archivo gracias a que lo abrimos con permiso de lectura\n",
        "print(contenido)"
      ]
    },
    {
      "cell_type": "code",
      "execution_count": null,
      "metadata": {
        "id": "W90uzaz9eLqZ"
      },
      "outputs": [],
      "source": [
        "f = open(ruta + \"/archivo.txt\", \"w\")\n",
        "f.write(\"\") #Vacio el archivo\n",
        "f.close()\n"
      ]
    },
    {
      "cell_type": "code",
      "execution_count": null,
      "metadata": {
        "id": "89InDTtOg39Y"
      },
      "outputs": [],
      "source": [
        "nombre = \"Jose\"\n",
        "apellido = \"Martinez\"\n",
        "dni = 245353234\n",
        "\n",
        "d = {\"NOMBRE\":nombre, \n",
        "     \"APELLIDO\":apellido, \n",
        "     \"DNI\":dni}\n",
        "\n",
        "f = open(ruta + \"/otro.txt\", \"a\")\n",
        "f.write(d[\"NOMBRE\"] + \",\" +d[\"APELLIDO\"] +\",\" +str(d[\"DNI\"])+\"\\n\")\n",
        "\n",
        "f.close()\n"
      ]
    },
    {
      "cell_type": "code",
      "execution_count": null,
      "metadata": {
        "colab": {
          "base_uri": "https://localhost:8080/"
        },
        "id": "v9JThIZihALX",
        "outputId": "20675f0f-12bd-46a2-b1f5-6daa9907009b"
      },
      "outputs": [
        {
          "output_type": "stream",
          "name": "stdout",
          "text": [
            "Jose,Martinez,245353234\n",
            "Jose,Martinez,245353234\n",
            "\n"
          ]
        }
      ],
      "source": [
        "f = open(ruta + \"/otro.txt\", \"r\")\n",
        "content = f.read()\n",
        "print(content)\n",
        " "
      ]
    },
    {
      "cell_type": "markdown",
      "metadata": {
        "id": "osIAvCmehtNC"
      },
      "source": [
        "\"w\" escritura ' total '   \n",
        "\"r\" lectura   \n",
        "\"a\" escritura desde la última línea\n"
      ]
    },
    {
      "cell_type": "code",
      "execution_count": null,
      "metadata": {
        "id": "TQTq8dELhuPE"
      },
      "outputs": [],
      "source": [
        ""
      ]
    },
    {
      "cell_type": "code",
      "execution_count": null,
      "metadata": {
        "id": "-HDs3Nu8jyOx"
      },
      "outputs": [],
      "source": [
        "#Verificar si un archivo existe, \n",
        "import os\n",
        "file = '/drive/MyDrive/UST - Curso PYTHON/Clase 19 - Manejo de archivos/listado1.txt'\n",
        "if os.path.isfile(file): #Vemos si el archivo existe en la ruta indicada\n",
        "    answer = input('El fichero ' + file + ' ya existe. ¿Desea vaciarlo (S/N)? ')\n",
        "    if answer == 'N': \n",
        "      print('No se ha vaciado el fichero.\\n')\n",
        "    else:\n",
        "      f = open(file, 'w')\n",
        "      f.close()\n",
        "      print(\"Se ha vaciado el fichero\")\n",
        "else:\n",
        "    f = open(file, 'w')\n",
        "    f.close()\n",
        "    print('Se ha creado el fichero.\\n')\n"
      ]
    },
    {
      "cell_type": "code",
      "execution_count": null,
      "metadata": {
        "colab": {
          "base_uri": "https://localhost:8080/"
        },
        "id": "F5G3XKiFj6ug",
        "outputId": "3056eb2a-5f12-4423-df00-182549023f5a"
      },
      "outputs": [
        {
          "output_type": "stream",
          "name": "stdout",
          "text": [
            "Ingrese el nombre del contacto: Esteban\n",
            "Ingrese el teléfono: 444\n",
            "Ingrese el mail del contacto: esteban@yahoo.com\n",
            "quiere agregar otro usuario? s/n :n\n",
            "\n",
            "prueba1,11,prueba1\n",
            "prueba2,22,prueba2\n",
            "prueba3,33,prueba3\n",
            "Nuevo,55,nuevo\n",
            "Domingo,888,Dom88\n",
            "Miercoles,333,miercoles@yahoo.com\n",
            "Josejose,44,olero\n",
            "Diana,555,diana@yahoo.com\n",
            "Domingo,545,ddd\n",
            "Esteban,444,esteban@yahoo.com\n",
            "\n"
          ]
        }
      ],
      "source": [
        "#f = open(ruta + \"/agenda.txt\", \"w\")\n",
        "#f.close()\n",
        "#NO ES NECESARIO LO DE ARRIBA, PORQUE CON a, aunque no exista la base de datos, la crea\n",
        "\n",
        "while True:\n",
        "      nombre = input(\"Ingrese el nombre del contacto: \")\n",
        "      telefono=input(\"Ingrese el teléfono: \")\n",
        "      mail = input(\"Ingrese el mail del contacto: \")\n",
        "      d = {\"NOMBRE\":nombre, \n",
        "     \"TELEFONO\":telefono, \n",
        "     \"MAIL\":mail}\n",
        "      f = open(ruta + \"/agendass.txt\", \"a\")\n",
        "      f.write(d[\"NOMBRE\"] + \",\" +d[\"TELEFONO\"] +\",\" +str(d[\"MAIL\"])+\"\\n\")     \n",
        "      f.close()\n",
        "      rta=input(\"quiere agregar otro usuario? s/n :\")\n",
        "      if rta != \"s\":\n",
        "        break\n",
        "\n",
        "print()\n",
        "f = open(ruta + \"/agendass.txt\", \"r\")  \n",
        "contenido = f.read()  \n",
        "print(contenido)\n",
        "\n",
        " "
      ]
    },
    {
      "cell_type": "code",
      "source": [
        "f = open(ruta + \"/agendass.txt\", \"r\")  \n",
        "contenido = f.read()  \n",
        "agenda=[]\n",
        "agenda.append(contenido.split(sep='\\n'))\n",
        "\n",
        "contacto = \"Diana\"\n",
        "n=0\n",
        "\n",
        "while True:\n",
        "  #for x in (agenda):\n",
        "    if (contacto in agenda[0][n]):\n",
        "      print(agenda[0][n])\n",
        "      break\n",
        "    n +=1\n",
        "\n",
        "print()\n",
        "print(agenda[0][4])\n",
        "print()\n",
        " "
      ],
      "metadata": {
        "colab": {
          "base_uri": "https://localhost:8080/"
        },
        "id": "Oxa5UoPNPJ7h",
        "outputId": "8e018a00-4cad-4371-be86-598d3931e260"
      },
      "execution_count": 117,
      "outputs": [
        {
          "output_type": "stream",
          "name": "stdout",
          "text": [
            "Diana,555,diana@yahoo.com\n",
            "\n",
            "Domingo,888,Dom88\n",
            "\n"
          ]
        }
      ]
    },
    {
      "cell_type": "code",
      "source": [
        "client = input(\"Que telefono esta buscando? \")\n",
        " \n",
        " #try: \n",
        "f = open(ruta + \"/agendass.txt\", \"r\")  \n",
        "    #except FileNotFoundError:\n",
        "     #   return('¡El fichero ' + agendass.txt + ' no existe!\\n')\n",
        "  #  else:\n",
        "directory = f.readlines()\n",
        "f.close()\n",
        "listado_telefonos = {}\n",
        "\n",
        "for line in directory:\n",
        "  nombre, telefono, mail = line.split(',')\n",
        "  listado_telefonos[nombre] = telefono\n",
        "  print(listado_telefonos)\n",
        "\n",
        "  if client in listado_telefonos:\n",
        "    print(listado_telefonos[client])\n",
        "  else:\n",
        "    print('¡El cliente ' + nombre + ' no existe!\\n')"
      ],
      "metadata": {
        "colab": {
          "base_uri": "https://localhost:8080/"
        },
        "id": "Eo9Bsp4DJ_4q",
        "outputId": "166aee44-29c5-4625-92d5-b11f52a73398"
      },
      "execution_count": null,
      "outputs": [
        {
          "output_type": "stream",
          "name": "stdout",
          "text": [
            "Que telefono esta buscando? Nuevo\n",
            "{'prueba1': '11'}\n",
            "¡El cliente prueba1 no existe!\n",
            "\n",
            "{'prueba1': '11', 'prueba2': '22'}\n",
            "¡El cliente prueba2 no existe!\n",
            "\n",
            "{'prueba1': '11', 'prueba2': '22', 'prueba3': '33'}\n",
            "¡El cliente prueba3 no existe!\n",
            "\n",
            "{'prueba1': '11', 'prueba2': '22', 'prueba3': '33', 'Nuevo': '55'}\n",
            "55\n",
            "{'prueba1': '11', 'prueba2': '22', 'prueba3': '33', 'Nuevo': '55', 'Domingo': '888'}\n",
            "55\n",
            "{'prueba1': '11', 'prueba2': '22', 'prueba3': '33', 'Nuevo': '55', 'Domingo': '888', 'Miercoles': '333'}\n",
            "55\n",
            "{'prueba1': '11', 'prueba2': '22', 'prueba3': '33', 'Nuevo': '55', 'Domingo': '888', 'Miercoles': '333', 'Josejose': '44'}\n",
            "55\n",
            "{'prueba1': '11', 'prueba2': '22', 'prueba3': '33', 'Nuevo': '55', 'Domingo': '888', 'Miercoles': '333', 'Josejose': '44', 'Diana': '555'}\n",
            "55\n",
            "{'prueba1': '11', 'prueba2': '22', 'prueba3': '33', 'Nuevo': '55', 'Domingo': '545', 'Miercoles': '333', 'Josejose': '44', 'Diana': '555'}\n",
            "55\n",
            "{'prueba1': '11', 'prueba2': '22', 'prueba3': '33', 'Nuevo': '55', 'Domingo': '545', 'Miercoles': '333', 'Josejose': '44', 'Diana': '555', 'Esteban': '444'}\n",
            "55\n"
          ]
        }
      ]
    },
    {
      "cell_type": "code",
      "execution_count": null,
      "metadata": {
        "id": "V9p2Z8Vp_j1Z"
      },
      "outputs": [],
      "source": [
        "f = open(ruta + \"/agendass.txt\", \"r\")  \n",
        "contenido = f.read()  \n",
        "print(contenido)\n",
        "\n"
      ]
    },
    {
      "cell_type": "code",
      "execution_count": null,
      "metadata": {
        "colab": {
          "base_uri": "https://localhost:8080/"
        },
        "id": "HahEGDM719Gc",
        "outputId": "a637345f-2bec-4c34-aa31-c671f17ccaca"
      },
      "outputs": [
        {
          "name": "stdout",
          "output_type": "stream",
          "text": [
            "miguel,22,mi\n",
            "\n"
          ]
        }
      ],
      "source": [
        "f = open(ruta + \"/prueba.txt\", \"r\")  \n",
        "contenido = f.read()  \n",
        "print(contenido)"
      ]
    },
    {
      "cell_type": "code",
      "execution_count": null,
      "metadata": {
        "colab": {
          "base_uri": "https://localhost:8080/",
          "height": 35
        },
        "id": "wcwBc9Fbj2Xe",
        "outputId": "1d4ee521-a3d2-494a-d0d9-fb0f03f91034"
      },
      "outputs": [
        {
          "data": {
            "application/vnd.google.colaboratory.intrinsic+json": {
              "type": "string"
            },
            "text/plain": [
              "'/drive/MyDrive/Base de Datos'"
            ]
          },
          "execution_count": 8,
          "metadata": {},
          "output_type": "execute_result"
        }
      ],
      "source": [
        "ruta"
      ]
    },
    {
      "cell_type": "code",
      "execution_count": null,
      "metadata": {
        "colab": {
          "base_uri": "https://localhost:8080/"
        },
        "id": "tL2_oCdGLlfH",
        "outputId": "3b20427d-c78e-436e-80fa-87ded78f5858"
      },
      "outputs": [
        {
          "output_type": "stream",
          "name": "stdout",
          "text": [
            "{'clients': [{'first_name': 'Sigrid', 'last_name': 'Mannock', 'age': 27, 'amount': 7.17}, {'first_name': 'Joe', 'last_name': 'Hinners', 'age': 31, 'amount': [1.9, 5.5]}, {'first_name': 'Theodoric', 'last_name': 'Rivers', 'age': 36, 'amount': 1.11}]}\n"
          ]
        }
      ],
      "source": [
        "import json  #Importar las funciones de json en la \n",
        "\n",
        "data = {}\n",
        "\n",
        "data['clients'] = []\n",
        "\n",
        "data['clients'].append({\n",
        "    'first_name': 'Sigrid',\n",
        "    'last_name': 'Mannock',\n",
        "    'age': 27,\n",
        "    'amount': 7.17})\n",
        "\n",
        "data['clients'].append({\n",
        "    'first_name': 'Joe',\n",
        "    'last_name': 'Hinners',\n",
        "    'age': 31,\n",
        "    'amount': [1.90, 5.50]})\n",
        "\n",
        "data['clients'].append({\n",
        "    'first_name': 'Theodoric',\n",
        "    'last_name': 'Rivers',\n",
        "    'age': 36,\n",
        "    'amount': 1.11})\n",
        "\n",
        "print(data) #Un diccionario con clave clients y valor tiene una lista con diccionarios."
      ]
    },
    {
      "cell_type": "code",
      "execution_count": null,
      "metadata": {
        "id": "zk_rnOZYLrk6"
      },
      "outputs": [],
      "source": [
        "with open(ruta + \"/primerJson.json\", 'w') as file:\n",
        "    json.dump(data, file, indent=4)"
      ]
    },
    {
      "cell_type": "code",
      "execution_count": null,
      "metadata": {
        "colab": {
          "base_uri": "https://localhost:8080/",
          "height": 87
        },
        "id": "KjzKaf0-Lvp1",
        "outputId": "d22931cc-7810-4c1c-e8b0-26b65985da25"
      },
      "outputs": [
        {
          "output_type": "execute_result",
          "data": {
            "text/plain": [
              "'{\\n    \"clients\": [\\n        {\\n            \"first_name\": \"Sigrid\",\\n            \"last_name\": \"Mannock\",\\n            \"age\": 27,\\n            \"amount\": 7.17\\n        },\\n        {\\n            \"first_name\": \"Joe\",\\n            \"last_name\": \"Hinners\",\\n            \"age\": 31,\\n            \"amount\": [\\n                1.9,\\n                5.5\\n            ]\\n        },\\n        {\\n            \"first_name\": \"Theodoric\",\\n            \"last_name\": \"Rivers\",\\n            \"age\": 36,\\n            \"amount\": 1.11\\n        }\\n    ]\\n}'"
            ],
            "application/vnd.google.colaboratory.intrinsic+json": {
              "type": "string"
            }
          },
          "metadata": {},
          "execution_count": 7
        }
      ],
      "source": [
        "f = open(ruta + \"/primerJson.json\", \"r\")\n",
        "f.read()"
      ]
    },
    {
      "cell_type": "code",
      "execution_count": null,
      "metadata": {
        "colab": {
          "base_uri": "https://localhost:8080/"
        },
        "id": "Bj-KMB38LxNR",
        "outputId": "bd8c7f1d-3548-49b5-f042-7ed177043e82"
      },
      "outputs": [
        {
          "output_type": "stream",
          "name": "stdout",
          "text": [
            "First name: Sigrid\n",
            "Last name: Mannock\n",
            "Age: 27\n",
            "Amount: 7.17\n",
            "\n",
            "First name: Joe\n",
            "Last name: Hinners\n",
            "Age: 31\n",
            "Amount: [1.9, 5.5]\n",
            "\n",
            "First name: Theodoric\n",
            "Last name: Rivers\n",
            "Age: 36\n",
            "Amount: 1.11\n",
            "\n"
          ]
        }
      ],
      "source": [
        "with open(ruta + \"/primerJson.json\") as file:\n",
        "\n",
        "    dataLectura = json.load(file)\n",
        "    #print(dataLectura)\n",
        "    \n",
        "    for client in dataLectura['clients']:\n",
        "        print('First name:', client['first_name'])\n",
        "        print('Last name:', client['last_name'])\n",
        "        print('Age:', client['age'])\n",
        "        print('Amount:', client['amount'])\n",
        "        print('')"
      ]
    },
    {
      "cell_type": "code",
      "execution_count": null,
      "metadata": {
        "colab": {
          "base_uri": "https://localhost:8080/"
        },
        "id": "8pt3-D8DL8Ic",
        "outputId": "8459690d-5a25-4eda-ef53-edc862425f60"
      },
      "outputs": [
        {
          "data": {
            "text/plain": [
              "{'clients': [{'age': 27,\n",
              "   'amount': 7.17,\n",
              "   'first_name': 'Sigrid',\n",
              "   'last_name': 'Mannock'},\n",
              "  {'age': 31,\n",
              "   'amount': [1.9, 5.5],\n",
              "   'first_name': 'Joe',\n",
              "   'last_name': 'Hinners'},\n",
              "  {'age': 36,\n",
              "   'amount': 1.11,\n",
              "   'first_name': 'Theodoric',\n",
              "   'last_name': 'Rivers'}]}"
            ]
          },
          "execution_count": 13,
          "metadata": {},
          "output_type": "execute_result"
        }
      ],
      "source": [
        "dataLectura "
      ]
    },
    {
      "cell_type": "code",
      "execution_count": null,
      "metadata": {
        "id": "V80fMHchUPo7"
      },
      "outputs": [],
      "source": [
        ""
      ]
    },
    {
      "cell_type": "code",
      "execution_count": null,
      "metadata": {
        "colab": {
          "base_uri": "https://localhost:8080/"
        },
        "id": "wYPjZia0L-K2",
        "outputId": "a1f97c2b-e008-4b3e-e924-3bc5d1769865"
      },
      "outputs": [
        {
          "output_type": "stream",
          "name": "stdout",
          "text": [
            "[{'Mail': 'ddd', 'Nombre': 'Saaaa', 'Telefono': '444'},\n",
            " {'Mail': 'bbb', 'Nombre': 'bbb', 'Telefono': '444'},\n",
            " {'Mail': 'ddddd', 'Nombre': 'Domingo', 'Telefono': '444'},\n",
            " {'Mail': 'ddd', 'Nombre': 'bbb', 'Telefono': '555'}]\n",
            "Ingrese el nombre del contacto: Ultimo\n",
            "Ingrese el teléfono: 444\n",
            "Ingrese el mail del contacto: ddd\n",
            "\n",
            "DATOS DEL OBJETO data:\n",
            "[{'Mail': 'ddd', 'Nombre': 'Saaaa', 'Telefono': '444'},\n",
            " {'Mail': 'bbb', 'Nombre': 'bbb', 'Telefono': '444'},\n",
            " {'Mail': 'ddddd', 'Nombre': 'Domingo', 'Telefono': '444'},\n",
            " {'Mail': 'ddd', 'Nombre': 'bbb', 'Telefono': '555'},\n",
            " {'Mail': 'ddd', 'Nombre': 'Ultimo', 'Telefono': '444'}]\n",
            "\n",
            "¿Quiere agregar otro usuario? s/n: n\n",
            "\n",
            "¿Desea grabar? s/n: s\n",
            "\n",
            "CONTENIDO DEL ARCHIVO JSON\n",
            "[{'Mail': 'ddd', 'Nombre': 'Saaaa', 'Telefono': '444'},\n",
            " {'Mail': 'bbb', 'Nombre': 'bbb', 'Telefono': '444'},\n",
            " {'Mail': 'ddddd', 'Nombre': 'Domingo', 'Telefono': '444'},\n",
            " {'Mail': 'ddd', 'Nombre': 'bbb', 'Telefono': '555'},\n",
            " {'Mail': 'ddd', 'Nombre': 'Ultimo', 'Telefono': '444'}]\n"
          ]
        }
      ],
      "source": [
        "\n",
        "import json\n",
        "from pprint import pprint as pp\n",
        "\n",
        "data= []\n",
        "\n",
        "try:\n",
        "    with open(\"agenda_nueva.json\", \"r\") as file:\n",
        "        data = json.load(file)\n",
        "        pp(data)\n",
        "except Exception as e:\n",
        "    print(e)\n",
        "    print()\n",
        "\n",
        "\n",
        "while True:\n",
        "    nombre = input(\"Ingrese el nombre del contacto: \")\n",
        "    telefono = input(\"Ingrese el teléfono: \")\n",
        "    mail = input(\"Ingrese el mail del contacto: \")\n",
        "    data.append({\"Nombre\": nombre, \"Telefono\": telefono, \"Mail\": mail})\n",
        "    print(\"\\nDATOS DEL OBJETO data:\")\n",
        "    pp(data)\n",
        "\n",
        "    # json.dumps(data)  # dumps (no dump) , convierte (serializa) un objeto Python en un objeto Json\n",
        "    # print(\"\\nDATOS DEL data serializado json:\")\n",
        "    # print(data)\n",
        "\n",
        "    rta = input(\"\\n¿Quiere agregar otro usuario? s/n: \")\n",
        "    if rta.lower() not in (\"s\", \"si\", \"sí\"):\n",
        "        break\n",
        "\n",
        "rta = input(\"\\n¿Desea grabar? s/n: \")\n",
        "if rta.lower() not in (\"s\", \"si\", \"sí\"):\n",
        "    exit()\n",
        "\n",
        "with open(\"agenda_nueva.json\", \"w\") as file:\n",
        "    json.dump(data, file)\n",
        "\n",
        "with open(\"agenda_nueva.json\", \"r\") as file:\n",
        "    data = json.load(file)\n",
        "    print(\"\\nCONTENIDO DEL ARCHIVO JSON\")\n",
        "    pp(data)"
      ]
    },
    {
      "cell_type": "code",
      "source": [
        "with open(ruta + \"/agenda_nueva.json\") as file:\n",
        "\n",
        "    dataLectura = json.load(file)\n",
        "    #print(dataLectura)\n",
        "    \n",
        "    for client in dataLectura['clients']:\n",
        "        print('nombre:', client['nombre'])\n",
        "        print('telefono:', client['telefono'])\n",
        "        print('mail:', client['mail'])\n",
        "        print('')"
      ],
      "metadata": {
        "colab": {
          "base_uri": "https://localhost:8080/",
          "height": 390
        },
        "id": "Jqvy_U22w_8J",
        "outputId": "a4025655-56ae-4ff3-acac-3c81903f371e"
      },
      "execution_count": null,
      "outputs": [
        {
          "output_type": "error",
          "ename": "JSONDecodeError",
          "evalue": "ignored",
          "traceback": [
            "\u001b[0;31m---------------------------------------------------------------------------\u001b[0m",
            "\u001b[0;31mJSONDecodeError\u001b[0m                           Traceback (most recent call last)",
            "\u001b[0;32m<ipython-input-14-6460be30be62>\u001b[0m in \u001b[0;36m<module>\u001b[0;34m()\u001b[0m\n\u001b[1;32m      1\u001b[0m \u001b[0;32mwith\u001b[0m \u001b[0mopen\u001b[0m\u001b[0;34m(\u001b[0m\u001b[0mruta\u001b[0m \u001b[0;34m+\u001b[0m \u001b[0;34m\"/agenda_nueva.json\"\u001b[0m\u001b[0;34m)\u001b[0m \u001b[0;32mas\u001b[0m \u001b[0mfile\u001b[0m\u001b[0;34m:\u001b[0m\u001b[0;34m\u001b[0m\u001b[0;34m\u001b[0m\u001b[0m\n\u001b[1;32m      2\u001b[0m \u001b[0;34m\u001b[0m\u001b[0m\n\u001b[0;32m----> 3\u001b[0;31m     \u001b[0mdataLectura\u001b[0m \u001b[0;34m=\u001b[0m \u001b[0mjson\u001b[0m\u001b[0;34m.\u001b[0m\u001b[0mload\u001b[0m\u001b[0;34m(\u001b[0m\u001b[0mfile\u001b[0m\u001b[0;34m)\u001b[0m\u001b[0;34m\u001b[0m\u001b[0;34m\u001b[0m\u001b[0m\n\u001b[0m\u001b[1;32m      4\u001b[0m     \u001b[0;31m#print(dataLectura)\u001b[0m\u001b[0;34m\u001b[0m\u001b[0;34m\u001b[0m\u001b[0;34m\u001b[0m\u001b[0m\n\u001b[1;32m      5\u001b[0m \u001b[0;34m\u001b[0m\u001b[0m\n",
            "\u001b[0;32m/usr/lib/python3.7/json/__init__.py\u001b[0m in \u001b[0;36mload\u001b[0;34m(fp, cls, object_hook, parse_float, parse_int, parse_constant, object_pairs_hook, **kw)\u001b[0m\n\u001b[1;32m    294\u001b[0m         \u001b[0mcls\u001b[0m\u001b[0;34m=\u001b[0m\u001b[0mcls\u001b[0m\u001b[0;34m,\u001b[0m \u001b[0mobject_hook\u001b[0m\u001b[0;34m=\u001b[0m\u001b[0mobject_hook\u001b[0m\u001b[0;34m,\u001b[0m\u001b[0;34m\u001b[0m\u001b[0;34m\u001b[0m\u001b[0m\n\u001b[1;32m    295\u001b[0m         \u001b[0mparse_float\u001b[0m\u001b[0;34m=\u001b[0m\u001b[0mparse_float\u001b[0m\u001b[0;34m,\u001b[0m \u001b[0mparse_int\u001b[0m\u001b[0;34m=\u001b[0m\u001b[0mparse_int\u001b[0m\u001b[0;34m,\u001b[0m\u001b[0;34m\u001b[0m\u001b[0;34m\u001b[0m\u001b[0m\n\u001b[0;32m--> 296\u001b[0;31m         parse_constant=parse_constant, object_pairs_hook=object_pairs_hook, **kw)\n\u001b[0m\u001b[1;32m    297\u001b[0m \u001b[0;34m\u001b[0m\u001b[0m\n\u001b[1;32m    298\u001b[0m \u001b[0;34m\u001b[0m\u001b[0m\n",
            "\u001b[0;32m/usr/lib/python3.7/json/__init__.py\u001b[0m in \u001b[0;36mloads\u001b[0;34m(s, encoding, cls, object_hook, parse_float, parse_int, parse_constant, object_pairs_hook, **kw)\u001b[0m\n\u001b[1;32m    346\u001b[0m             \u001b[0mparse_int\u001b[0m \u001b[0;32mis\u001b[0m \u001b[0;32mNone\u001b[0m \u001b[0;32mand\u001b[0m \u001b[0mparse_float\u001b[0m \u001b[0;32mis\u001b[0m \u001b[0;32mNone\u001b[0m \u001b[0;32mand\u001b[0m\u001b[0;34m\u001b[0m\u001b[0;34m\u001b[0m\u001b[0m\n\u001b[1;32m    347\u001b[0m             parse_constant is None and object_pairs_hook is None and not kw):\n\u001b[0;32m--> 348\u001b[0;31m         \u001b[0;32mreturn\u001b[0m \u001b[0m_default_decoder\u001b[0m\u001b[0;34m.\u001b[0m\u001b[0mdecode\u001b[0m\u001b[0;34m(\u001b[0m\u001b[0ms\u001b[0m\u001b[0;34m)\u001b[0m\u001b[0;34m\u001b[0m\u001b[0;34m\u001b[0m\u001b[0m\n\u001b[0m\u001b[1;32m    349\u001b[0m     \u001b[0;32mif\u001b[0m \u001b[0mcls\u001b[0m \u001b[0;32mis\u001b[0m \u001b[0;32mNone\u001b[0m\u001b[0;34m:\u001b[0m\u001b[0;34m\u001b[0m\u001b[0;34m\u001b[0m\u001b[0m\n\u001b[1;32m    350\u001b[0m         \u001b[0mcls\u001b[0m \u001b[0;34m=\u001b[0m \u001b[0mJSONDecoder\u001b[0m\u001b[0;34m\u001b[0m\u001b[0;34m\u001b[0m\u001b[0m\n",
            "\u001b[0;32m/usr/lib/python3.7/json/decoder.py\u001b[0m in \u001b[0;36mdecode\u001b[0;34m(self, s, _w)\u001b[0m\n\u001b[1;32m    338\u001b[0m         \u001b[0mend\u001b[0m \u001b[0;34m=\u001b[0m \u001b[0m_w\u001b[0m\u001b[0;34m(\u001b[0m\u001b[0ms\u001b[0m\u001b[0;34m,\u001b[0m \u001b[0mend\u001b[0m\u001b[0;34m)\u001b[0m\u001b[0;34m.\u001b[0m\u001b[0mend\u001b[0m\u001b[0;34m(\u001b[0m\u001b[0;34m)\u001b[0m\u001b[0;34m\u001b[0m\u001b[0;34m\u001b[0m\u001b[0m\n\u001b[1;32m    339\u001b[0m         \u001b[0;32mif\u001b[0m \u001b[0mend\u001b[0m \u001b[0;34m!=\u001b[0m \u001b[0mlen\u001b[0m\u001b[0;34m(\u001b[0m\u001b[0ms\u001b[0m\u001b[0;34m)\u001b[0m\u001b[0;34m:\u001b[0m\u001b[0;34m\u001b[0m\u001b[0;34m\u001b[0m\u001b[0m\n\u001b[0;32m--> 340\u001b[0;31m             \u001b[0;32mraise\u001b[0m \u001b[0mJSONDecodeError\u001b[0m\u001b[0;34m(\u001b[0m\u001b[0;34m\"Extra data\"\u001b[0m\u001b[0;34m,\u001b[0m \u001b[0ms\u001b[0m\u001b[0;34m,\u001b[0m \u001b[0mend\u001b[0m\u001b[0;34m)\u001b[0m\u001b[0;34m\u001b[0m\u001b[0;34m\u001b[0m\u001b[0m\n\u001b[0m\u001b[1;32m    341\u001b[0m         \u001b[0;32mreturn\u001b[0m \u001b[0mobj\u001b[0m\u001b[0;34m\u001b[0m\u001b[0;34m\u001b[0m\u001b[0m\n\u001b[1;32m    342\u001b[0m \u001b[0;34m\u001b[0m\u001b[0m\n",
            "\u001b[0;31mJSONDecodeError\u001b[0m: Extra data: line 9 column 2 (char 133)"
          ]
        }
      ]
    },
    {
      "cell_type": "code",
      "execution_count": null,
      "metadata": {
        "id": "idXE8uV-Zdf4"
      },
      "outputs": [],
      "source": [
        "def get_phone(file, client):\n",
        "    '''\n",
        "    Función que devuelve el teléfono de un cliente de un fichero dado.\n",
        "    Parámetros:\n",
        "        file: Es un fichero con los nombres y teléfonos de clientes.\n",
        "        client: Es una cadena con el nombre del cliente.\n",
        "    Devuelve:\n",
        "        El teléfono del cliente guardado en el fichero o un mensaje de error si el teléfono o el fichero no existe.\n",
        "    '''\n",
        "    try: \n",
        "        f = open(file, 'r')\n",
        "    except FileNotFoundError:\n",
        "        return('¡El fichero ' + file + ' no existe!\\n')\n",
        "    else:\n",
        "        directory = f.readlines()\n",
        "        f.close()\n",
        "        listado_telefonos = {}\n",
        "        for line in directory:\n",
        "          nom, tel = line.split(',')\n",
        "          listado_telefonos[nom] = tel\n",
        "        if client in listado_telefonos:\n",
        "            return listado_telefonos[client]\n",
        "        else:\n",
        "            return('¡El cliente ' + client + ' no existe!\\n')\n",
        "\n",
        "\n",
        "def add_phone(file, client, telf):\n",
        "    '''\n",
        "    Función que añade el teléfono de un cliente de un fichero dado.\n",
        "    Parámetros:\n",
        "        file: Es un fichero con los nombres y teléfonos de clientes.\n",
        "        client: Es una cadena con el nombre del cliente.\n",
        "        telf: Es una cadena con el teléfono del cliente.\n",
        "    Devuelve:\n",
        "        Un mesaje informando sobre si el teléfono se ha añadido o ha habido algún problema.\n",
        "    '''\n",
        "    try: \n",
        "        f = open(file, 'a')\n",
        "    except FileNotFoundError:\n",
        "        return('¡El fichero ' + file + ' no existe!\\n')\n",
        "    else:\n",
        "        f.write(client + ',' + telf + '\\n')\n",
        "        f.close()\n",
        "        return('El teléfono se ha añadido.\\n')\n",
        "\n",
        "def remove_phone(file, client):\n",
        "    '''\n",
        "    Función que elimina el teléfono de un cliente de un fichero dado.\n",
        "    Parámetros:\n",
        "        file: Es un fichero con los nombres y teléfonos de clientes.\n",
        "        client: Es una cadena con el nombre del cliente.\n",
        "    Devuelve:\n",
        "        Un mesaje informando sobre si el teléfono se ha borrado o ha habido algún problema.\n",
        "    '''\n",
        "    try: \n",
        "        f = open(file, 'r')\n",
        "    except FileNotFoundError:\n",
        "        return('¡El fichero ' + file + ' no existe!\\n')\n",
        "    else:\n",
        "        directory = f.readlines()\n",
        "        f.close()\n",
        "        listado_telefonos = {}\n",
        "        \n",
        "        for line in directory:\n",
        "          nom, tel = line.split(',')\n",
        "          listado_telefonos[nom] = tel\n",
        "          \n",
        "        if client in listado_telefonos:\n",
        "            del listado_telefonos[client]\n",
        "            f = open(file, 'w')\n",
        "            for name, telf in listado_telefonos.items():\n",
        "                f.write(name + ',' + telf)\n",
        "            f.close()\n",
        "            return ('¡El cliente se ha borrado!\\n')\n",
        "        else:\n",
        "            return('¡El cliente ' + client + ' no existe!\\n')\n",
        "\n",
        "\n",
        "def create_directory(file):\n",
        "    '''\n",
        "    Función que crea un fichero vacío para guardar un listín telefónico.\n",
        "    Parámetros:\n",
        "        file: Es un fichero.\n",
        "    Devuelve:\n",
        "        Un mesaje informando sobre si el fichero se ha creado correctamente o no.\n",
        "    '''\n",
        "    import os\n",
        "    if os.path.isfile(file):\n",
        "        answer = input('El fichero ' + file + ' ya existe. ¿Desea vaciarlo (S/N)? ')\n",
        "        if answer == 'N': \n",
        "            return 'No se ha creado el fichero porque ya existe.\\n'\n",
        "    f = open(file, 'w')\n",
        "    f.close()\n",
        "    return 'Se ha creado el fichero.\\n'\n",
        "     \n",
        "\n",
        "def menu():\n",
        "    '''\n",
        "    Función que presenta un menú con las operaciones disponibles sobre un listín telefónico y devuelve la opción seleccionada por el usuario.\n",
        "    Devuelve:\n",
        "        La opción seleccionada por el usuario.\n",
        "    '''\n",
        "    print('Gesión del listín telefónico')\n",
        "    print('============================')\n",
        "    print('1 - Consultar un teléfono')\n",
        "    print('2 - Añadir un teléfono')\n",
        "    print('3 - Eliminar un teléfono')\n",
        "    print('4 - Crear el listín')\n",
        "    print('0 - Terminar')\n",
        "    option = input('Introduzca el número de la opción deseada: ')\n",
        "    return option\n",
        "\n",
        "\n",
        "def directory():\n",
        "    '''\n",
        "    Función que lanza la aplicación para la gestión del listín telefónico.\n",
        "    '''\n",
        "    file = 'listin.txt' \n",
        "    while True:\n",
        "        option = menu()\n",
        "        if option == '1':\n",
        "            name = input('Introduce el nombre del cliente: ')\n",
        "            print(get_phone(file, name))\n",
        "        elif option == '2':\n",
        "            name = input('Introduce el nombre del cliente: ')\n",
        "            telf = input('Introduce el teléfono del cliente: ')\n",
        "            print(add_phone(file, name, telf))\n",
        "        elif option == '3':\n",
        "            name = input('Introduce el nombre del cliente: ')\n",
        "            print(remove_phone(file, name))\n",
        "        elif option == '4':\n",
        "            print(create_directory(file))\n",
        "        else:\n",
        "            break\n",
        "    return\n",
        "\n",
        "directory()\n"
      ]
    }
  ],
  "metadata": {
    "colab": {
      "collapsed_sections": [],
      "name": "Base de Datos en archivo.ipynb",
      "provenance": [],
      "authorship_tag": "ABX9TyP0vh/oFEqY2YGmTZpGnYGv",
      "include_colab_link": true
    },
    "kernelspec": {
      "display_name": "Python 3",
      "name": "python3"
    },
    "language_info": {
      "name": "python"
    }
  },
  "nbformat": 4,
  "nbformat_minor": 0
}