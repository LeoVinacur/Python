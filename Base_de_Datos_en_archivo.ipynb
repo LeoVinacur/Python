{
  "nbformat": 4,
  "nbformat_minor": 0,
  "metadata": {
    "colab": {
      "name": "Base de Datos en archivo.ipynb",
      "provenance": [],
      "collapsed_sections": [],
      "authorship_tag": "ABX9TyN9hIpNkxHqya+vypMPzXRX",
      "include_colab_link": true
    },
    "kernelspec": {
      "name": "python3",
      "display_name": "Python 3"
    },
    "language_info": {
      "name": "python"
    }
  },
  "cells": [
    {
      "cell_type": "markdown",
      "metadata": {
        "id": "view-in-github",
        "colab_type": "text"
      },
      "source": [
        "<a href=\"https://colab.research.google.com/github/LeoVinacur/Python/blob/main/Base_de_Datos_en_archivo.ipynb\" target=\"_parent\"><img src=\"https://colab.research.google.com/assets/colab-badge.svg\" alt=\"Open In Colab\"/></a>"
      ]
    },
    {
      "cell_type": "code",
      "execution_count": 10,
      "metadata": {
        "colab": {
          "base_uri": "https://localhost:8080/"
        },
        "id": "MixURYrWaI_s",
        "outputId": "0c687f26-09a2-4e16-c547-c59f24910dfa"
      },
      "outputs": [
        {
          "output_type": "stream",
          "name": "stdout",
          "text": [
            "Drive already mounted at /drive/; to attempt to forcibly remount, call drive.mount(\"/drive/\", force_remount=True).\n"
          ]
        }
      ],
      "source": [
        "from google.colab import drive\n",
        "drive.mount(\"/drive/\")"
      ]
    },
    {
      "cell_type": "code",
      "source": [
        "ruta = \"/drive/MyDrive/Base de Datos\""
      ],
      "metadata": {
        "id": "A6F8OzQidKxd"
      },
      "execution_count": 11,
      "outputs": []
    },
    {
      "cell_type": "code",
      "source": [
        "f = open(ruta + \"/archivo.txt\", \"w\") #w significa dar permiso de escritura, solo podemos seleccionar un metodo de lectura/escritura\n",
        "f.write(\"Esto es un texto.\\n\") #gracias a que tenemos permiso de escritura podemos ejecutar este metodo que me permite escribir sobre el archivo \n",
        "f.write(\"Esto es una linea.\\n\") # Nótese el uso del carácter '\\n' para indicar el salto de línea.\n",
        "f.write(\"Esto es otra linea.\\n\")\n",
        "f.write(\"Esta es la tercer linea.\\n\")\n",
        "f.close() #Cerramos el archivo\n"
      ],
      "metadata": {
        "id": "qo6w8ZvEdWAK"
      },
      "execution_count": 12,
      "outputs": []
    },
    {
      "cell_type": "code",
      "source": [
        " f = open(ruta + \"/archivo.txt\", \"r\") #Ahora lo abrimos con permiso de lectura\n",
        "contenido = f.read() #Leemos el archivo gracias a que lo abrimos con permiso de lectura\n",
        "print(contenido)\n"
      ],
      "metadata": {
        "colab": {
          "base_uri": "https://localhost:8080/"
        },
        "id": "xW_ynZfqcPYo",
        "outputId": "4ec402d5-3c6b-4f90-f13e-3baf7d4d276a"
      },
      "execution_count": 13,
      "outputs": [
        {
          "output_type": "stream",
          "name": "stdout",
          "text": [
            "Esto es un texto.\n",
            "Esto es una linea.\n",
            "Esto es otra linea.\n",
            "Esta es la tercer linea.\n",
            "\n"
          ]
        }
      ]
    },
    {
      "cell_type": "code",
      "source": [
        "f = open(ruta + \"/archivo.txt\", \"w\")\n",
        "f.write(\"\") #Vacio el archivo\n",
        "f.close()\n"
      ],
      "metadata": {
        "id": "W90uzaz9eLqZ"
      },
      "execution_count": null,
      "outputs": []
    },
    {
      "cell_type": "code",
      "source": [
        "nombre = \"Jose\"\n",
        "apellido = \"Martinez\"\n",
        "dni = 245353234\n",
        "\n",
        "d = {\"NOMBRE\":nombre, \n",
        "     \"APELLIDO\":apellido, \n",
        "     \"DNI\":dni}\n",
        "\n",
        "f = open(ruta + \"/otro.txt\", \"a\")\n",
        "f.write(d[\"NOMBRE\"] + \",\" +d[\"APELLIDO\"] +\",\" +str(d[\"DNI\"])+\"\\n\")\n",
        "\n",
        "f.close()\n"
      ],
      "metadata": {
        "id": "89InDTtOg39Y"
      },
      "execution_count": 14,
      "outputs": []
    },
    {
      "cell_type": "code",
      "source": [
        "f = open(ruta + \"/otro.txt\", \"r\")\n",
        "content = f.read()\n",
        "print(content)\n",
        " "
      ],
      "metadata": {
        "colab": {
          "base_uri": "https://localhost:8080/"
        },
        "id": "v9JThIZihALX",
        "outputId": "cf8d1806-1fd6-4913-d9bb-1da93deb092d"
      },
      "execution_count": 15,
      "outputs": [
        {
          "output_type": "stream",
          "name": "stdout",
          "text": [
            "Jose,Martinez,245353234\n",
            "\n"
          ]
        }
      ]
    },
    {
      "cell_type": "markdown",
      "source": [
        "\"w\" escritura ' total '   \n",
        "\"r\" lectura   \n",
        "\"a\" escritura desde la última línea\n"
      ],
      "metadata": {
        "id": "osIAvCmehtNC"
      }
    },
    {
      "cell_type": "code",
      "source": [
        ""
      ],
      "metadata": {
        "id": "TQTq8dELhuPE"
      },
      "execution_count": null,
      "outputs": []
    },
    {
      "cell_type": "code",
      "source": [
        "#Verificar si un archivo existe, \n",
        "import os\n",
        "file = '/drive/MyDrive/UST - Curso PYTHON/Clase 19 - Manejo de archivos/listado1.txt'\n",
        "if os.path.isfile(file): #Vemos si el archivo existe en la ruta indicada\n",
        "    answer = input('El fichero ' + file + ' ya existe. ¿Desea vaciarlo (S/N)? ')\n",
        "    if answer == 'N': \n",
        "      print('No se ha vaciado el fichero.\\n')\n",
        "    else:\n",
        "      f = open(file, 'w')\n",
        "      f.close()\n",
        "      print(\"Se ha vaciado el fichero\")\n",
        "else:\n",
        "    f = open(file, 'w')\n",
        "    f.close()\n",
        "    print('Se ha creado el fichero.\\n')\n"
      ],
      "metadata": {
        "id": "-HDs3Nu8jyOx"
      },
      "execution_count": null,
      "outputs": []
    },
    {
      "cell_type": "code",
      "source": [
        "f = open(ruta + \"/agenda.txt\", \"w\")\n",
        "f.close()\n",
        "\n",
        "d = {\"NOMBRE\":nombre, \n",
        "     \"TELEFONO\":telefono, \n",
        "     \"MAIL\":mail}\n",
        "\n",
        "while True:\n",
        "      nombre = input(\"Ingrese el nombre del contacto: \")\n",
        "      telefono=input(\"Ingrese el teléfono: \")\n",
        "      mail = input(\"Ingrese el mail del contacto: \")\n",
        "      f = open(ruta + \"/agenda.txt\", \"a\")\n",
        "      f.write(d[\"NOMBRE\"] + \",\" +d[\"TELEFONO\"] +\",\" +str(d[\"MAIL\"])+\"\\n\")     \n",
        "      f.close()\n",
        "      rta=input(\"quiere agregar otro usuario? s/n :\")\n",
        "      if rta != \"s\":\n",
        "        break\n",
        "\n",
        "print()\n",
        "f = open(ruta + \"/agenda.txt\", \"r\")  \n",
        "contenido = f.read()  \n",
        "print(contenido)\n"
      ],
      "metadata": {
        "colab": {
          "base_uri": "https://localhost:8080/"
        },
        "id": "F5G3XKiFj6ug",
        "outputId": "677eab9d-6d80-439d-a256-e629ea5d4d33"
      },
      "execution_count": 25,
      "outputs": [
        {
          "output_type": "stream",
          "name": "stdout",
          "text": [
            "Ingrese el nombre del contacto: ff\n",
            "Ingrese el teléfono: 22\n",
            "Ingrese el mail del contacto: ff@dd.com\n",
            "quiere agregar otro usuario? s/n :n\n",
            "\n",
            "Prueba2,222,222@hotmail.com\n",
            "\n"
          ]
        }
      ]
    },
    {
      "cell_type": "code",
      "source": [
        ""
      ],
      "metadata": {
        "id": "wcwBc9Fbj2Xe"
      },
      "execution_count": null,
      "outputs": []
    }
  ]
}