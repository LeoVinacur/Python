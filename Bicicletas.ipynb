{
  "nbformat": 4,
  "nbformat_minor": 0,
  "metadata": {
    "colab": {
      "name": "Bicicletas.ipynb",
      "provenance": [],
      "collapsed_sections": [],
      "authorship_tag": "ABX9TyNaWFKcp3kdbwDWEbbwkBaa",
      "include_colab_link": true
    },
    "kernelspec": {
      "name": "python3",
      "display_name": "Python 3"
    },
    "language_info": {
      "name": "python"
    }
  },
  "cells": [
    {
      "cell_type": "markdown",
      "metadata": {
        "id": "view-in-github",
        "colab_type": "text"
      },
      "source": [
        "<a href=\"https://colab.research.google.com/github/LeoVinacur/Python/blob/main/Bicicletas.ipynb\" target=\"_parent\"><img src=\"https://colab.research.google.com/assets/colab-badge.svg\" alt=\"Open In Colab\"/></a>"
      ]
    },
    {
      "cell_type": "code",
      "execution_count": 319,
      "metadata": {
        "colab": {
          "base_uri": "https://localhost:8080/"
        },
        "id": "7_QSMNLsHdhd",
        "outputId": "68b29c55-91ac-452b-cdd0-283912d6d4ca"
      },
      "outputs": [
        {
          "output_type": "stream",
          "name": "stdout",
          "text": [
            "Ingresamos la bicicleta 1 con un precio y se lo modificamos\n",
            "Precio anterior de la Bicicleta Nº de Serie A115 $ 25000\n",
            "Precio nuevo 45000\n",
            "\n",
            "Precio anterior de la Bicicleta Nº de Serie B747 $ 18600\n",
            "Precio nuevo 17355\n",
            "\n",
            "Compramos las bicicletas\n",
            "\n",
            "Lista de bicicletas desde la Class Bicicleteria\n",
            "Bicicleta Modelo  A115  - Precio: $ 45000\n",
            "Bicicleta Modelo  B747  - Precio: $ 17355\n",
            "Bicicleta Modelo  A330  - Precio: $ 11111\n",
            "Bicicleta Modelo  B777  - Precio: $ 15900\n",
            "\n",
            "\n",
            "Venta de Bicicleta!!\n",
            "ventas totales = 1\n",
            "ganancia acumulada = 12000\n",
            "\n",
            "Venta de Bicicleta!!\n",
            "ventas totales = 2\n",
            "ganancia acumulada = 76000\n"
          ]
        }
      ],
      "source": [
        "class Bicicleteria():\n",
        " \n",
        "\n",
        "  def __init__(self,  bicicletas):\n",
        "    self.ganancias = 0\n",
        "    self.ventas = 0\n",
        "    self.bicieletas=bicicletas\n",
        "    self.lista=[]\n",
        "  \n",
        "  \n",
        "  def comprarBicicleta(self,bicicleta):\n",
        "    self.bicicletas =[bicicleta.get_nro_de_serie(), bicicleta.get_precio() ]\n",
        "    self.lista.append(self.bicicletas)\n",
        "\n",
        "\n",
        "  def venderBicicleta(self, bicicleta , precio):\n",
        "    self.ventas = self.ventas +1\n",
        "    self.ganancias = self.ganancias + precio\n",
        "    print(\"Venta de Bicicleta!!\")\n",
        "    print(f\"\"\"ventas totales = {self.ventas}\n",
        "ganancia acumulada = {self.ganancias}\"\"\")\n",
        "    \n",
        "  def mostrar(self):\n",
        "    print(\"Lista de bicicletas desde la Class Bicicleteria\")\n",
        "    for x , y in self.lista:\n",
        "      print(\"Bicicleta Modelo \", x, \" - Precio: $\" ,y)\n",
        "    print()\n",
        " \n",
        "  \n",
        "class Bicicleta():\n",
        "\n",
        "  def __init__(self , nroSerie ,modelo,anio,precio):\n",
        "    self.nroSerie = nroSerie\n",
        "    self.modelo =modelo\n",
        "    self.anio  =anio\n",
        "    self.precio =precio\n",
        "\n",
        "  def set_precio(self,precio):\n",
        "    self.precio=precio\n",
        "\n",
        "  def get_precio(self):\n",
        "    return self.precio\n",
        "\n",
        "  def get_nro_de_serie(self):\n",
        "    return self.nroSerie\n",
        "  \n",
        "  \n",
        "print(\"Ingresamos la bicicleta 1 con un precio y se lo modificamos\")\n",
        "bicicleta1=Bicicleta(\"A115\",\"Cross\" , 2010 , 25000)\n",
        "print(\"Precio anterior de la Bicicleta Nº de Serie\",bicicleta1.get_nro_de_serie() , \"$\",bicicleta1.get_precio())\n",
        "bicicleta1.set_precio(45000)\n",
        "print(\"Precio nuevo\" , bicicleta1.get_precio())\n",
        "\n",
        "print()\n",
        "#\"Ingresamos la bicicleta 2 y también le cambiamos el precio\"\n",
        "bicicleta2=Bicicleta(\"B747\",\"Clasica\",2022, 18600)\n",
        "print( \"Precio anterior de la Bicicleta Nº de Serie\",bicicleta2.get_nro_de_serie() , \"$\",bicicleta2.get_precio())\n",
        "bicicleta2.set_precio(17355)\n",
        "print(\"Precio nuevo\" , bicicleta2.get_precio())\n",
        "print()\n",
        "\n",
        "#Ingresamos dos bicicletas más sin cambiar el precio\n",
        "bicicleta3=Bicicleta(\"A330\",\"Carrera\",2017, 11111)\n",
        "bicicleta4=Bicicleta(\"B777\",\"Dama\",2002, 15900)\n",
        "\n",
        "#creo un objeto de la clase Bicicleteria para poder comprar objetos de la clase Bicicleta\n",
        "producto=Bicicleteria(Bicicleta)\n",
        "\n",
        "#Estoy comprando (e ingrersando) un objeto de la clase Bicicleta en la clase Bicicletería\n",
        "print(\"Compramos las bicicletas\")\n",
        "producto.comprarBicicleta(bicicleta1)\n",
        "producto.comprarBicicleta(bicicleta2)\n",
        "producto.comprarBicicleta(bicicleta3)\n",
        "producto.comprarBicicleta(bicicleta4)\n",
        "print()\n",
        "\n",
        "#muestro la lista de bicicleta \n",
        "producto.mostrar()\n",
        "print()\n",
        "\n",
        "#Ahora vendo dos bicicletas:\n",
        "#Después de cada venta, el programa da la cantidad de ventas y la ganancia acumulada\n",
        "producto.venderBicicleta(\"Todo Terreno\" , 12000)\n",
        "print()\n",
        "producto.venderBicicleta(\"clasica\", 64000)\n",
        " \n",
        " "
      ]
    }
  ]
}