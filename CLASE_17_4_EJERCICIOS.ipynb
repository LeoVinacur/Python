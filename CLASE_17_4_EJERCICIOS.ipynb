{
  "nbformat": 4,
  "nbformat_minor": 0,
  "metadata": {
    "colab": {
      "name": "CLASE 17 - 4 EJERCICIOS.ipynb",
      "provenance": [],
      "collapsed_sections": [],
      "authorship_tag": "ABX9TyNqjA9NpPE+0uGgn/pCxdas",
      "include_colab_link": true
    },
    "kernelspec": {
      "name": "python3",
      "display_name": "Python 3"
    },
    "language_info": {
      "name": "python"
    }
  },
  "cells": [
    {
      "cell_type": "markdown",
      "metadata": {
        "id": "view-in-github",
        "colab_type": "text"
      },
      "source": [
        "<a href=\"https://colab.research.google.com/github/LeoVinacur/Python/blob/main/CLASE_17_4_EJERCICIOS.ipynb\" target=\"_parent\"><img src=\"https://colab.research.google.com/assets/colab-badge.svg\" alt=\"Open In Colab\"/></a>"
      ]
    },
    {
      "cell_type": "markdown",
      "source": [
        ""
      ],
      "metadata": {
        "id": "UzgvEoRwTRVy"
      }
    },
    {
      "cell_type": "markdown",
      "source": [
        "CLASE 17 --- 4 EJERCICIOS"
      ],
      "metadata": {
        "id": "dvxqfns2TS9B"
      }
    },
    {
      "cell_type": "markdown",
      "source": [
        "EJ 1 -- Realizar un programa que conste de una clase llamada Alumno que\n",
        "tenga como atributos el nombre y la nota del alumno. Definir los\n",
        "métodos para inicializar sus atributos, imprimirlos y mostrar un mensaje\n",
        "con el resultado de la nota y si ha aprobado o no.\n"
      ],
      "metadata": {
        "id": "H5HUcPROTaea"
      }
    },
    {
      "cell_type": "code",
      "source": [
        "\n",
        "class Alumno:\n",
        "\n",
        " def __init__(self,nombre,nota):\n",
        "    self.nombre = nombre\n",
        "    self.nota = nota\n",
        " \n",
        " def __str__(self):\n",
        "    return f\"alumno {self.nombre}\"\n",
        " \n",
        " def evaluar(self , nombre, nota):\n",
        "   print(f\"Alumno nombre: {nombre} sacó una nota {nota}\")\n",
        "   if  nota>=7:\n",
        "     print(\"El alumno ha aprobado\")\n",
        "   else:\n",
        "     print(\"El alumno NO aprobo\")\n",
        "\n",
        "alumno1 = Alumno(\"\" , None)\n",
        "\n",
        "alumno1.evaluar(\"Juan\" , 6)\n",
        " \n",
        " \n",
        "\n",
        "\n",
        " "
      ],
      "metadata": {
        "colab": {
          "base_uri": "https://localhost:8080/"
        },
        "id": "2TprGy61TcJx",
        "outputId": "f359df4d-1c5a-419e-b69f-62b17ee634b2"
      },
      "execution_count": null,
      "outputs": [
        {
          "output_type": "stream",
          "name": "stdout",
          "text": [
            "Alumno nombre: Juan sacó una nota 6\n",
            "El alumno NO aprobo\n"
          ]
        }
      ]
    },
    {
      "cell_type": "markdown",
      "source": [
        "Ej 2  -  Desarrollar un programa que cargue los datos de un triángulo.\n",
        "Implementar una clase con los métodos para inicializar los atributos,\n",
        "imprimir el valor del lado con un tamaño mayor y el tipo de triángulo\n",
        "que es (equilátero, isósceles o escaleno).\n"
      ],
      "metadata": {
        "id": "CN8LaCaoa0ct"
      }
    },
    {
      "cell_type": "code",
      "source": [
        "class Triangulo:\n",
        "\n",
        "  def triangulos(l1,l2,l3):\n",
        "    if l1 == l2 == l3:\n",
        "      print(\"El triangulo es equilatero\")\n",
        "    elif l1 != l2 and l1 != l3 and l2 != l3:\n",
        "      print(\"El triangulo es escaleno\")\n",
        "    elif (l1 == l2 and l1 != l3) or (l1 == l3 and l1 != l2) or  (l2 == l3 and l2 != l1) :\n",
        "      print(\"El triangulo es isósceles \")\n",
        "     \n",
        " \n",
        "    if (l1 >= l2 and l1>= l3):\n",
        "      print(f\"El lado mayor es: {l1}\")\n",
        "    elif (l2 >= l1 and l2>= l3):\n",
        "      print(f\"El lado mayor es: {l2}\")\n",
        "    elif (l3 >= l2 and l3>= l1):\n",
        "      print(f\"El lado mayor es: {l3}\")\n",
        "\n",
        "\n",
        "  triangulos(21,21,21)\n"
      ],
      "metadata": {
        "colab": {
          "base_uri": "https://localhost:8080/"
        },
        "id": "HSN4vGjha7ji",
        "outputId": "2a938c97-3190-4748-99a2-964acecf35fd"
      },
      "execution_count": null,
      "outputs": [
        {
          "output_type": "stream",
          "name": "stdout",
          "text": [
            "El triangulo es equilatero\n",
            "El lado mayor es: 21\n"
          ]
        }
      ]
    },
    {
      "cell_type": "markdown",
      "source": [
        "Ej.3 -- Desarrollar un programa que conste de una clase padre Cuenta y dos subclases PlazoFijo y\n",
        "CajaAhorro. Definir los atributos titular y cantidad y un método para imprimir los datos en la\n",
        "clase Cuenta. La clase CajaAhorro tendrá un método para heredar los datos y uno para\n",
        "mostrar la información.\n",
        "La clase PlazoFijo tendrá dos atributos propios, plazo e interés. Tendrá un método para obtener\n",
        "el importe del interés (cantidad*interés/100) y otro método para mostrar la información, datos\n",
        "del titular plazo, interés y total de interés.\n",
        "Crear al menos un objeto de cada subclase."
      ],
      "metadata": {
        "id": "CNgEFJ_ABDcp"
      }
    },
    {
      "cell_type": "code",
      "source": [
        "class Cuenta:\n",
        "  def __init__(self, titular, ctdad):\n",
        "    self.titular = titular\n",
        "    self.ctdad = ctdad\n",
        "  \n",
        "  def __str__(self):\n",
        "    return f\"Cuenta de Ahorros a nombre de {self.titular} con una cantidad de {self.ctdad} pesos\"\n",
        "\n",
        "cliente1 =Cuenta(\"Pedro\" , 3200)\n",
        "\n",
        "print(cliente1)\n",
        "\n",
        "\n",
        "class CajaAhorro(Cuenta):\n",
        "  def __init__(self, titular, ctdad):\n",
        "    Cuenta.__init__(self,titular,ctdad)\n",
        " \n",
        "cliente2=CajaAhorro(\"Jose\" , 4000)\n",
        "\n",
        "print(cliente2)\n",
        " \n",
        "class PlazoFijo(Cuenta):\n",
        "  def __init__ (self, titular,ctdad, plazo, interes):\n",
        "    Cuenta.__init__(self,titular,ctdad)\n",
        "    self.plazo = plazo\n",
        "    self.interes = interes\n",
        "\n",
        "  def calcularInteres(self,ctdad,interes,plazo):\n",
        "    resultado = round(ctdad * ((interes/12/100*plazo/30)+1),2)\n",
        "    return resultado\n",
        " \n",
        "  def __str__(self):\n",
        "      return Cuenta.__str__(self) + f\", tengo un plazo fijo de {self.plazo} días\"\n",
        "\n",
        "cliente3=PlazoFijo(\"Diana\" , 10000, 30 , None)\n",
        "print(cliente3)\n",
        "print()\n",
        " \n",
        "print(cliente3 , \"y un plazo fijo de\" ,  cliente3.calcularInteres(100000,46,60),  \"pesos\")\n",
        "\n"
      ],
      "metadata": {
        "colab": {
          "base_uri": "https://localhost:8080/"
        },
        "id": "1cT2NRjsBJgw",
        "outputId": "5e0ae3cf-dd7a-440f-8919-ce3b7152c6ac"
      },
      "execution_count": 87,
      "outputs": [
        {
          "output_type": "stream",
          "name": "stdout",
          "text": [
            "Cuenta de Ahorros a nombre de Pedro con una cantidad de 3200 pesos\n",
            "Cuenta de Ahorros a nombre de Jose con una cantidad de 4000 pesos\n",
            "Cuenta de Ahorros a nombre de Diana con una cantidad de 10000 pesos, tengo un plazo fijo de 30 días\n",
            "\n",
            "Cuenta de Ahorros a nombre de Diana con una cantidad de 10000 pesos, tengo un plazo fijo de 30 días y un plazo fijo de 107666.67 pesos\n"
          ]
        }
      ]
    },
    {
      "cell_type": "markdown",
      "source": [
        "Ej 4 -- Realizar una clase que administre una agenda. Se debe almacenar para cada\n",
        "contacto el nombre, el teléfono y el email. Además deberá mostrar un menú\n",
        "con las siguientes opciones\n",
        "1. Añadir contacto\n",
        "2. Lista de contactos\n",
        "3. Buscar contacto\n",
        "4. Editar contacto\n",
        "5. Cerrar agenda"
      ],
      "metadata": {
        "id": "0flgJJdcXMrE"
      }
    },
    {
      "cell_type": "code",
      "source": [
        "class Agenda:\n",
        "  def __init__(self , base_datos):\n",
        "    self.base_datos = base_datos\n",
        "\n",
        "base_datos={\"Leopoldo\": {'Nombre': 'Leopoldo' ,'Tel': '1566' ,'Mail': 'leo@yahoo.com'}}\n",
        "\n",
        "while True:\n",
        "  print(\"MENU\")\n",
        "  print(\"1 - Agregar Contacto\")\n",
        "  print(\"2 - Eliminar Contacto\")\n",
        "  print(\"3 - Mostrar Contacto\")\n",
        "  print(\"4 - Mostrar TODOS los contactos\")\n",
        "  print(\"5 - Salir del sistema\")\n",
        "  opcion=int(input(\"Elija el número de opción deseada: \"))\n",
        "  if opcion ==1:\n",
        "    while True:\n",
        "      nombre = input(\"Ingrese el nombre del contacto: \")\n",
        "      telefono=input(\"Ingrese el teléfono: \")\n",
        "      mail = input(\"Ingrese el mail del contacto: \")\n",
        "      base_datos.update({nombre:{\"Nombre\":nombre , \"Telefono\":telefono , \"Mail\":mail}})\n",
        "      rta=input(\"quiere agregar otro usuario? s/n :\")\n",
        "      if rta != \"s\":\n",
        "        break\n",
        "  elif opcion ==2:\n",
        "    nombre=input(\"Ingrese el contacto que desea borrar: \")\n",
        "    if nombre in base_datos:\n",
        "      del base_datos[nombre]\n",
        "  elif opcion==3:\n",
        "    nom=input(\"Que contacto quiere ver? Ingrese su nombre: \")\n",
        "    if nom in base_datos:\n",
        "      print(base_datos[nom])\n",
        "  elif opcion == 4:\n",
        "    for i in base_datos:\n",
        "      print(base_datos[i])\n",
        "  elif opcion ==5:\n",
        "    break\n"
      ],
      "metadata": {
        "colab": {
          "base_uri": "https://localhost:8080/"
        },
        "id": "1Ozrl0phXSyb",
        "outputId": "dc2a147b-1e93-4acb-c0ec-2f24058c4eab"
      },
      "execution_count": 98,
      "outputs": [
        {
          "name": "stdout",
          "output_type": "stream",
          "text": [
            "MENU\n",
            "1 - Agregar Contacto\n",
            "2 - Eliminar Contacto\n",
            "3 - Mostrar Contacto\n",
            "4 - Mostrar TODOS los contactos\n",
            "5 - Salir del sistema\n",
            "Elija el número de opción deseada: 4\n",
            "{'Nombre': 'Leopoldo', 'Tel': '1566', 'Mail': 'leo@yahoo.com'}\n",
            "MENU\n",
            "1 - Agregar Contacto\n",
            "2 - Eliminar Contacto\n",
            "3 - Mostrar Contacto\n",
            "4 - Mostrar TODOS los contactos\n",
            "5 - Salir del sistema\n",
            "Elija el número de opción deseada: 1\n",
            "Ingrese el nombre del contacto: Fedra\n",
            "Ingrese el teléfono: 44444\n",
            "Ingrese el mail del contacto: fedra@yahoo.com\n",
            "quiere agregar otro usuario? s/n :n\n",
            "MENU\n",
            "1 - Agregar Contacto\n",
            "2 - Eliminar Contacto\n",
            "3 - Mostrar Contacto\n",
            "4 - Mostrar TODOS los contactos\n",
            "5 - Salir del sistema\n",
            "Elija el número de opción deseada: 4\n",
            "{'Nombre': 'Leopoldo', 'Tel': '1566', 'Mail': 'leo@yahoo.com'}\n",
            "{'Nombre': 'Fedra', 'Telefono': '44444', 'Mail': 'fedra@yahoo.com'}\n",
            "MENU\n",
            "1 - Agregar Contacto\n",
            "2 - Eliminar Contacto\n",
            "3 - Mostrar Contacto\n",
            "4 - Mostrar TODOS los contactos\n",
            "5 - Salir del sistema\n",
            "Elija el número de opción deseada: 3\n",
            "Que contacto quiere ver? Ingrese su nombre: Fedra\n",
            "{'Nombre': 'Fedra', 'Telefono': '44444', 'Mail': 'fedra@yahoo.com'}\n",
            "MENU\n",
            "1 - Agregar Contacto\n",
            "2 - Eliminar Contacto\n",
            "3 - Mostrar Contacto\n",
            "4 - Mostrar TODOS los contactos\n",
            "5 - Salir del sistema\n",
            "Elija el número de opción deseada: 5\n"
          ]
        }
      ]
    }
  ]
}