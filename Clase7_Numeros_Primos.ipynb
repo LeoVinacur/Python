{
  "nbformat": 4,
  "nbformat_minor": 0,
  "metadata": {
    "colab": {
      "name": "Clase7 Numeros Primos.ipynb",
      "provenance": [],
      "collapsed_sections": [],
      "authorship_tag": "ABX9TyPcVr3aPsnAzIC6HXMpSxDm",
      "include_colab_link": true
    },
    "kernelspec": {
      "name": "python3",
      "display_name": "Python 3"
    },
    "language_info": {
      "name": "python"
    }
  },
  "cells": [
    {
      "cell_type": "markdown",
      "metadata": {
        "id": "view-in-github",
        "colab_type": "text"
      },
      "source": [
        "<a href=\"https://colab.research.google.com/github/LeoVinacur/Python/blob/main/Clase7_Numeros_Primos.ipynb\" target=\"_parent\"><img src=\"https://colab.research.google.com/assets/colab-badge.svg\" alt=\"Open In Colab\"/></a>"
      ]
    },
    {
      "cell_type": "code",
      "execution_count": 44,
      "metadata": {
        "colab": {
          "base_uri": "https://localhost:8080/"
        },
        "id": "o9c9hDEbIqXQ",
        "outputId": "9b5696c1-bfa0-4bef-9747-8c826c599b16"
      },
      "outputs": [
        {
          "output_type": "stream",
          "name": "stdout",
          "text": [
            "Ingrese un número entero: 1\n",
            "Ingrese un número entero: 2\n",
            "Ingrese un número entero: 3\n",
            "Ingrese un número entero: 4\n",
            "Ingrese un número entero: 5\n",
            "Ingrese un número entero: 6\n",
            "Ingrese un número entero: 7\n",
            "Ingrese un número entero: 8\n",
            "Ingrese un número entero: 9\n",
            "Ingrese un número entero: 11\n",
            "Ingrese un número entero: 0\n",
            "\n",
            "Todos los números ingresados\n",
            "[1, 2, 3, 4, 5, 6, 7, 8, 9, 11, 0]\n",
            "Todos los números que son primos\n",
            "[3, 5, 7, 9, 11]\n",
            "La cantidad de números primos es:  5\n",
            "EL contador de números primos marca un:  5\n"
          ]
        }
      ],
      "source": [
        "lista=[]\n",
        "primos=[]\n",
        "cont =0 \n",
        "num = None\n",
        "while num != 0:\n",
        "  num = int(input(\"Ingrese un número entero: \"))\n",
        "  lista.append(num)\n",
        "  primo = True \n",
        "  for i in range(2,num):\n",
        "    if num%i == 0:\n",
        "      primo =False\n",
        "    elif primo == True:\n",
        "      primos.append(num)\n",
        "      cont +=1\n",
        "      break\n",
        "    \n",
        "\n",
        "print()\n",
        "print(\"Todos los números ingresados\")\n",
        "print(lista)\n",
        "print(\"Todos los números que son primos\")\n",
        "print(primos)\n",
        "print(\"La cantidad de números primos es: \" , len(primos))\n",
        "print(\"EL contador de números primos marca un: \" ,cont)"
      ]
    }
  ]
}