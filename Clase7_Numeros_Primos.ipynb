{
  "nbformat": 4,
  "nbformat_minor": 0,
  "metadata": {
    "colab": {
      "name": "Clase7 Numeros Primos.ipynb",
      "provenance": [],
      "collapsed_sections": [],
      "authorship_tag": "ABX9TyNtebTjphhQNMzNxm2xngJ6",
      "include_colab_link": true
    },
    "kernelspec": {
      "name": "python3",
      "display_name": "Python 3"
    },
    "language_info": {
      "name": "python"
    }
  },
  "cells": [
    {
      "cell_type": "markdown",
      "metadata": {
        "id": "view-in-github",
        "colab_type": "text"
      },
      "source": [
        "<a href=\"https://colab.research.google.com/github/LeoVinacur/Python/blob/main/Clase7_Numeros_Primos.ipynb\" target=\"_parent\"><img src=\"https://colab.research.google.com/assets/colab-badge.svg\" alt=\"Open In Colab\"/></a>"
      ]
    },
    {
      "cell_type": "code",
      "execution_count": 13,
      "metadata": {
        "colab": {
          "base_uri": "https://localhost:8080/"
        },
        "id": "o9c9hDEbIqXQ",
        "outputId": "93faf110-f617-4d25-e782-7292a6a3c412"
      },
      "outputs": [
        {
          "output_type": "stream",
          "name": "stdout",
          "text": [
            "Ingrese un número entero: 1\n",
            "Ingrese un número entero: 2\n",
            "Ingrese un número entero: 3\n",
            "Ingrese un número entero: 4\n",
            "Ingrese un número entero: 5\n",
            "Ingrese un número entero: 6\n",
            "Ingrese un número entero: 7\n",
            "Ingrese un número entero: 8\n",
            "Ingrese un número entero: 9\n",
            "Ingrese un número entero: 10\n",
            "Ingrese un número entero: 11\n",
            "Ingrese un número entero: 12\n",
            "Ingrese un número entero: 13\n",
            "Ingrese un número entero: 14\n",
            "Ingrese un número entero: 0\n",
            "Todos los números ingresados\n",
            "[1, 2, 3, 4, 5, 6, 7, 8, 9, 10, 11, 12, 13, 14, 0]\n",
            "Todos los números que son primos\n",
            "[3, 5, 7, 9, 11, 13]\n"
          ]
        }
      ],
      "source": [
        "lista=[]\n",
        "primos=[]\n",
        " \n",
        "num = None\n",
        "while num != 0:\n",
        "  num = int(input(\"Ingrese un número entero: \"))\n",
        "  lista.append(num)\n",
        "  primo = True \n",
        "  for i in range(2,num):\n",
        "    if num%i == 0:\n",
        "      primo =False\n",
        "    elif primo == True:\n",
        "      primos.append(num)\n",
        "      break\n",
        "  \n",
        "if primo == True:\n",
        "  if num != 0:\n",
        "    primos.append(num)\n",
        "\n",
        "print(\"Todos los números ingresados\")\n",
        "print(lista)\n",
        "print(\"Todos los números que son primos\")\n",
        "print(primos)"
      ]
    }
  ]
}