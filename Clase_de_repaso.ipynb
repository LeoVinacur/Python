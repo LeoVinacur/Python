{
  "nbformat": 4,
  "nbformat_minor": 0,
  "metadata": {
    "colab": {
      "name": "Clase de repaso.ipynb",
      "provenance": [],
      "collapsed_sections": [],
      "include_colab_link": true
    },
    "kernelspec": {
      "name": "python3",
      "display_name": "Python 3"
    },
    "language_info": {
      "name": "python"
    }
  },
  "cells": [
    {
      "cell_type": "markdown",
      "metadata": {
        "id": "view-in-github",
        "colab_type": "text"
      },
      "source": [
        "<a href=\"https://colab.research.google.com/github/LeoVinacur/Python/blob/main/Clase_de_repaso.ipynb\" target=\"_parent\"><img src=\"https://colab.research.google.com/assets/colab-badge.svg\" alt=\"Open In Colab\"/></a>"
      ]
    },
    {
      "cell_type": "markdown",
      "source": [
        "\n",
        "# Operadores aritméticos\n",
        "\n",
        "- Suma  `+`\n",
        "- Resta  `-`\n",
        "- Multiplicación  `*` \n",
        "- División  `/`\n",
        "- Exponente  `**`\n",
        "- División entera  `//`\n",
        "- Modulo o resto  `%`\n"
      ],
      "metadata": {
        "id": "GAylbJPjcF1n"
      }
    },
    {
      "cell_type": "code",
      "execution_count": null,
      "metadata": {
        "id": "OxmVuP7jT49o",
        "colab": {
          "base_uri": "https://localhost:8080/"
        },
        "outputId": "7f4e9528-060d-4042-943f-4d56170674c9"
      },
      "outputs": [
        {
          "output_type": "execute_result",
          "data": {
            "text/plain": [
              "2.6"
            ]
          },
          "metadata": {},
          "execution_count": 1
        }
      ],
      "source": [
        "13 / 5"
      ]
    },
    {
      "cell_type": "code",
      "source": [
        "13 // 5"
      ],
      "metadata": {
        "colab": {
          "base_uri": "https://localhost:8080/"
        },
        "id": "BXeqsjeLeeRG",
        "outputId": "cb67f502-4ce3-4eac-eb9a-f8e66a1e35fc"
      },
      "execution_count": null,
      "outputs": [
        {
          "output_type": "execute_result",
          "data": {
            "text/plain": [
              "2"
            ]
          },
          "metadata": {},
          "execution_count": 2
        }
      ]
    },
    {
      "cell_type": "code",
      "source": [
        "13 % 5"
      ],
      "metadata": {
        "colab": {
          "base_uri": "https://localhost:8080/"
        },
        "id": "4vr4YeEte1aY",
        "outputId": "810356f6-c045-4e03-8356-892d56911a4b"
      },
      "execution_count": null,
      "outputs": [
        {
          "output_type": "execute_result",
          "data": {
            "text/plain": [
              "3"
            ]
          },
          "metadata": {},
          "execution_count": 3
        }
      ]
    },
    {
      "cell_type": "code",
      "source": [
        "10 % 2"
      ],
      "metadata": {
        "colab": {
          "base_uri": "https://localhost:8080/"
        },
        "id": "ublKQNdCe502",
        "outputId": "d31fda1b-660c-4d58-c413-830bf2c407f0"
      },
      "execution_count": null,
      "outputs": [
        {
          "output_type": "execute_result",
          "data": {
            "text/plain": [
              "0"
            ]
          },
          "metadata": {},
          "execution_count": 4
        }
      ]
    },
    {
      "cell_type": "markdown",
      "source": [
        "# Operadores de asignaciones\n",
        "- Asigna valor a una variable \n",
        "    - `=`\n",
        "- Suma el valor a la variable, Resta, Multiplica, Divide, Calcula exponente, División entera, Resto de la división:\n",
        "    - `+=`\n",
        "    - `-=`\n",
        "    - `*=`\n",
        "    - `/=`\n",
        "    - `**=`\n",
        "    - `//=`\n",
        "    - `%=`\n",
        "    "
      ],
      "metadata": {
        "id": "kqEo39ZufITl"
      }
    },
    {
      "cell_type": "code",
      "source": [
        "variable = 1\n",
        "type(variable)\n",
        "\n",
        "variable = 1.1\n",
        "type(variable)\n",
        "\n",
        "variable = \"cadena\"\n",
        "type(variable)"
      ],
      "metadata": {
        "colab": {
          "base_uri": "https://localhost:8080/"
        },
        "id": "G8wQvrfHfK-i",
        "outputId": "91b23579-df6e-4be5-d21a-335eee499d8f"
      },
      "execution_count": null,
      "outputs": [
        {
          "output_type": "execute_result",
          "data": {
            "text/plain": [
              "str"
            ]
          },
          "metadata": {},
          "execution_count": 8
        }
      ]
    },
    {
      "cell_type": "code",
      "source": [
        "variable = 2\n",
        "variable = variable * 3\n",
        "variable"
      ],
      "metadata": {
        "colab": {
          "base_uri": "https://localhost:8080/"
        },
        "id": "ASjcow5xfzQA",
        "outputId": "540f3c09-bf4e-47ce-f99a-6cead53b07f5"
      },
      "execution_count": null,
      "outputs": [
        {
          "output_type": "execute_result",
          "data": {
            "text/plain": [
              "6"
            ]
          },
          "metadata": {},
          "execution_count": 11
        }
      ]
    },
    {
      "cell_type": "code",
      "source": [
        "variable = 2\n",
        "variable *= 3\n",
        "variable"
      ],
      "metadata": {
        "colab": {
          "base_uri": "https://localhost:8080/"
        },
        "id": "F4qVGGfqf9sv",
        "outputId": "0133fee3-edbc-453d-ab64-f3dc918447a9"
      },
      "execution_count": null,
      "outputs": [
        {
          "output_type": "execute_result",
          "data": {
            "text/plain": [
              "6"
            ]
          },
          "metadata": {},
          "execution_count": 14
        }
      ]
    },
    {
      "cell_type": "code",
      "source": [
        "variable = \"2\"\n",
        "variable += \"3\"\n",
        "print(variable)\n",
        "\n",
        "va2 = \"hola\"\n",
        "va3 = \"chau\"\n",
        "print(va2 + va3)"
      ],
      "metadata": {
        "colab": {
          "base_uri": "https://localhost:8080/"
        },
        "id": "l-poWrNKgMEC",
        "outputId": "70639ce3-590f-4589-b2d3-9f9d6c8ea65a"
      },
      "execution_count": null,
      "outputs": [
        {
          "output_type": "stream",
          "name": "stdout",
          "text": [
            "23\n",
            "holachau\n"
          ]
        }
      ]
    },
    {
      "cell_type": "code",
      "source": [
        "va1 = 2\n",
        "va2 = \"chau\"\n",
        "print(str(va1) + va2)\n",
        "print(va1, va2)"
      ],
      "metadata": {
        "colab": {
          "base_uri": "https://localhost:8080/"
        },
        "id": "u0KU-syugd9Y",
        "outputId": "c85db133-031e-4de0-cf51-514967052542"
      },
      "execution_count": null,
      "outputs": [
        {
          "output_type": "stream",
          "name": "stdout",
          "text": [
            "2chau\n",
            "2 chau\n"
          ]
        }
      ]
    },
    {
      "cell_type": "code",
      "source": [
        "va1 = 2\n",
        "va2 = \"chau\"\n",
        "print(str(va1) + va2, end=\" \")\n",
        "print(str(va1) + va2, end=\".\")\n"
      ],
      "metadata": {
        "colab": {
          "base_uri": "https://localhost:8080/"
        },
        "id": "7Z2tWaEAhBLy",
        "outputId": "f22ab268-b852-4054-8bfa-576de7a15193"
      },
      "execution_count": null,
      "outputs": [
        {
          "output_type": "stream",
          "name": "stdout",
          "text": [
            "2chau 2chau."
          ]
        }
      ]
    },
    {
      "cell_type": "code",
      "source": [
        "cadena1 = \"hola\"\n",
        "cadena2 = 2\n",
        "\n",
        "print(cadena1 + \" \" + str(cadena2))\n",
        "print(cadena1, cadena2)\n",
        "print(f\"{cadena1} {cadena2}\")"
      ],
      "metadata": {
        "colab": {
          "base_uri": "https://localhost:8080/"
        },
        "id": "ML4x0Sef03GT",
        "outputId": "20604bb3-f10f-477d-e33f-20c1c53ab25c"
      },
      "execution_count": null,
      "outputs": [
        {
          "output_type": "stream",
          "name": "stdout",
          "text": [
            "hola 2\n",
            "hola 2\n",
            "hola 2\n"
          ]
        }
      ]
    },
    {
      "cell_type": "code",
      "source": [
        "print(1000, type(1000))\n",
        "print(\"hola\", type(\"hola\"))\n",
        "print(0.5, type(0.5))\n",
        "print(True, type(True))"
      ],
      "metadata": {
        "colab": {
          "base_uri": "https://localhost:8080/"
        },
        "id": "ARHVwkdchUPH",
        "outputId": "b3609a26-094b-4169-8b04-bbda9493c2a0"
      },
      "execution_count": null,
      "outputs": [
        {
          "output_type": "stream",
          "name": "stdout",
          "text": [
            "1000 <class 'int'>\n",
            "hola <class 'str'>\n",
            "0.5 <class 'float'>\n",
            "True <class 'bool'>\n"
          ]
        }
      ]
    },
    {
      "cell_type": "code",
      "source": [
        "las_variables_se_escriben_con_minusculas = 12  # TODO\n",
        "CONSTANTE = 3.14\n",
        "# Esto es un comentario\n",
        "print(CONSTANTE)  # Esto es un comentario\n",
        "\n",
        "\"\"\"\n",
        "Esto es comentario para documentar un programa.\n",
        "El autor: \n",
        "\"\"\"\n",
        "\n"
      ],
      "metadata": {
        "colab": {
          "base_uri": "https://localhost:8080/",
          "height": 54
        },
        "id": "7jdNlXLLhw9u",
        "outputId": "9cc107db-4a39-40a3-e7e6-5b250da53f5d"
      },
      "execution_count": null,
      "outputs": [
        {
          "output_type": "stream",
          "name": "stdout",
          "text": [
            "3.14\n"
          ]
        },
        {
          "output_type": "execute_result",
          "data": {
            "text/plain": [
              "'\\nEsto es comentario para documentar un programa.\\nEl autor: \\n'"
            ],
            "application/vnd.google.colaboratory.intrinsic+json": {
              "type": "string"
            }
          },
          "metadata": {},
          "execution_count": 125
        }
      ]
    },
    {
      "cell_type": "markdown",
      "source": [
        "# Cadenas f-string"
      ],
      "metadata": {
        "id": "-OpaZg_Sjcsh"
      }
    },
    {
      "cell_type": "code",
      "source": [
        "variable = \"palabra\"\n",
        "mensaje = \"Mi oración es: {0}\".format(variable)\n",
        "mensaje"
      ],
      "metadata": {
        "colab": {
          "base_uri": "https://localhost:8080/",
          "height": 35
        },
        "id": "p5AkEZCXfWRr",
        "outputId": "863769aa-d3e7-4a47-b0cb-b5b5585be192"
      },
      "execution_count": null,
      "outputs": [
        {
          "output_type": "execute_result",
          "data": {
            "text/plain": [
              "'Mi oración es: palabra'"
            ],
            "application/vnd.google.colaboratory.intrinsic+json": {
              "type": "string"
            }
          },
          "metadata": {},
          "execution_count": 31
        }
      ]
    },
    {
      "cell_type": "code",
      "source": [
        "variable = \"palabra\"\n",
        "mensaje = f\"Mi oración es: {variable} {2*4}\"\n",
        " \n",
        "mensaje\n",
        "\n",
        " "
      ],
      "metadata": {
        "colab": {
          "base_uri": "https://localhost:8080/",
          "height": 38
        },
        "id": "6Zrl5HCgjnf5",
        "outputId": "b5b8e923-383d-4779-b465-b9121a965af7"
      },
      "execution_count": 7,
      "outputs": [
        {
          "output_type": "execute_result",
          "data": {
            "text/plain": [
              "'Mi oración es: palabra 8'"
            ],
            "application/vnd.google.colaboratory.intrinsic+json": {
              "type": "string"
            }
          },
          "metadata": {},
          "execution_count": 7
        }
      ]
    },
    {
      "cell_type": "code",
      "source": [
        "print(f\"Ejemplo: {10:10d}\")\n",
        "print(f\"Ejemplo: {100:10d}\")\n",
        "print(f\"Ejemplo: {1000:10d}\")\n",
        "print(f\"Ejemplo: {10000:10d}\")\n"
      ],
      "metadata": {
        "colab": {
          "base_uri": "https://localhost:8080/"
        },
        "id": "jZqGSg0XmIOy",
        "outputId": "e30e76a1-3fc2-4306-f210-e40741985f9d"
      },
      "execution_count": null,
      "outputs": [
        {
          "output_type": "stream",
          "name": "stdout",
          "text": [
            "Ejemplo:         10\n",
            "Ejemplo:        100\n",
            "Ejemplo:       1000\n",
            "Ejemplo:      10000\n"
          ]
        }
      ]
    },
    {
      "cell_type": "markdown",
      "source": [
        "Tuplas"
      ],
      "metadata": {
        "id": "vsXIEL_zlc_2"
      }
    },
    {
      "cell_type": "code",
      "source": [
        "tupla = (None, True, False, \"cadena\", 12, 12.2, [\"otra lista\", 15, 12])\n",
        "print(type(tupla))\n",
        "tupla[6][1]"
      ],
      "metadata": {
        "colab": {
          "base_uri": "https://localhost:8080/"
        },
        "id": "qp56rPwflfvH",
        "outputId": "ea7d5664-9e7a-4590-f04b-aa07cc9da2d9"
      },
      "execution_count": null,
      "outputs": [
        {
          "output_type": "stream",
          "name": "stdout",
          "text": [
            "<class 'tuple'>\n"
          ]
        },
        {
          "output_type": "execute_result",
          "data": {
            "text/plain": [
              "15"
            ]
          },
          "metadata": {},
          "execution_count": 43
        }
      ]
    },
    {
      "cell_type": "markdown",
      "source": [
        "Listas"
      ],
      "metadata": {
        "id": "U1WJFGVOkT0o"
      }
    },
    {
      "cell_type": "code",
      "source": [
        "lista = [None, True, False, \"cadena\", 12, 12.2, [\"otra lista\", 15, 12]]\n",
        "print(type(lista)) \n",
        "lista[6][1]"
      ],
      "metadata": {
        "colab": {
          "base_uri": "https://localhost:8080/"
        },
        "id": "WNxs3Fftj7pq",
        "outputId": "b28dcf3a-5e6b-497f-caa5-2b6bddaa51a9"
      },
      "execution_count": null,
      "outputs": [
        {
          "output_type": "stream",
          "name": "stdout",
          "text": [
            "<class 'list'>\n"
          ]
        },
        {
          "output_type": "execute_result",
          "data": {
            "text/plain": [
              "15"
            ]
          },
          "metadata": {},
          "execution_count": 126
        }
      ]
    },
    {
      "cell_type": "markdown",
      "source": [
        ""
      ],
      "metadata": {
        "id": "Wbv7kKb5l9Hu"
      }
    },
    {
      "cell_type": "code",
      "source": [
        "lista = [None, True, False, \"cadena\", 12, 12.2, [\"otra lista\", 15, 12]]\n",
        "print(12 in lista)\n",
        "\n",
        "variable = \"dos\"\n",
        "variable"
      ],
      "metadata": {
        "colab": {
          "base_uri": "https://localhost:8080/",
          "height": 55
        },
        "id": "sEATOGjMm42S",
        "outputId": "16572835-3187-4f05-9ee9-6c6b383049e9"
      },
      "execution_count": 8,
      "outputs": [
        {
          "output_type": "stream",
          "name": "stdout",
          "text": [
            "True\n"
          ]
        },
        {
          "output_type": "execute_result",
          "data": {
            "text/plain": [
              "'dos'"
            ],
            "application/vnd.google.colaboratory.intrinsic+json": {
              "type": "string"
            }
          },
          "metadata": {},
          "execution_count": 8
        }
      ]
    },
    {
      "cell_type": "code",
      "source": [
        "len(lista)"
      ],
      "metadata": {
        "colab": {
          "base_uri": "https://localhost:8080/"
        },
        "id": "2oRXSayFnggM",
        "outputId": "6a05d17b-80e3-4e95-ffa3-bec2312c6084"
      },
      "execution_count": null,
      "outputs": [
        {
          "output_type": "execute_result",
          "data": {
            "text/plain": [
              "7"
            ]
          },
          "metadata": {},
          "execution_count": 56
        }
      ]
    },
    {
      "cell_type": "code",
      "source": [
        "nums = [1, 2, 3]\n",
        "nums.append(\"4\")\n",
        "print(nums)\n"
      ],
      "metadata": {
        "colab": {
          "base_uri": "https://localhost:8080/"
        },
        "id": "qyMsKzGbnsqZ",
        "outputId": "1e8b38e7-7366-47fc-8d1a-6b91568c455e"
      },
      "execution_count": null,
      "outputs": [
        {
          "output_type": "stream",
          "name": "stdout",
          "text": [
            "[1, 2, 3, '4']\n"
          ]
        }
      ]
    },
    {
      "cell_type": "code",
      "source": [
        "nums = [1, 2, 3]\n",
        "indice = 3\n",
        "nums.insert(indice, 1000)\n",
        "nums"
      ],
      "metadata": {
        "colab": {
          "base_uri": "https://localhost:8080/"
        },
        "id": "fFRRE5jcoD4Y",
        "outputId": "e13212da-57b0-4876-936e-e79cfb17f386"
      },
      "execution_count": null,
      "outputs": [
        {
          "output_type": "execute_result",
          "data": {
            "text/plain": [
              "[1, 2, 1000, 3]"
            ]
          },
          "metadata": {},
          "execution_count": 67
        }
      ]
    },
    {
      "cell_type": "code",
      "source": [
        "letras = [\"a\", \"b\", \"c\", \"b\"]\n",
        "letras.count(\"b\")\n"
      ],
      "metadata": {
        "colab": {
          "base_uri": "https://localhost:8080/"
        },
        "id": "Oou2CJcsolO0",
        "outputId": "5b306788-51f2-4a39-c346-203af90d2672"
      },
      "execution_count": null,
      "outputs": [
        {
          "output_type": "execute_result",
          "data": {
            "text/plain": [
              "2"
            ]
          },
          "metadata": {},
          "execution_count": 68
        }
      ]
    },
    {
      "cell_type": "code",
      "source": [
        "letras = [\"a\", \"b\", \"c\"]\n",
        "letras.reverse()\n",
        "letras"
      ],
      "metadata": {
        "colab": {
          "base_uri": "https://localhost:8080/"
        },
        "id": "T0k5fWEuo0vn",
        "outputId": "92f6a982-18b7-49e2-b8a8-8369819fae06"
      },
      "execution_count": null,
      "outputs": [
        {
          "output_type": "execute_result",
          "data": {
            "text/plain": [
              "['c', 'b', 'a']"
            ]
          },
          "metadata": {},
          "execution_count": 69
        }
      ]
    },
    {
      "cell_type": "code",
      "source": [
        "vocales = [\"u\", \"e\", \"a\", \"i\", \"o\"]\n",
        "vocales.sort()\n",
        "vocales"
      ],
      "metadata": {
        "colab": {
          "base_uri": "https://localhost:8080/"
        },
        "id": "cz0x3XMqo4YE",
        "outputId": "e9f6fb6e-a40e-4273-c6ba-28f3b029615d"
      },
      "execution_count": null,
      "outputs": [
        {
          "output_type": "execute_result",
          "data": {
            "text/plain": [
              "['a', 'e', 'i', 'o', 'u']"
            ]
          },
          "metadata": {},
          "execution_count": 70
        }
      ]
    },
    {
      "cell_type": "code",
      "source": [
        "palabras = [\"abcdef\", \"z\", \"ab\", \"abc\", \"abcd\"]\n",
        "palabras.sort()\n",
        "palabras.sort(key=len, reverse=True) # En key se puede poner una función cualquiera\n",
        "palabras"
      ],
      "metadata": {
        "colab": {
          "base_uri": "https://localhost:8080/"
        },
        "id": "htqTpQsZo9JL",
        "outputId": "1fd8f7af-aac7-42f2-ce92-f0214050f816"
      },
      "execution_count": null,
      "outputs": [
        {
          "output_type": "execute_result",
          "data": {
            "text/plain": [
              "['abcdef', 'abcd', 'abc', 'ab', 'z']"
            ]
          },
          "metadata": {},
          "execution_count": 76
        }
      ]
    },
    {
      "cell_type": "markdown",
      "source": [
        "# Cortes de listas\n"
      ],
      "metadata": {
        "id": "tQyYi6kTqBmR"
      }
    },
    {
      "cell_type": "code",
      "source": [
        "cuadrados = [0, 1, 4, 9, 16, 25, 36]\n",
        "cuadrados[2:8]  # El primer número 2 se incluye, el segundo número 6 de excluye\n"
      ],
      "metadata": {
        "colab": {
          "base_uri": "https://localhost:8080/"
        },
        "id": "bgWjBJhoqDBv",
        "outputId": "1a675bcd-411f-42c2-f80c-17d36f22e3e6"
      },
      "execution_count": null,
      "outputs": [
        {
          "output_type": "execute_result",
          "data": {
            "text/plain": [
              "[4, 9, 16, 25, 36]"
            ]
          },
          "metadata": {},
          "execution_count": 80
        }
      ]
    },
    {
      "cell_type": "code",
      "source": [
        "cuadrados[:3]  # Se incluye desde el índice 0 hasta el 2, porque el 3 se excluye"
      ],
      "metadata": {
        "colab": {
          "base_uri": "https://localhost:8080/"
        },
        "id": "iY83g1DCqE1k",
        "outputId": "31ac4109-dc79-4347-91df-ed50455f830f"
      },
      "execution_count": null,
      "outputs": [
        {
          "output_type": "execute_result",
          "data": {
            "text/plain": [
              "[0, 1, 4]"
            ]
          },
          "metadata": {},
          "execution_count": 81
        }
      ]
    },
    {
      "cell_type": "code",
      "source": [
        "cuadrados[3:]"
      ],
      "metadata": {
        "colab": {
          "base_uri": "https://localhost:8080/"
        },
        "id": "zSUNR9jsqG8a",
        "outputId": "be99c3bd-13a7-4402-a732-70e49127042f"
      },
      "execution_count": null,
      "outputs": [
        {
          "output_type": "execute_result",
          "data": {
            "text/plain": [
              "[9, 16, 25, 36]"
            ]
          },
          "metadata": {},
          "execution_count": 82
        }
      ]
    },
    {
      "cell_type": "code",
      "source": [
        "cuadrados = [0, 1, 4, 9, 16, 25, 36]\n",
        "cuadrados[::2]  # Se incluyen todos, con un incremento de 2 índices:\n",
        "                # índice 0: valor: 0\n",
        "                # índice 1: valor: 1 (se excluye)\n",
        "                # índice 2: valor: 4\n",
        "                # índice 3: valor: 9 (se excluye)\n",
        "                # índice 4: valor: 16\n",
        "                # índice 5: valor: 25 (se excluye)\n",
        "                # índice 6: valor: 36"
      ],
      "metadata": {
        "colab": {
          "base_uri": "https://localhost:8080/"
        },
        "id": "Jj1mHNLyqIuR",
        "outputId": "aa62dd44-b148-46c4-849a-283d55bb0737"
      },
      "execution_count": null,
      "outputs": [
        {
          "output_type": "execute_result",
          "data": {
            "text/plain": [
              "[0, 4, 16, 36]"
            ]
          },
          "metadata": {},
          "execution_count": 83
        }
      ]
    },
    {
      "cell_type": "code",
      "source": [
        "cuadrados[2:5:2]"
      ],
      "metadata": {
        "colab": {
          "base_uri": "https://localhost:8080/"
        },
        "id": "8Iby7ZFoqLx-",
        "outputId": "412533d0-3f72-4f56-bfe2-3b924092b2e7"
      },
      "execution_count": null,
      "outputs": [
        {
          "output_type": "execute_result",
          "data": {
            "text/plain": [
              "[4, 16]"
            ]
          },
          "metadata": {},
          "execution_count": 84
        }
      ]
    },
    {
      "cell_type": "code",
      "source": [
        "cuadrados[-2]  # Incremento invertido"
      ],
      "metadata": {
        "colab": {
          "base_uri": "https://localhost:8080/"
        },
        "id": "_L8d_XrbqNub",
        "outputId": "b5b2b8e9-36dc-460e-b210-c564ca132bcc"
      },
      "execution_count": null,
      "outputs": [
        {
          "output_type": "execute_result",
          "data": {
            "text/plain": [
              "25"
            ]
          },
          "metadata": {},
          "execution_count": 87
        }
      ]
    },
    {
      "cell_type": "code",
      "source": [
        "cuadrados[::-1]"
      ],
      "metadata": {
        "colab": {
          "base_uri": "https://localhost:8080/"
        },
        "id": "0aBEa_DpqO43",
        "outputId": "c1313c4b-5fd1-40e0-f504-990df1c11222"
      },
      "execution_count": null,
      "outputs": [
        {
          "output_type": "execute_result",
          "data": {
            "text/plain": [
              "[36, 25, 16, 9, 4, 1, 0]"
            ]
          },
          "metadata": {},
          "execution_count": 88
        }
      ]
    },
    {
      "cell_type": "markdown",
      "source": [
        "# Operaciones de listas"
      ],
      "metadata": {
        "id": "5rSRQJefqTEI"
      }
    },
    {
      "cell_type": "markdown",
      "source": [
        "## Asignación"
      ],
      "metadata": {
        "id": "Hfmw7DySqWtq"
      }
    },
    {
      "cell_type": "code",
      "source": [
        "nums = [5, 5, 5]\n",
        "nums[1] = 2\n",
        "nums"
      ],
      "metadata": {
        "colab": {
          "base_uri": "https://localhost:8080/"
        },
        "id": "M_MvzKE2qbMa",
        "outputId": "410ccc27-6cce-451b-b73f-6fe566ab1c2e"
      },
      "execution_count": null,
      "outputs": [
        {
          "output_type": "execute_result",
          "data": {
            "text/plain": [
              "[5, 2, 5]"
            ]
          },
          "metadata": {},
          "execution_count": 89
        }
      ]
    },
    {
      "cell_type": "markdown",
      "source": [
        "## Suma o multiplicación"
      ],
      "metadata": {
        "id": "9_S0PUb7qbxV"
      }
    },
    {
      "cell_type": "code",
      "source": [
        "nums = [1, 2, 3]\n",
        "nums += [6, 7]\n",
        "#nums.append(6, 7)\n",
        "print(nums)\n",
        "nums *= 2\n",
        "nums"
      ],
      "metadata": {
        "colab": {
          "base_uri": "https://localhost:8080/"
        },
        "id": "bDMKeLBTqdds",
        "outputId": "ed46721e-157f-41a8-d349-4b25ae393bdc"
      },
      "execution_count": null,
      "outputs": [
        {
          "output_type": "stream",
          "name": "stdout",
          "text": [
            "[1, 2, 3, 6, 7]\n"
          ]
        },
        {
          "output_type": "execute_result",
          "data": {
            "text/plain": [
              "[1, 2, 3, 6, 7, 1, 2, 3, 6, 7]"
            ]
          },
          "metadata": {},
          "execution_count": 96
        }
      ]
    },
    {
      "cell_type": "markdown",
      "source": [
        "## Operador in"
      ],
      "metadata": {
        "id": "9Dj315orqfgc"
      }
    },
    {
      "cell_type": "code",
      "source": [
        "nums = [1, 2, 3]\n",
        "2 in nums"
      ],
      "metadata": {
        "colab": {
          "base_uri": "https://localhost:8080/"
        },
        "id": "lfZDnNwIqhz9",
        "outputId": "cfea4370-59cb-4045-fbf3-f2840fdd3929"
      },
      "execution_count": null,
      "outputs": [
        {
          "output_type": "execute_result",
          "data": {
            "text/plain": [
              "True"
            ]
          },
          "metadata": {},
          "execution_count": 97
        }
      ]
    },
    {
      "cell_type": "markdown",
      "source": [
        "# For"
      ],
      "metadata": {
        "id": "3s-rHpPLtYD7"
      }
    },
    {
      "cell_type": "code",
      "source": [
        "lista = ['Agustina','Tomás','Isabel','Lucía','Santiago','Julián']\n",
        "\n",
        "for elemento in lista:\n",
        "    print(elemento)"
      ],
      "metadata": {
        "colab": {
          "base_uri": "https://localhost:8080/"
        },
        "id": "NMwlrS6etbPs",
        "outputId": "ee310f4c-2875-4243-94ce-06250b5181a6"
      },
      "execution_count": null,
      "outputs": [
        {
          "output_type": "stream",
          "name": "stdout",
          "text": [
            "Agustina\n",
            "Tomás\n",
            "Isabel\n",
            "Lucía\n",
            "Santiago\n",
            "Julián\n"
          ]
        }
      ]
    },
    {
      "cell_type": "code",
      "source": [
        "lista = ['Agustina','Tomás','Isabel','Lucía','Santiago','Julián']\n",
        "\n",
        "longitud = len(lista)  # 6\n",
        "\n",
        "for indice in range(longitud):\n",
        "    print(lista[indice])"
      ],
      "metadata": {
        "colab": {
          "base_uri": "https://localhost:8080/"
        },
        "id": "-gKbaMJ_t1Gj",
        "outputId": "969144f6-41db-4131-8ebf-658732f6af40"
      },
      "execution_count": null,
      "outputs": [
        {
          "output_type": "stream",
          "name": "stdout",
          "text": [
            "Agustina\n",
            "Tomás\n",
            "Isabel\n",
            "Lucía\n",
            "Santiago\n",
            "Julián\n"
          ]
        }
      ]
    },
    {
      "cell_type": "code",
      "source": [
        "lista = ['Agustina','Tomás','Isabel','Lucía','Santiago','Julián']\n",
        "\n",
        "longitud = len(lista)  # 6\n",
        "\n",
        "for indice in range(2, longitud):\n",
        "    print(f\"índice: {indice} - {lista[indice]}\")"
      ],
      "metadata": {
        "colab": {
          "base_uri": "https://localhost:8080/"
        },
        "id": "yo24rPcPvkxC",
        "outputId": "80cc632b-8056-404c-e1e6-ee48e8822a5b"
      },
      "execution_count": null,
      "outputs": [
        {
          "output_type": "stream",
          "name": "stdout",
          "text": [
            "índice: 2 - Isabel\n",
            "índice: 3 - Lucía\n",
            "índice: 4 - Santiago\n",
            "índice: 5 - Julián\n"
          ]
        }
      ]
    },
    {
      "cell_type": "code",
      "source": [
        "lista = ['Agustina','Tomás','Isabel','Lucía','Santiago','Julián']\n",
        "\n",
        "longitud = len(lista)  # 6\n",
        "\n",
        "for x in range(0, longitud, 2):\n",
        "    print(x * 10)\n",
        "    print(f\"índice: {x} - {lista[x]}\")"
      ],
      "metadata": {
        "colab": {
          "base_uri": "https://localhost:8080/"
        },
        "id": "wpj4A16hvoKU",
        "outputId": "e53726a9-4cd2-4132-a0b7-00d607e490c2"
      },
      "execution_count": null,
      "outputs": [
        {
          "output_type": "stream",
          "name": "stdout",
          "text": [
            "0\n",
            "índice: 0 - Agustina\n",
            "20\n",
            "índice: 2 - Isabel\n",
            "40\n",
            "índice: 4 - Santiago\n"
          ]
        }
      ]
    },
    {
      "cell_type": "code",
      "source": [
        "numeros = [0, 1, 5]\n",
        "\n",
        "for i in numeros:\n",
        "    print(i)\n",
        "else:\n",
        "    print(\"No hay más dígitos.\")"
      ],
      "metadata": {
        "colab": {
          "base_uri": "https://localhost:8080/"
        },
        "id": "LvgFUeWJv4-b",
        "outputId": "bf34d594-936d-46ec-e945-97ae21f306b1"
      },
      "execution_count": null,
      "outputs": [
        {
          "output_type": "stream",
          "name": "stdout",
          "text": [
            "0\n",
            "1\n",
            "5\n",
            "No hay más dígitos.\n"
          ]
        }
      ]
    },
    {
      "cell_type": "code",
      "source": [
        "for i in range(8):\n",
        "    if i % 2 == 0:\n",
        "        print(i, \"es par\")\n",
        "    else:\n",
        "        print(i, \"es impar\")"
      ],
      "metadata": {
        "colab": {
          "base_uri": "https://localhost:8080/"
        },
        "id": "ftMW7dktwtTN",
        "outputId": "7c5ab780-b78c-41a3-867b-dac5173ffa35"
      },
      "execution_count": null,
      "outputs": [
        {
          "output_type": "stream",
          "name": "stdout",
          "text": [
            "0 es par\n",
            "1 es impar\n",
            "2 es par\n",
            "3 es impar\n",
            "4 es par\n",
            "5 es impar\n",
            "6 es par\n",
            "7 es impar\n"
          ]
        }
      ]
    },
    {
      "cell_type": "code",
      "source": [
        "lista = [\"a\", \"b\", \"c\", \"a\", \"a\"]\n",
        "\n",
        "palabra = input(\"ingrese palabra a eliminar: \")\n",
        "\n",
        "for x in lista:\n",
        "  if palabra in lista:\n",
        "    lista.remove(palabra)\n",
        "\n",
        "print(lista)\n",
        "\n"
      ],
      "metadata": {
        "id": "05hp-uMPxATS",
        "colab": {
          "base_uri": "https://localhost:8080/"
        },
        "outputId": "cc36b8b3-d24c-4215-ec8a-7318d9d1c6e1"
      },
      "execution_count": 9,
      "outputs": [
        {
          "output_type": "stream",
          "name": "stdout",
          "text": [
            "ingrese palabra a eliminar: a\n",
            "['b', 'c']\n"
          ]
        }
      ]
    }
  ]
}