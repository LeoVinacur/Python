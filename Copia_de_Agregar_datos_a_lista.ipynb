{
  "nbformat": 4,
  "nbformat_minor": 0,
  "metadata": {
    "colab": {
      "name": "Copia de Agregar datos a lista.ipynb",
      "provenance": [],
      "authorship_tag": "ABX9TyNbZ0s2ruP6HNq2JeiKRzLl",
      "include_colab_link": true
    },
    "kernelspec": {
      "name": "python3",
      "display_name": "Python 3"
    },
    "language_info": {
      "name": "python"
    }
  },
  "cells": [
    {
      "cell_type": "markdown",
      "metadata": {
        "id": "view-in-github",
        "colab_type": "text"
      },
      "source": [
        "<a href=\"https://colab.research.google.com/github/LeoVinacur/Python/blob/main/Copia_de_Agregar_datos_a_lista.ipynb\" target=\"_parent\"><img src=\"https://colab.research.google.com/assets/colab-badge.svg\" alt=\"Open In Colab\"/></a>"
      ]
    },
    {
      "cell_type": "code",
      "execution_count": 3,
      "metadata": {
        "colab": {
          "base_uri": "https://localhost:8080/"
        },
        "id": "UfYCi2RUXzar",
        "outputId": "a5059600-27b3-4a90-b4f2-9ebfc66f516d"
      },
      "outputs": [
        {
          "output_type": "stream",
          "name": "stdout",
          "text": [
            "ingrese número de nombres que quiere agregar 3\n",
            "ingrese el nombre número 1 Leo\n",
            "ingrese el nombre número 2 Diana\n",
            "ingrese el nombre número 3 Fedra\n",
            "\n",
            "la lista armada es:\n",
            "['Leo', 'Diana', 'Fedra']\n"
          ]
        }
      ],
      "source": [
        "n = int(input(\"ingrese número de nombres que quiere agregar \"))\n",
        "\n",
        "lista = []\n",
        "\n",
        "for i in range(n):\n",
        "    x = input(f\"ingrese el nombre número {i+1} \")\n",
        "    lista.append(x)  #tambien funciona lista+=[x]\n",
        "print()\n",
        "print(\"la lista armada es:\")\n",
        "print(lista)"
      ]
    }
  ]
}