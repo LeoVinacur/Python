{
  "nbformat": 4,
  "nbformat_minor": 0,
  "metadata": {
    "colab": {
      "name": "Copia de Agregar datos a lista.ipynb",
      "provenance": [],
      "collapsed_sections": [],
      "authorship_tag": "ABX9TyNJp4IcWIA/rERaI+GkvLiO",
      "include_colab_link": true
    },
    "kernelspec": {
      "name": "python3",
      "display_name": "Python 3"
    },
    "language_info": {
      "name": "python"
    }
  },
  "cells": [
    {
      "cell_type": "markdown",
      "metadata": {
        "id": "view-in-github",
        "colab_type": "text"
      },
      "source": [
        "<a href=\"https://colab.research.google.com/github/LeoVinacur/Python/blob/main/Copia_de_Agregar_datos_a_lista.ipynb\" target=\"_parent\"><img src=\"https://colab.research.google.com/assets/colab-badge.svg\" alt=\"Open In Colab\"/></a>"
      ]
    },
    {
      "cell_type": "code",
      "execution_count": null,
      "metadata": {
        "colab": {
          "base_uri": "https://localhost:8080/"
        },
        "id": "UfYCi2RUXzar",
        "outputId": "a4346387-c4d7-4ae7-d5b8-6f3bfd2338b2"
      },
      "outputs": [
        {
          "output_type": "stream",
          "name": "stdout",
          "text": [
            "ingrese número de nombres que quiere agregar 5\n",
            "ingrese el nombre número 1 diana\n",
            "ingrese el nombre número 2 leo\n",
            "ingrese el nombre número 3 diana\n",
            "ingrese el nombre número 4 fedr\n",
            "ingrese el nombre número 5 diana\n",
            "\n",
            "la lista armada es:\n",
            "['diana', 'leo', 'diana', 'fedr', 'diana']\n",
            "digame el nombre a buscar para contar cuantas veces esta en la lista diana\n",
            "El nombre diana , esta 3 veces Den la lista \n"
          ]
        }
      ],
      "source": [
        "n = int(input(\"ingrese número de nombres que quiere agregar \"))\n",
        "\n",
        "lista = []\n",
        "\n",
        "for i in range(n):\n",
        "    x = input(f\"ingrese el nombre número {i+1} \")\n",
        "    lista.append(x)  #tambien funciona lista+=[x]\n",
        "print()\n",
        "print(\"la lista armada es:\")\n",
        "print(lista)\n",
        "\n",
        "palabra = input(\"digame el nombre a buscar para contar cuantas veces esta en la lista \")\n",
        "print(f\"El nombre {palabra} , esta {lista.count(palabra)} veces en la lista \")\n"
      ]
    },
    {
      "cell_type": "code",
      "execution_count": null,
      "metadata": {
        "colab": {
          "base_uri": "https://localhost:8080/"
        },
        "outputId": "aedc2cc3-165d-466a-c197-fc7389e2d9fc",
        "id": "8N8vrpryQOEo"
      },
      "outputs": [
        {
          "output_type": "stream",
          "name": "stdout",
          "text": [
            "ingrese palabras a agregar separados por una comaleo,jose\n",
            "leo\n",
            "jose\n",
            "['leo', 'jose']\n",
            "ingrese el indice del nombre o palabra que desea borrar 2\n",
            "['leo']\n"
          ]
        }
      ],
      "source": [
        " \n",
        "\n",
        "\n",
        "#otra forma de agregar palabras a una lista\n",
        "palabras = input(\"ingrese palabras a agregar separados por una coma\")\n",
        "lista_palabras = palabras.split(\",\")\n",
        "#lista_palabras /// poniendo el nombre de la variable, tambien imprime\n",
        "\n",
        "for i in lista_palabras:\n",
        "    print(i)\n",
        "\n",
        "print(lista_palabras)\n",
        "\n",
        "borrar = int(input(\"ingrese el indice del nombre o palabra que desea borrar \"))\n",
        "borrarr = borrar-1\n",
        "lista_palabras.pop(borrarr)\n",
        "print(lista_palabras)"
      ]
    }
  ]
}