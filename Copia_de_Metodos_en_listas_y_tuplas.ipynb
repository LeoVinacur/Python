{
  "nbformat": 4,
  "nbformat_minor": 0,
  "metadata": {
    "colab": {
      "name": "Copia de Metodos en listas y tuplas.ipynb",
      "provenance": [],
      "collapsed_sections": [],
      "authorship_tag": "ABX9TyPjc4PbwYYer76RrC+qjBTe",
      "include_colab_link": true
    },
    "kernelspec": {
      "name": "python3",
      "display_name": "Python 3"
    },
    "language_info": {
      "name": "python"
    }
  },
  "cells": [
    {
      "cell_type": "markdown",
      "metadata": {
        "id": "view-in-github",
        "colab_type": "text"
      },
      "source": [
        "<a href=\"https://colab.research.google.com/github/LeoVinacur/Python/blob/main/Copia_de_Metodos_en_listas_y_tuplas.ipynb\" target=\"_parent\"><img src=\"https://colab.research.google.com/assets/colab-badge.svg\" alt=\"Open In Colab\"/></a>"
      ]
    },
    {
      "cell_type": "code",
      "execution_count": null,
      "metadata": {
        "colab": {
          "base_uri": "https://localhost:8080/"
        },
        "id": "V9jjhUkqzOSF",
        "outputId": "12302126-bb82-45d4-84f2-5d696903f9d5"
      },
      "outputs": [
        {
          "output_type": "stream",
          "name": "stdout",
          "text": [
            "(222, 333, 4, 9)\n",
            "Ahora convierto la tupla a lista y agrego un 4\n",
            "[222, 333, 4, 9, 4]\n",
            "Ahora convierto a tupla\n",
            "(222, 333, 4, 9, 4)\n",
            "con count, cuento cuantos elementos numeros 4 hay\n",
            "2\n",
            "con len cuento cuantos elementos tiene la lista\n",
            "5\n",
            "Ahora utilizo un FOR para iterar cada elemento de la lista\n",
            "- 222 -- 333 -- 4 -- 9 -- 4 - \n",
            "El valor del contador es:  5\n",
            "\n",
            "[(0, 'Pedro'), (1, 'Juan'), (2, 'Jose')]\n",
            "\n",
            "0 Pedro\n",
            "1 Juan\n",
            "2 Jose\n",
            "\n",
            "(0, 'p')\n",
            "(1, 'h')\n",
            "(2, 'y')\n",
            "(3, 't')\n",
            "(4, 'o')\n",
            "(5, 'n')\n",
            "\n",
            "p h y t o n \n",
            "\n",
            "hola chau\n",
            "ingrese su nombre Leo\n",
            "Leo\n"
          ]
        }
      ],
      "source": [
        " \n",
        "tupla1 = (222 , 333 , 4 , 9)\n",
        "print (tupla1)\n",
        "print(\"Ahora convierto la tupla a lista y agrego un 4\")\n",
        "lista1= list(tupla1)\n",
        "lista1.append(4)\n",
        "print (lista1)\n",
        "print(\"Ahora convierto a tupla\")\n",
        "tupla1 = tuple(lista1)\n",
        "print (tupla1)\n",
        "print(\"con count, cuento cuantos elementos numeros 4 hay\")\n",
        "print (lista1.count(4))\n",
        "print (\"con len cuento cuantos elementos tiene la lista\")\n",
        "print(len(lista1))\n",
        "print(\"Ahora utilizo un FOR para iterar cada elemento de la lista\")\n",
        "contador =0\n",
        "for i in lista1:\n",
        "  contador +=1\n",
        "  print( \"-\",i, end=\" -\") # el end=\"\" es para que no haga un salto de línea\n",
        "\n",
        "print(\" \")  #al \"desidentar\" o mandar al margen al print, ya esta fuera del FOR\n",
        "print(\"El valor del contador es: \" ,contador) #al \"desidentar\" o mandar al margen al print, ya esta fuera del FOR\n",
        "print()\n",
        "lista = [\"Pedro\" , \"Juan\" , \"Jose\"]\n",
        "print(list(enumerate(lista)))\n",
        "print()\n",
        "\n",
        "for indice , elemento in enumerate(lista):\n",
        "\tprint(indice , elemento)\n",
        " print()\n",
        "for caracter in enumerate(\"phyton\"):\n",
        "   print(caracter)\n",
        "\n",
        "print()\n",
        "\n",
        "for caracter in \"phyton\":\n",
        "   print(caracter , end=\" \")\n",
        "print()\n",
        "print()\n",
        "\n",
        "variable1 , variable2 = (\"hola\" , \"chau\")\n",
        "print(variable1 , variable2)\n",
        "variable3 = input(\"ingrese su nombre \")\n",
        "print(variable3)"
      ]
    },
    {
      "cell_type": "code",
      "source": [
        "#contar cantidad de letras en una palabra con ciclo FOR\n",
        "from collections import Counter\n",
        "my_str = \"Mary had a little lamb\"\n",
        "counter = Counter(my_str)\n",
        "print(counter['a'])\n",
        "\n",
        "#más simple\n",
        "print('Mary had a little lamb'.count('t'))"
      ],
      "metadata": {
        "colab": {
          "base_uri": "https://localhost:8080/"
        },
        "id": "2_VEDXnUljJR",
        "outputId": "227cd33b-23fb-443d-e7d5-ddd12ffaab0e"
      },
      "execution_count": 2,
      "outputs": [
        {
          "output_type": "stream",
          "name": "stdout",
          "text": [
            "4\n",
            "2\n"
          ]
        }
      ]
    }
  ]
}