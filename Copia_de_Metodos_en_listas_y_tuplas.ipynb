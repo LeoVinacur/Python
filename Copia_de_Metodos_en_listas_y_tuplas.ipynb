{
  "nbformat": 4,
  "nbformat_minor": 0,
  "metadata": {
    "colab": {
      "name": "Copia de Metodos en listas y tuplas.ipynb",
      "provenance": [],
      "collapsed_sections": [],
      "authorship_tag": "ABX9TyNV7yB23kUSl2U9AR0nWNxo",
      "include_colab_link": true
    },
    "kernelspec": {
      "name": "python3",
      "display_name": "Python 3"
    },
    "language_info": {
      "name": "python"
    }
  },
  "cells": [
    {
      "cell_type": "markdown",
      "metadata": {
        "id": "view-in-github",
        "colab_type": "text"
      },
      "source": [
        "<a href=\"https://colab.research.google.com/github/LeoVinacur/Python/blob/main/Copia_de_Metodos_en_listas_y_tuplas.ipynb\" target=\"_parent\"><img src=\"https://colab.research.google.com/assets/colab-badge.svg\" alt=\"Open In Colab\"/></a>"
      ]
    },
    {
      "cell_type": "code",
      "execution_count": null,
      "metadata": {
        "colab": {
          "base_uri": "https://localhost:8080/"
        },
        "id": "V9jjhUkqzOSF",
        "outputId": "12302126-bb82-45d4-84f2-5d696903f9d5"
      },
      "outputs": [
        {
          "output_type": "stream",
          "name": "stdout",
          "text": [
            "(222, 333, 4, 9)\n",
            "Ahora convierto la tupla a lista y agrego un 4\n",
            "[222, 333, 4, 9, 4]\n",
            "Ahora convierto a tupla\n",
            "(222, 333, 4, 9, 4)\n",
            "con count, cuento cuantos elementos numeros 4 hay\n",
            "2\n",
            "con len cuento cuantos elementos tiene la lista\n",
            "5\n",
            "Ahora utilizo un FOR para iterar cada elemento de la lista\n",
            "- 222 -- 333 -- 4 -- 9 -- 4 - \n",
            "El valor del contador es:  5\n",
            "\n",
            "[(0, 'Pedro'), (1, 'Juan'), (2, 'Jose')]\n",
            "\n",
            "0 Pedro\n",
            "1 Juan\n",
            "2 Jose\n",
            "\n",
            "(0, 'p')\n",
            "(1, 'h')\n",
            "(2, 'y')\n",
            "(3, 't')\n",
            "(4, 'o')\n",
            "(5, 'n')\n",
            "\n",
            "p h y t o n \n",
            "\n",
            "hola chau\n",
            "ingrese su nombre Leo\n",
            "Leo\n"
          ]
        }
      ],
      "source": [
        " \n",
        "tupla1 = (222 , 333 , 4 , 9)\n",
        "print (tupla1)\n",
        "print(\"Ahora convierto la tupla a lista y agrego un 4\")\n",
        "lista1= list(tupla1)\n",
        "lista1.append(4)\n",
        "print (lista1)\n",
        "print(\"Ahora convierto a tupla\")\n",
        "tupla1 = tuple(lista1)\n",
        "print (tupla1)\n",
        "print(\"con count, cuento cuantos elementos numeros 4 hay\")\n",
        "print (lista1.count(4))\n",
        "print (\"con len cuento cuantos elementos tiene la lista\")\n",
        "print(len(lista1))\n",
        "print(\"Ahora utilizo un FOR para iterar cada elemento de la lista\")\n",
        "contador =0\n",
        "for i in lista1:\n",
        "  contador +=1\n",
        "  print( \"-\",i, end=\" -\") # el end=\"\" es para que no haga un salto de línea\n",
        "\n",
        "print(\" \")  #al \"desidentar\" o mandar al margen al print, ya esta fuera del FOR\n",
        "print(\"El valor del contador es: \" ,contador) #al \"desidentar\" o mandar al margen al print, ya esta fuera del FOR\n",
        "print()\n",
        "lista = [\"Pedro\" , \"Juan\" , \"Jose\"]\n",
        "print(list(enumerate(lista)))\n",
        "print()\n",
        "\n",
        "for indice , elemento in enumerate(lista):\n",
        "    print(indice , elemento)\n",
        " print()\n",
        "for caracter in enumerate(\"phyton\"):\n",
        "   print(caracter)\n",
        "\n",
        "print()\n",
        "\n",
        "for caracter in \"phyton\":\n",
        "   print(caracter , end=\" \")\n",
        "print()\n",
        "print()\n",
        "\n",
        "variable1 , variable2 = (\"hola\" , \"chau\")\n",
        "print(variable1 , variable2)\n",
        "variable3 = input(\"ingrese su nombre \")\n",
        "print(variable3)"
      ]
    },
    {
      "cell_type": "code",
      "source": [
        "#contar cantidad de letras en una palabra con ciclo FOR\n",
        "from collections import Counter\n",
        "my_str = \"Mary had a little lamb\"\n",
        "counter = Counter(my_str)\n",
        "print(counter['a'])\n",
        "\n",
        "#más simple\n",
        "print('Mary had a little lamb'.count('t'))"
      ],
      "metadata": {
        "colab": {
          "base_uri": "https://localhost:8080/"
        },
        "id": "2_VEDXnUljJR",
        "outputId": "227cd33b-23fb-443d-e7d5-ddd12ffaab0e"
      },
      "execution_count": null,
      "outputs": [
        {
          "output_type": "stream",
          "name": "stdout",
          "text": [
            "4\n",
            "2\n"
          ]
        }
      ]
    },
    {
      "cell_type": "code",
      "source": [
        "cantidad_palabras = int(input(\"Ingrese la cantidad de palabras: \"))\n",
        "\n",
        "if cantidad_palabras == 0:\n",
        "    print(\"No es posible agregar 0 palabras\")\n",
        "else:\n",
        "    lista = []\n",
        "    for i in range(cantidad_palabras):\n",
        "        nueva_palabra = input(\"Nueva palabra: \")\n",
        "        lista.append(nueva_palabra)\n",
        "    print(\"Lista de palabras:\", lista)\n",
        "    reemplazar = input(\"Ingrese palabra de la lista a reemplazar: \")\n",
        "    reemplazo = input(\"Ingrese la nueva palabra de reemplazo: \")\n",
        "    \n",
        "    for i in lista:  # recorre toda la lista\n",
        "        if reemplazar in lista:\n",
        "            indice = lista.index(reemplazar)  # index devuelve el valor de una determinada posición\n",
        "            lista[indice] = reemplazo  # asigna un nuevo valor a esa determinada posición de la list\n",
        "    print(\"Nueva lista de palabras:\", lista)"
      ],
      "metadata": {
        "colab": {
          "base_uri": "https://localhost:8080/"
        },
        "id": "QQw4FojFUts8",
        "outputId": "04897b52-e0c7-41fc-c489-3dc1e3a2b9a7"
      },
      "execution_count": null,
      "outputs": [
        {
          "output_type": "stream",
          "name": "stdout",
          "text": [
            "Ingrese la cantidad de palabras: 2\n",
            "Nueva palabra: jose\n",
            "Nueva palabra: maria\n",
            "Lista de palabras: ['jose', 'maria']\n",
            "Ingrese palabra de la lista a reemplazar: jose\n",
            "Ingrese la nueva palabra de reemplazo: pepe\n",
            "Nueva lista de palabras: ['pepe', 'maria']\n"
          ]
        }
      ]
    },
    {
      "cell_type": "code",
      "source": [
        ""
      ],
      "metadata": {
        "id": "f9dSQ2jYVWjq"
      },
      "execution_count": null,
      "outputs": []
    },
    {
      "cell_type": "code",
      "source": [
        "cantidad_palabras = int(input(\"Ingrese la cantidad de palabras: \"))\n",
        "\n",
        "if cantidad_palabras == 0:\n",
        "    print(\"No es posible agregar 0 palabras\")\n",
        "else:\n",
        "    lista = []\n",
        "    for i in range(cantidad_palabras):\n",
        "        nueva_palabra = input(\"Nueva palabra: \")\n",
        "        lista.append(nueva_palabra)\n",
        "    print(\"Lista de palabras:\", lista)\n",
        "    reemplazar = input(\"Ingrese palabra de la lista a reemplazar: \")\n",
        "    reemplazo = input(\"Ingrese la nueva palabra de reemplazo: \")\n",
        "    \n",
        "    for i in lista:  # recorre toda la lista\n",
        "        if reemplazar in lista:\n",
        "            indice = lista.index(reemplazar)  # index devuelve el valor de una determinada posición\n",
        "            lista[indice] = reemplazo  # asigna un nuevo valor a esa determinada posición de la list\n",
        "    print(\"Nueva lista de palabras:\", lista)"
      ],
      "metadata": {
        "colab": {
          "base_uri": "https://localhost:8080/"
        },
        "outputId": "04897b52-e0c7-41fc-c489-3dc1e3a2b9a7",
        "id": "x0THxNYcVf1S"
      },
      "execution_count": null,
      "outputs": [
        {
          "output_type": "stream",
          "name": "stdout",
          "text": [
            "Ingrese la cantidad de palabras: 2\n",
            "Nueva palabra: jose\n",
            "Nueva palabra: maria\n",
            "Lista de palabras: ['jose', 'maria']\n",
            "Ingrese palabra de la lista a reemplazar: jose\n",
            "Ingrese la nueva palabra de reemplazo: pepe\n",
            "Nueva lista de palabras: ['pepe', 'maria']\n"
          ]
        }
      ]
    },
    {
      "cell_type": "code",
      "source": [
        ""
      ],
      "metadata": {
        "id": "dTCCnoKKo3zn"
      },
      "execution_count": null,
      "outputs": []
    },
    {
      "cell_type": "code",
      "source": [
        "lista = [\"pepe\" , \"jose\"]\n",
        "\n",
        "cambiar = input(\"ingrese la palabra a cambiar \")\n",
        "cambio = input(\"ingrese la palabra nueva \")\n",
        "\n",
        "for i in lista:\n",
        "  if cambiar in lista:\n",
        "    indice = lista.index(cambiar)\n",
        "    lista[indice] = cambio\n",
        "\n",
        "print(lista)\n"
      ],
      "metadata": {
        "colab": {
          "base_uri": "https://localhost:8080/"
        },
        "id": "izIR6C0GVp4D",
        "outputId": "741afd23-93df-4331-d790-507dcfb1a53e"
      },
      "execution_count": null,
      "outputs": [
        {
          "output_type": "stream",
          "name": "stdout",
          "text": [
            "ingrese la palabra a cambiar pepe\n",
            "ingrese la palabra nueva leo\n",
            "['leo', 'jose']\n"
          ]
        }
      ]
    },
    {
      "cell_type": "code",
      "source": [
        ""
      ],
      "metadata": {
        "id": "q6P02juWo5JF"
      },
      "execution_count": null,
      "outputs": []
    },
    {
      "cell_type": "code",
      "execution_count": null,
      "metadata": {
        "colab": {
          "base_uri": "https://localhost:8080/"
        },
        "id": "UfYCi2RUXzar",
        "outputId": "a4346387-c4d7-4ae7-d5b8-6f3bfd2338b2"
      },
      "outputs": [
        {
          "output_type": "stream",
          "name": "stdout",
          "text": [
            "ingrese número de nombres que quiere agregar 5\n",
            "ingrese el nombre número 1 diana\n",
            "ingrese el nombre número 2 leo\n",
            "ingrese el nombre número 3 diana\n",
            "ingrese el nombre número 4 fedr\n",
            "ingrese el nombre número 5 diana\n",
            "\n",
            "la lista armada es:\n",
            "['diana', 'leo', 'diana', 'fedr', 'diana']\n",
            "digame el nombre a buscar para contar cuantas veces esta en la lista diana\n",
            "El nombre diana , esta 3 veces Den la lista \n"
          ]
        }
      ],
      "source": [
        "n = int(input(\"ingrese número de nombres que quiere agregar \"))\n",
        "\n",
        "lista = []\n",
        "\n",
        "for i in range(n):\n",
        "    x = input(f\"ingrese el nombre número {i+1} \")\n",
        "    lista.append(x)  #tambien funciona lista+=[x]\n",
        "print()\n",
        "print(\"la lista armada es:\")\n",
        "print(lista)\n",
        "\n",
        "palabra = input(\"digame el nombre a buscar para contar cuantas veces esta en la lista \")\n",
        "print(f\"El nombre {palabra} , esta {lista.count(palabra)} veces en la lista \")\n"
      ]
    },
    {
      "cell_type": "code",
      "source": [
        "lista1=[\"jose\",\"diana\",\"ariel\"]\n",
        "lista2=[\"diana\",\"fedra\",\"sofia\"]\n",
        "\n",
        "print(lista1)\n",
        "print(lista2)\n",
        "\n",
        "for i in range(len(lista1)):\n",
        "    for y in range(len(lista2)):\n",
        "      if lista1[i] == lista2[y]:\n",
        "        print(lista1[i])"
      ],
      "metadata": {
        "colab": {
          "base_uri": "https://localhost:8080/"
        },
        "id": "FEEiQgKio8F-",
        "outputId": "7ecdcc8b-4acb-4d42-bf46-9d9305b865bc"
      },
      "execution_count": 29,
      "outputs": [
        {
          "output_type": "stream",
          "name": "stdout",
          "text": [
            "['jose', 'diana', 'ariel']\n",
            "['diana', 'fedra', 'sofia']\n",
            "diana\n"
          ]
        }
      ]
    }
  ]
}