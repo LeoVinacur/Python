{
  "nbformat": 4,
  "nbformat_minor": 0,
  "metadata": {
    "colab": {
      "name": "Copia de Repaso.ipynb",
      "provenance": [],
      "collapsed_sections": [],
      "include_colab_link": true
    },
    "kernelspec": {
      "name": "python3",
      "display_name": "Python 3"
    },
    "language_info": {
      "name": "python"
    }
  },
  "cells": [
    {
      "cell_type": "markdown",
      "metadata": {
        "id": "view-in-github",
        "colab_type": "text"
      },
      "source": [
        "<a href=\"https://colab.research.google.com/github/LeoVinacur/Python/blob/main/Copia_de_Repaso.ipynb\" target=\"_parent\"><img src=\"https://colab.research.google.com/assets/colab-badge.svg\" alt=\"Open In Colab\"/></a>"
      ]
    },
    {
      "cell_type": "code",
      "execution_count": null,
      "metadata": {
        "colab": {
          "base_uri": "https://localhost:8080/"
        },
        "id": "ygcMd7fNMLtR",
        "outputId": "5453e74f-10dd-4e62-adbd-ecc6493fd0e3"
      },
      "outputs": [
        {
          "output_type": "stream",
          "name": "stdout",
          "text": [
            "funk\n"
          ]
        }
      ],
      "source": [
        "if 1:\n",
        "  print(\"funk\")"
      ]
    },
    {
      "cell_type": "code",
      "source": [
        "lista_1 = ['h','o','l','a',' ', 'm','u','n','d','o']\n",
        "lista_2 = ['h','o','l','a',' ', 'l','u','n','a']\n",
        "def repetidos(a,b):\n",
        " return list(set([i for i in a for j in b if i==j ]))\n",
        "print(repetidos(lista_1,lista_2))\n",
        "\n",
        "#otra forma, fijarse AND I NOT IN\n",
        "lista_3=[]\n",
        "for i in lista_1:\n",
        "  if i in lista_2 and i not in lista_3:\n",
        "    lista_3.append(i)\n",
        "print(lista_3)"
      ],
      "metadata": {
        "colab": {
          "base_uri": "https://localhost:8080/"
        },
        "id": "meYZH0ekMhT5",
        "outputId": "372c80de-b4b2-4d70-89ce-100f2ea3b2bb"
      },
      "execution_count": null,
      "outputs": [
        {
          "output_type": "stream",
          "name": "stdout",
          "text": [
            "['u', 'h', 'o', 'l', 'n', 'a', ' ']\n",
            "['h', 'o', 'l', 'a', ' ', 'u', 'n']\n"
          ]
        }
      ]
    },
    {
      "cell_type": "code",
      "source": [
        "lista_1 = ['h','o','l','a',' ', 'm','u','n','d','o']\n",
        "lista_2 = ['h','o','l','a',' ', 'l','u','n','a']\n",
        "\n",
        "lista_resultado =[]\n",
        "\n",
        "for i in lista_1:\n",
        "  for b in lista_2:\n",
        "    if i==b:\n",
        "      lista_resultado.append(i)\n",
        "\n",
        "print(set(lista_resultado))\n",
        "\n"
      ],
      "metadata": {
        "colab": {
          "base_uri": "https://localhost:8080/"
        },
        "id": "rlowh6PPNbCm",
        "outputId": "27142f77-9acd-4f3e-aa45-7f05435f7568"
      },
      "execution_count": null,
      "outputs": [
        {
          "output_type": "stream",
          "name": "stdout",
          "text": [
            "{'a', ' ', 'n', 'u', 'h', 'o', 'l'}\n"
          ]
        }
      ]
    },
    {
      "cell_type": "code",
      "source": [
        "paises = ['Canada', 'USA', 'Mexico', 'Australia', 'Argentina', 'China', 'India']\n",
        "for pais in enumerate(paises):\n",
        "  print(f\"Pais: {pais[1]}, Indice: {pais[0]}\")"
      ],
      "metadata": {
        "colab": {
          "base_uri": "https://localhost:8080/"
        },
        "id": "kUlZzxwpPpQI",
        "outputId": "e5f4b1c1-aac8-4c0d-ee3c-ab8b2eb92444"
      },
      "execution_count": null,
      "outputs": [
        {
          "output_type": "stream",
          "name": "stdout",
          "text": [
            "Pais: Canada, Indice: 0\n",
            "Pais: USA, Indice: 1\n",
            "Pais: Mexico, Indice: 2\n",
            "Pais: Australia, Indice: 3\n",
            "Pais: Argentina, Indice: 4\n",
            "Pais: China, Indice: 5\n",
            "Pais: India, Indice: 6\n"
          ]
        }
      ]
    },
    {
      "cell_type": "code",
      "source": [
        "numero = int(input('Ingrese un número: '))\n",
        "numero = str(numero)\n",
        "cantidad = 0\n",
        "for digito in numero:\n",
        "  cantidad +=1\n",
        "print(cantidad)\n"
      ],
      "metadata": {
        "colab": {
          "base_uri": "https://localhost:8080/"
        },
        "id": "kgU6MIKnP1Hy",
        "outputId": "6089a053-da48-400a-a82a-fc0b4219512f"
      },
      "execution_count": null,
      "outputs": [
        {
          "output_type": "stream",
          "name": "stdout",
          "text": [
            "Ingrese un número: 10\n",
            "2\n"
          ]
        }
      ]
    },
    {
      "cell_type": "code",
      "source": [
        "class Estudiantes:\n",
        "  def __init__(self,matricula, nombre,apellido,fecha_nac,examenes):\n",
        "    self.matricula = matricula\n",
        "    self.nombre = nombre\n",
        "    self.apellido = apellido\n",
        "    self.fecha_nac = fecha_nac\n",
        "    self.examenes = examenes\n",
        "    self.notafinal =  0\n",
        "\n",
        "  def __str__(self):\n",
        "    print(\"TEST\")\n",
        "    return f\"Nombre: {self.nombre},Apellido: {self.apellido}, Matricula: {self.matricula}, Nota Final: {self.notafinal}\"\n",
        "\n",
        "  def __getitem__(self, fecha):\n",
        "    return self.examenes[fecha]\n",
        "\n",
        "  def __setitem__(self, fecha, nota):\n",
        "    self.examenes[fecha]=nota\n",
        "\n",
        "  def listarExamenes(self):\n",
        "    dict1 = {}\n",
        "    nota_promedio = 0\n",
        "    cant = 0\n",
        "    for k in self.examenes:\n",
        "      dict1[k]=self.examenes[k]\n",
        "      print(f\"Fecha: {k}, nota: {self.examenes[k]}\")\n",
        "      nota_promedio += self.examenes[k]\n",
        "      cant += 1\n",
        "    print(f\"Nota Promedio {nota_promedio/cant}\")\n",
        "  \n",
        "\n",
        "alumno1 = Estudiantes(10,\"Juan\", \"Perez\", \"10-10-2000\",{\"01-01-2017\":6,\"10-05-2017\":9})\n",
        "\n",
        "print(alumno1)\n",
        "alumno1.listarExamenes()\n",
        "\n",
        "#METODO DE LEO\n",
        "#Diccionario para guardar Alumnos, con todos sus datos y exámenes\n",
        "#La clave es la matrícula, de esa manera se llamará a cada alumno\n",
        "print()\n",
        "diccionarioAlumnos={10:alumno1}  #El 10 es la matrícula\n",
        "print(diccionarioAlumnos[10].nombre)\n",
        "print()\n",
        "print(diccionarioAlumnos[10].listarExamenes())\n"
      ],
      "metadata": {
        "colab": {
          "base_uri": "https://localhost:8080/"
        },
        "id": "vzn-qK5JQFGN",
        "outputId": "3af99a19-e57e-47d3-ec67-2233a69427ac"
      },
      "execution_count": null,
      "outputs": [
        {
          "output_type": "stream",
          "name": "stdout",
          "text": [
            "TEST\n",
            "Nombre: Juan,Apellido: Perez, Matricula: 10, Nota Final: 0\n",
            "Fecha: 01-01-2017, nota: 6\n",
            "Fecha: 10-05-2017, nota: 9\n",
            "Nota Promedio 7.5\n",
            "\n",
            "Juan\n",
            "\n",
            "Fecha: 01-01-2017, nota: 6\n",
            "Fecha: 10-05-2017, nota: 9\n",
            "Nota Promedio 7.5\n",
            "None\n"
          ]
        }
      ]
    }
  ]
}