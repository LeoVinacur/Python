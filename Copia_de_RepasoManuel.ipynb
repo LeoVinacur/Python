{
  "nbformat": 4,
  "nbformat_minor": 0,
  "metadata": {
    "colab": {
      "name": "Copia de RepasoManuel.ipynb",
      "provenance": [],
      "collapsed_sections": [],
      "include_colab_link": true
    },
    "kernelspec": {
      "name": "python3",
      "display_name": "Python 3"
    },
    "language_info": {
      "name": "python"
    }
  },
  "cells": [
    {
      "cell_type": "markdown",
      "metadata": {
        "id": "view-in-github",
        "colab_type": "text"
      },
      "source": [
        "<a href=\"https://colab.research.google.com/github/LeoVinacur/Python/blob/main/Copia_de_RepasoManuel.ipynb\" target=\"_parent\"><img src=\"https://colab.research.google.com/assets/colab-badge.svg\" alt=\"Open In Colab\"/></a>"
      ]
    },
    {
      "cell_type": "code",
      "execution_count": null,
      "metadata": {
        "colab": {
          "base_uri": "https://localhost:8080/"
        },
        "id": "ygcMd7fNMLtR",
        "outputId": "5453e74f-10dd-4e62-adbd-ecc6493fd0e3"
      },
      "outputs": [
        {
          "output_type": "stream",
          "name": "stdout",
          "text": [
            "funk\n"
          ]
        }
      ],
      "source": [
        "if 1:\n",
        "  print(\"funk\")"
      ]
    },
    {
      "cell_type": "code",
      "source": [
        "lista_1 = ['h','o','l','a',' ', 'm','u','n','d','o']\n",
        "lista_2 = ['h','o','l','a',' ', 'l','u','n','a']\n",
        "def repetidos(a,b):\n",
        " return list(set([i for i in a for j in b if i==j ]))\n",
        "print(repetidos(lista_1,lista_2))   \n",
        "\n",
        "for i in lista_1:\n",
        "    if i in lista_2 and i not in lista_3:\n",
        "        lista_3.append(i)\n",
        "\n",
        "print(lista_3)"
      ],
      "metadata": {
        "colab": {
          "base_uri": "https://localhost:8080/"
        },
        "id": "meYZH0ekMhT5",
        "outputId": "f0089f8a-a00d-41b6-9de7-1023bb8fae30"
      },
      "execution_count": null,
      "outputs": [
        {
          "output_type": "stream",
          "name": "stdout",
          "text": [
            "[' ', 'a', 'u', 'n', 'h', 'l', 'o']\n"
          ]
        }
      ]
    },
    {
      "cell_type": "code",
      "source": [
        "lista_1 = ['h','o','l','a',' ', 'm','u','n','d','o']\n",
        "lista_2 = ['h','o','l','a',' ', 'l','u','n','a']\n",
        "\n",
        "lista_resultado =[]\n",
        "\n",
        "for i in lista_1:\n",
        "  for b in lista_2:\n",
        "    if i==b:\n",
        "      lista_resultado.append(i)\n",
        "\n",
        "print(set(lista_resultado))\n",
        "\n"
      ],
      "metadata": {
        "colab": {
          "base_uri": "https://localhost:8080/"
        },
        "id": "rlowh6PPNbCm",
        "outputId": "f6363ede-7391-48ab-dc3a-32afb211949e"
      },
      "execution_count": null,
      "outputs": [
        {
          "output_type": "stream",
          "name": "stdout",
          "text": [
            "{'u', 'n', 'a', 'l', 'h', ' ', 'o'}\n"
          ]
        }
      ]
    },
    {
      "cell_type": "code",
      "source": [
        "paises = ['Canada', 'USA', 'Mexico', 'Australia', 'Argentina', 'China', 'India']\n",
        "for pais in enumerate(paises):\n",
        "  print(f\"Pais: {pais[1]}, Indice: {pais[0]}\")"
      ],
      "metadata": {
        "colab": {
          "base_uri": "https://localhost:8080/"
        },
        "id": "kUlZzxwpPpQI",
        "outputId": "e5f4b1c1-aac8-4c0d-ee3c-ab8b2eb92444"
      },
      "execution_count": null,
      "outputs": [
        {
          "output_type": "stream",
          "name": "stdout",
          "text": [
            "Pais: Canada, Indice: 0\n",
            "Pais: USA, Indice: 1\n",
            "Pais: Mexico, Indice: 2\n",
            "Pais: Australia, Indice: 3\n",
            "Pais: Argentina, Indice: 4\n",
            "Pais: China, Indice: 5\n",
            "Pais: India, Indice: 6\n"
          ]
        }
      ]
    },
    {
      "cell_type": "code",
      "source": [
        "numero = int(input('Ingrese un número: '))\n",
        "numero = str(numero)\n",
        "cantidad = 0\n",
        "for digito in numero:\n",
        "  cantidad +=1\n",
        "print(cantidad)\n"
      ],
      "metadata": {
        "colab": {
          "base_uri": "https://localhost:8080/"
        },
        "id": "kgU6MIKnP1Hy",
        "outputId": "6089a053-da48-400a-a82a-fc0b4219512f"
      },
      "execution_count": null,
      "outputs": [
        {
          "output_type": "stream",
          "name": "stdout",
          "text": [
            "Ingrese un número: 10\n",
            "2\n"
          ]
        }
      ]
    },
    {
      "cell_type": "code",
      "source": [
        "from datetime import datetime\n",
        "import math\n",
        "\n",
        "class Estudiantes:\n",
        "  def __init__(self,matricula, nombre,apellido,fecha_nac,examenes):\n",
        "    self.matricula = matricula\n",
        "    self.nombre = nombre\n",
        "    self.apellido = apellido\n",
        "    self.fecha_nac = fecha_nac\n",
        "    self.examenes = examenes\n",
        "    self.notafinal =  0\n",
        "\n",
        "  def __str__(self):\n",
        "    return f\"Nombre: {self.nombre},Apellido: {self.apellido}, Matricula: {self.matricula}, Examenes: {self.examenes}\"\n",
        "\n",
        "  def __getitem__(self, fecha):\n",
        "    return self.examenes[fecha]\n",
        "\n",
        "  def __setitem__(self, fecha, nota):\n",
        "    self.examenes[fecha]=nota\n",
        "\n",
        "  def listarExamenes(self):\n",
        "    dict1 = {}\n",
        "    nota_promedio = 0\n",
        "    cant = 0\n",
        "    for k in self.examenes:\n",
        "      dict1[k]=self.examenes[k]\n",
        "      print(f\"Fecha: {k}, nota: {self.examenes[k]}\")\n",
        "      nota_promedio += self.examenes[k]\n",
        "      cant += 1\n",
        "    print(f\"Nota Promedio {nota_promedio/cant}\")\n",
        "    return dict1\n",
        "\n",
        "  def getEdad(self):\n",
        "    fecha_nacimiento = datetime.strptime(self.fecha_nac,'%d-%m-%Y')\n",
        "    diferencia = datetime.now() - fecha_nacimiento\n",
        "    return f\"El alumno {self.nombre} {self.apellido} tiene {math.floor(diferencia.days/365)} años\"\n",
        "\n",
        "  def filtroFechas(self,fechaDesde):\n",
        "    examenes = {}\n",
        "    mifechadesde = datetime.strptime(fechaDesde,'%d-%m-%Y')\n",
        "    for fecha in self.examenes:\n",
        "      if datetime.strptime(fecha, '%d-%m-%Y') >= mifechadesde:\n",
        "        examenes[fecha] = self.examenes[fecha]\n",
        "    return examenes\n",
        "\n",
        "#Filtra por matricula\n",
        "def perfilestudiantePorMatricula(lista,suMatricula):\n",
        "  for estudiante in lista:\n",
        "    if estudiante.matricula == suMatricula:\n",
        "      print(estudiante)\n",
        "      \n",
        "#Muestra lista\n",
        "def perfilestudiante(lista):\n",
        "  for estudiante in lista:\n",
        "      print(estudiante)\n",
        " \n",
        "alumno1 = Estudiantes(10,\"Juan\", \"Perez\", \"10-10-1976\",{\"01-01-2017\":6,\"10-05-2017\":9,\"10-08-2017\":9,\"01-08-2017\":3})\n",
        "alumno2 = Estudiantes(15,\"Juana\", \"Diaz\", \"10-10-1996\",{\"01-03-2017\":6,\"11-04-2017\":9,\"10-10-2016\":9,\"01-02-2017\":10})\n",
        "\n",
        "listalumnos =(alumno1,alumno2)\n",
        "\n",
        "alumno1.__setitem__(\"01-01-2018\",10)\n",
        "\n",
        "print(\"getitem: \",alumno1.__getitem__(\"01-08-2017\"))\n",
        "\n",
        "print(alumno1)\n",
        "print()\n",
        "alumno1.listarExamenes()\n",
        "print()\n",
        "print(alumno1.getEdad())\n",
        "print()\n",
        "print(\"Filtro de Fechas\")\n",
        "print(alumno1.filtroFechas(\"01-03-2017\"))\n",
        "print()\n",
        "print(\"Lista de alumnos\")\n",
        "perfilestudiante(listalumnos)\n",
        "print()\n",
        "print(\"Lista de alumnos por matrícula\")\n",
        "perfilestudiantePorMatricula(listalumnos,10)"
      ],
      "metadata": {
        "colab": {
          "base_uri": "https://localhost:8080/"
        },
        "id": "vzn-qK5JQFGN",
        "outputId": "780aac96-b18c-4d92-f9d0-61b27617173e"
      },
      "execution_count": 7,
      "outputs": [
        {
          "output_type": "stream",
          "name": "stdout",
          "text": [
            "getitem:  3\n",
            "Nombre: Juan,Apellido: Perez, Matricula: 10, Examenes: {'01-01-2017': 6, '10-05-2017': 9, '10-08-2017': 9, '01-08-2017': 3, '01-01-2018': 10}\n",
            "\n",
            "Fecha: 01-01-2017, nota: 6\n",
            "Fecha: 10-05-2017, nota: 9\n",
            "Fecha: 10-08-2017, nota: 9\n",
            "Fecha: 01-08-2017, nota: 3\n",
            "Fecha: 01-01-2018, nota: 10\n",
            "Nota Promedio 7.4\n",
            "\n",
            "El alumno Juan Perez tiene 45 años\n",
            "\n",
            "Filtro de Fechas\n",
            "{'10-05-2017': 9, '10-08-2017': 9, '01-08-2017': 3, '01-01-2018': 10}\n",
            "\n",
            "Lista de alumnos\n",
            "Nombre: Juan,Apellido: Perez, Matricula: 10, Examenes: {'01-01-2017': 6, '10-05-2017': 9, '10-08-2017': 9, '01-08-2017': 3, '01-01-2018': 10}\n",
            "Nombre: Juana,Apellido: Diaz, Matricula: 15, Examenes: {'01-03-2017': 6, '11-04-2017': 9, '10-10-2016': 9, '01-02-2017': 10}\n",
            "\n",
            "Lista de alumnos por matrícula\n",
            "Nombre: Juan,Apellido: Perez, Matricula: 10, Examenes: {'01-01-2017': 6, '10-05-2017': 9, '10-08-2017': 9, '01-08-2017': 3, '01-01-2018': 10}\n"
          ]
        }
      ]
    },
    {
      "cell_type": "markdown",
      "source": [
        "¿Qué carácter me devuelve si ejecuto la siguiente instrucción: serie[2]?"
      ],
      "metadata": {
        "id": "v9VPDHWMd0YS"
      }
    },
    {
      "cell_type": "code",
      "source": [
        "serie[2]"
      ],
      "metadata": {
        "colab": {
          "base_uri": "https://localhost:8080/",
          "height": 166
        },
        "id": "nk08MhEjeX9_",
        "outputId": "9330d45d-60d4-4c3c-d336-7b348ed52350"
      },
      "execution_count": null,
      "outputs": [
        {
          "output_type": "error",
          "ename": "NameError",
          "evalue": "ignored",
          "traceback": [
            "\u001b[0;31m---------------------------------------------------------------------------\u001b[0m",
            "\u001b[0;31mNameError\u001b[0m                                 Traceback (most recent call last)",
            "\u001b[0;32m<ipython-input-2-3d6e6498466e>\u001b[0m in \u001b[0;36m<module>\u001b[0;34m()\u001b[0m\n\u001b[0;32m----> 1\u001b[0;31m \u001b[0mserie\u001b[0m\u001b[0;34m[\u001b[0m\u001b[0;36m2\u001b[0m\u001b[0;34m]\u001b[0m\u001b[0;34m\u001b[0m\u001b[0;34m\u001b[0m\u001b[0m\n\u001b[0m",
            "\u001b[0;31mNameError\u001b[0m: name 'serie' is not defined"
          ]
        }
      ]
    }
  ]
}