{
  "nbformat": 4,
  "nbformat_minor": 0,
  "metadata": {
    "colab": {
      "name": "DIRECTORIO de AGENDA.ipynb",
      "provenance": [],
      "collapsed_sections": [],
      "authorship_tag": "ABX9TyOWmeUl0vvYFthrq588jOGQ",
      "include_colab_link": true
    },
    "kernelspec": {
      "name": "python3",
      "display_name": "Python 3"
    },
    "language_info": {
      "name": "python"
    }
  },
  "cells": [
    {
      "cell_type": "markdown",
      "metadata": {
        "id": "view-in-github",
        "colab_type": "text"
      },
      "source": [
        "<a href=\"https://colab.research.google.com/github/LeoVinacur/Python/blob/main/DIRECTORIO_de_AGENDA.ipynb\" target=\"_parent\"><img src=\"https://colab.research.google.com/assets/colab-badge.svg\" alt=\"Open In Colab\"/></a>"
      ]
    },
    {
      "cell_type": "code",
      "execution_count": 1,
      "metadata": {
        "colab": {
          "base_uri": "https://localhost:8080/"
        },
        "id": "YtOdoUGiQRvA",
        "outputId": "2428b571-0313-48ee-e305-4b725ef3fe25"
      },
      "outputs": [
        {
          "output_type": "stream",
          "name": "stdout",
          "text": [
            "Mounted at /drive/\n"
          ]
        }
      ],
      "source": [
        "from google.colab import drive\n",
        "drive.mount(\"/drive/\")\n",
        "ruta = \"/drive/MyDrive/Base de Datos\""
      ]
    },
    {
      "cell_type": "code",
      "source": [
        "while True:\n",
        "      nombre = input(\"Ingrese el nombre del contacto: \")\n",
        "      telefono=input(\"Ingrese el teléfono: \")\n",
        "      mail = input(\"Ingrese el mail del contacto: \")\n",
        "      \n",
        "      f = open(ruta + \"/directorio.txt\", \"a\")\n",
        "      f.write(nombre + \",\" + telefono + \",\" + mail + \"\\n\")     \n",
        "      f.close()\n",
        "      rta=input(\"quiere agregar otro usuario? s/n :\")\n",
        "      if rta != \"s\":\n",
        "        break\n",
        "\n",
        "print()\n",
        "f = open(ruta + \"/directorio.txt\", \"r\")  \n",
        "contenido = f.read()  \n",
        "print(contenido)"
      ],
      "metadata": {
        "colab": {
          "base_uri": "https://localhost:8080/"
        },
        "id": "x-SI4QvJRSke",
        "outputId": "57335500-c064-4f94-a98b-1b8a6cb30e16"
      },
      "execution_count": 114,
      "outputs": [
        {
          "output_type": "stream",
          "name": "stdout",
          "text": [
            "Ingrese el nombre del contacto: ss\n",
            "Ingrese el teléfono: ss\n",
            "Ingrese el mail del contacto: ss\n",
            "quiere agregar otro usuario? s/n :s\n",
            "Ingrese el nombre del contacto: gg\n",
            "Ingrese el teléfono: gg\n",
            "Ingrese el mail del contacto: gg\n",
            "quiere agregar otro usuario? s/n :n\n",
            "\n",
            "ss,ss,ss\n",
            "gg,gg,gg\n",
            "\n"
          ]
        }
      ]
    },
    {
      "cell_type": "code",
      "source": [
        "print()\n",
        "f = open(ruta + \"/directorio.txt\", \"r\")  \n",
        "contenido = f.read()  \n",
        "print(contenido)"
      ],
      "metadata": {
        "colab": {
          "base_uri": "https://localhost:8080/"
        },
        "id": "6RfJX0Z-R1It",
        "outputId": "1042954e-f414-431b-b5da-7eaf4935668c"
      },
      "execution_count": 117,
      "outputs": [
        {
          "output_type": "stream",
          "name": "stdout",
          "text": [
            "\n",
            "\n"
          ]
        }
      ]
    },
    {
      "cell_type": "code",
      "source": [
        "client = input(\"Que telefono esta buscando? \")\n",
        "\n",
        "f = open(ruta + \"/directorio.txt\", \"r\")\n",
        "\n",
        "directory = f.readlines()\n",
        "f.close()\n",
        "listado_telefonos = {}\n",
        "listado_mails = {}\n",
        "\n",
        "for line in directory:\n",
        "  nombre, telefono, mail = line.split(',')\n",
        "  listado_telefonos[nombre] = telefono\n",
        "  listado_mails[nombre] = mail\n",
        "  #print(listado_telefonos)\n",
        "\n",
        "if client in listado_telefonos:\n",
        "    print(\"Nombre: \" + client + \",  Telefono: \" + listado_telefonos[client] + \",  Mail: \" + listado_mails[client] )\n",
        "else:\n",
        "    print('¡El cliente ' + client + ' no existe!\\n')"
      ],
      "metadata": {
        "colab": {
          "base_uri": "https://localhost:8080/"
        },
        "id": "LpZZBYFCR62c",
        "outputId": "40463b96-8ecb-45d5-db75-d2fe2e3cd099"
      },
      "execution_count": 102,
      "outputs": [
        {
          "output_type": "stream",
          "name": "stdout",
          "text": [
            "Que telefono esta buscando? dd\n",
            "Nombre: dd,  Telefono: dd,  Mail: dd\n",
            "\n"
          ]
        }
      ]
    },
    {
      "cell_type": "code",
      "source": [
        "client = input(\"Que telefono quiere borrar? \")\n",
        "f = open(ruta + \"/directorio.txt\", \"r\")\n",
        "directory = f.readlines()\n",
        "f.close()\n",
        "listado_telefonos = {}\n",
        "\n",
        "for line in directory:\n",
        "  nombre, telefono, mail = line.split(',')\n",
        "  listado_telefonos[nombre] = telefono\n",
        "\n",
        "#f = open(ruta + \"/directorio.txt\", \"w\")\n",
        "  if client in listado_telefonos:\n",
        "    del listado_telefonos[client]\n",
        "    f = open(ruta + \"/directorio.txt\", \"w\")\n",
        "    for nombre, telfefono , mail in listado_telefonos.items():\n",
        "      f.write(nombre + ',' + telfefono  + ',' + mail )\n",
        "      f.close()\n",
        "      print('¡El cliente se ha borrado!\\n')\n",
        "  else:\n",
        "    print('¡El cliente ' + client + ' no existe!\\n')\n",
        " \n",
        " "
      ],
      "metadata": {
        "colab": {
          "base_uri": "https://localhost:8080/"
        },
        "id": "52qG_9SVVSLe",
        "outputId": "3b18cc6d-5052-43a5-bde9-55e35bd3a6ce"
      },
      "execution_count": 116,
      "outputs": [
        {
          "output_type": "stream",
          "name": "stdout",
          "text": [
            "Que telefono quiere borrar? ss\n",
            "¡El cliente ss no existe!\n",
            "\n"
          ]
        }
      ]
    }
  ]
}