{
  "nbformat": 4,
  "nbformat_minor": 0,
  "metadata": {
    "colab": {
      "name": "DIccionarios Ej 1 Divisas.ipynb",
      "provenance": [],
      "collapsed_sections": [],
      "authorship_tag": "ABX9TyN5zLm8tIgkFN3jjpDx3mef",
      "include_colab_link": true
    },
    "kernelspec": {
      "name": "python3",
      "display_name": "Python 3"
    },
    "language_info": {
      "name": "python"
    }
  },
  "cells": [
    {
      "cell_type": "markdown",
      "metadata": {
        "id": "view-in-github",
        "colab_type": "text"
      },
      "source": [
        "<a href=\"https://colab.research.google.com/github/LeoVinacur/Python/blob/main/DIccionarios_Ej_1_Divisas.ipynb\" target=\"_parent\"><img src=\"https://colab.research.google.com/assets/colab-badge.svg\" alt=\"Open In Colab\"/></a>"
      ]
    },
    {
      "cell_type": "code",
      "execution_count": null,
      "metadata": {
        "id": "DCFe60kk6F8i"
      },
      "outputs": [],
      "source": [
        ""
      ]
    },
    {
      "cell_type": "markdown",
      "source": [
        "Escribir un programa que guarde en una variable el diccionario {'Euro':'€', 'Dollar':'$', 'Yen':'¥'}, pregunte al usuario por una divisa y muestre su símbolo o un mensaje de aviso si la divisa no está en el diccionario.\n"
      ],
      "metadata": {
        "id": "Pg6NjJ3u6HIa"
      }
    },
    {
      "cell_type": "code",
      "source": [
        "diccionario =  {'Euro':'€', 'Dollar':'$', 'Yen':'¥'}\n",
        "\n",
        " \n",
        "while True:\n",
        "  rta = input(\"Ingrese la divisa, para ver cual es su símbolo \")\n",
        "  print(\"El símbolo de la moneda \", rta , \"es \" ,diccionario[rta])\n",
        "  continuar = input(\"Quiere continuar? s / n \")\n",
        "  if continuar == \"n\":\n",
        "    break\n",
        "\n",
        "print(\"Fin de programa\")\n"
      ],
      "metadata": {
        "colab": {
          "base_uri": "https://localhost:8080/"
        },
        "id": "C5My0Dg06Jzv",
        "outputId": "c0f1edd8-6aaa-4b34-e443-ba581bb499a3"
      },
      "execution_count": null,
      "outputs": [
        {
          "output_type": "stream",
          "name": "stdout",
          "text": [
            "Ingrese la divisa, para ver cual es su símbolo Euro\n",
            "El símbolo de la moneda  Euro es  €\n",
            "Quiere continuar? s / n s\n",
            "Ingrese la divisa, para ver cual es su símbolo Yen\n",
            "El símbolo de la moneda  Yen es  ¥\n",
            "Quiere continuar? s / n n\n",
            "Fin de programa\n"
          ]
        }
      ]
    },
    {
      "cell_type": "code",
      "source": [
        ""
      ],
      "metadata": {
        "id": "Ll_N8ISvAlTQ"
      },
      "execution_count": null,
      "outputs": []
    }
  ]
}