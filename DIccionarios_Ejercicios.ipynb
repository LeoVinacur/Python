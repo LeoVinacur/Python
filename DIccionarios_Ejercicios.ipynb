{
  "nbformat": 4,
  "nbformat_minor": 0,
  "metadata": {
    "colab": {
      "name": "DIccionarios Ejercicios.ipynb",
      "provenance": [],
      "collapsed_sections": [],
      "authorship_tag": "ABX9TyPsgR5Lkms2NVJeQvT2dn90",
      "include_colab_link": true
    },
    "kernelspec": {
      "name": "python3",
      "display_name": "Python 3"
    },
    "language_info": {
      "name": "python"
    }
  },
  "cells": [
    {
      "cell_type": "markdown",
      "metadata": {
        "id": "view-in-github",
        "colab_type": "text"
      },
      "source": [
        "<a href=\"https://colab.research.google.com/github/LeoVinacur/Python/blob/main/DIccionarios_Ejercicios.ipynb\" target=\"_parent\"><img src=\"https://colab.research.google.com/assets/colab-badge.svg\" alt=\"Open In Colab\"/></a>"
      ]
    },
    {
      "cell_type": "code",
      "execution_count": null,
      "metadata": {
        "id": "DCFe60kk6F8i"
      },
      "outputs": [],
      "source": [
        ""
      ]
    },
    {
      "cell_type": "markdown",
      "source": [
        "Escribir un programa que guarde en una variable el diccionario {'Euro':'€', 'Dollar':'$', 'Yen':'¥'}, pregunte al usuario por una divisa y muestre su símbolo o un mensaje de aviso si la divisa no está en el diccionario.\n"
      ],
      "metadata": {
        "id": "Pg6NjJ3u6HIa"
      }
    },
    {
      "cell_type": "code",
      "source": [
        "diccionario =  {'Euro':'€', 'Dollar':'$', 'Yen':'¥'}\n",
        "\n",
        " \n",
        "while True:\n",
        "  rta = input(\"Ingrese la divisa, para ver cual es su símbolo \")\n",
        "  print(\"El símbolo de la moneda \", rta , \"es \" ,diccionario[rta])\n",
        "  continuar = input(\"Quiere continuar? s / n \")\n",
        "  if continuar == \"n\":\n",
        "    break\n",
        "\n",
        "print(\"Fin de programa\")\n"
      ],
      "metadata": {
        "colab": {
          "base_uri": "https://localhost:8080/"
        },
        "id": "C5My0Dg06Jzv",
        "outputId": "c0f1edd8-6aaa-4b34-e443-ba581bb499a3"
      },
      "execution_count": null,
      "outputs": [
        {
          "output_type": "stream",
          "name": "stdout",
          "text": [
            "Ingrese la divisa, para ver cual es su símbolo Euro\n",
            "El símbolo de la moneda  Euro es  €\n",
            "Quiere continuar? s / n s\n",
            "Ingrese la divisa, para ver cual es su símbolo Yen\n",
            "El símbolo de la moneda  Yen es  ¥\n",
            "Quiere continuar? s / n n\n",
            "Fin de programa\n"
          ]
        }
      ]
    },
    {
      "cell_type": "markdown",
      "source": [
        "Ejercicio 1\n",
        "Escribir un programa que guarde en un diccionario los precios de las\n",
        "frutas de la tabla, pregunte al usuario por una fruta, un número de\n",
        "kilos y muestre por pantalla el precio de ese número de kilos de fruta.\n",
        "Si la fruta no está en el diccionario debe mostrar un mensaje\n",
        "informando de ello.\n",
        "Fruta Precio\n",
        "Plátano 1.35\n",
        "Manzana 0.80\n",
        "Pera 0.85\n",
        "Naranja 0.70"
      ],
      "metadata": {
        "id": "MQ3eu6D8El54"
      }
    },
    {
      "cell_type": "code",
      "source": [
        "#fruta1 = \"Platano\"\n",
        "#precio1 = 1.35\n",
        "#fruta2 = \"Manzana\"\n",
        "#precio2= 0.80\n",
        "#fruta3= \"Pera\"\n",
        "#precio3=0.85\n",
        "#fruta4=\"Naranja\"\n",
        "#precio4=0.70\n",
        "\n",
        "diccionario={}\n",
        " \n",
        "\n",
        "while True:\n",
        "  fruta=input(\"Ingrese una fruta: \")\n",
        "  precio=int(input(\"Ingrese el precio: \"))\n",
        "  diccionario[fruta]=precio\n",
        "  rta=input(\"quiere agregar otra fruta? s/n :\")\n",
        "  if rta != \"s\":\n",
        "    break\n",
        "\n",
        "print()\n",
        "print(diccionario)\n",
        "print()\n",
        "fruit=input(\"Que fruta desea comprar? \")\n",
        "kg=int(input(\"Cuantos kilos desea comprar? \"))\n",
        "\n",
        "if fruit not in diccionario:\n",
        "  print(\"La fruta no esta en el diccionario\")\n",
        "else:\n",
        "  print(\"El precio de los \", kg,\" kilos de \" ,fruit , \" es $\" ,diccionario[fruit]*kg)"
      ],
      "metadata": {
        "id": "Ll_N8ISvAlTQ",
        "colab": {
          "base_uri": "https://localhost:8080/"
        },
        "outputId": "aa8ba975-2f55-4e88-f890-1342d6522b96"
      },
      "execution_count": null,
      "outputs": [
        {
          "output_type": "stream",
          "name": "stdout",
          "text": [
            "Ingrese una fruta: banana\n",
            "Ingrese el precio: 50\n",
            "quiere agregar otra fruta? s/n :s\n",
            "Ingrese una fruta: pera\n",
            "Ingrese el precio: 20\n",
            "quiere agregar otra fruta? s/n :n\n",
            "\n",
            "{'banana': 50, 'pera': 20}\n",
            "\n",
            "Que fruta desea comprar? pera\n",
            "Cuantos kilos desea comprar? 2\n",
            "El precio de los  2  kilos de  pera  es $ 40\n"
          ]
        }
      ]
    },
    {
      "cell_type": "markdown",
      "source": [
        "Ejercicio\n",
        "2\n",
        "Escribir\n",
        "un programa que cree un diccionario vacío y lo vaya llenado\n",
        "con información sobre una persona (por ejemplo nombre, edad, sexo,\n",
        "teléfono, correo electrónico, etc que se le pida al usuario Cada vez\n",
        "que se añada un nuevo dato debe imprimirse el contenido del\n",
        "diccionario"
      ],
      "metadata": {
        "id": "EwEP31kDacNm"
      }
    },
    {
      "cell_type": "code",
      "source": [
        "#diccionario={}\n",
        "base_datos={}\n",
        " \n",
        "\n",
        "while True:\n",
        "  nombre=input(\"Ingrese su nombre: \")\n",
        "  edad = int(input(\"Ingrese su edad: \"))\n",
        "  direccion=input(\"Ingrese su dirección: \")\n",
        "  #diccionario[\"Nombre\"]=nombre\n",
        "  #diccionario[\"Edad\"]=edad\n",
        "  #diccionario[\"Direccion\"]=direccion\n",
        "  base_datos.update({nombre:{\"Nombre\":nombre,\"Edad\":edad,\"Direccion\":direccion}})\n",
        "  #base[nombre]=diccionario // Este método solo agrega los últimos datos de la variable\n",
        "  rta=input(\"quiere agregar otro usuario? s/n :\")\n",
        "  if rta != \"s\":\n",
        "    break\n",
        "\n",
        "print()\n",
        "print(diccionario)\n",
        "print()\n",
        "print(base_datos)\n",
        " \n",
        " "
      ],
      "metadata": {
        "colab": {
          "base_uri": "https://localhost:8080/"
        },
        "id": "2GiFziq-aoe_",
        "outputId": "ca31626e-9c39-4ce0-da46-e1b84d630c58"
      },
      "execution_count": 18,
      "outputs": [
        {
          "output_type": "stream",
          "name": "stdout",
          "text": [
            "Ingrese su nombre: Leo\n",
            "Ingrese su edad: 45\n",
            "Ingrese su dirección: Federico\n",
            "quiere agregar otro usuario? s/n :s\n",
            "Ingrese su nombre: Fedra\n",
            "Ingrese su edad: 30\n",
            "Ingrese su dirección: Salta\n",
            "quiere agregar otro usuario? s/n :s\n",
            "Ingrese su nombre: Diana\n",
            "Ingrese su edad: 70\n",
            "Ingrese su dirección: Mitre\n",
            "quiere agregar otro usuario? s/n :n\n",
            "\n",
            "{}\n",
            "\n",
            "{'Leo': {'Nombre': 'Leo', 'Edad': 45, 'Direccion': 'Federico'}, 'Fedra': {'Nombre': 'Fedra', 'Edad': 30, 'Direccion': 'Salta'}, 'Diana': {'Nombre': 'Diana', 'Edad': 70, 'Direccion': 'Mitre'}}\n"
          ]
        }
      ]
    },
    {
      "cell_type": "markdown",
      "source": [
        "Ejercicio\n",
        "3\n",
        "Escribir un programa que permita gestionar la base de datos de clientes de una empresa. Los clientes\n",
        "se guardarán en un diccionario en el que la clave de cada cliente será su NIF, y el valor será otro\n",
        "diccionario con los datos del cliente (nombre, dirección, teléfono, correo, preferente), donde preferente\n",
        "tendrá el valor True si se trata de un cliente preferente. El programa debe preguntar al usuario por una\n",
        "opción del siguiente menú: \n",
        "(1) Añadir cliente, \n",
        "(2) Eliminar cliente, \n",
        "(3) Mostrar cliente, \n",
        "(4) Listar todos los\n",
        "clientes, \n",
        "(5) Listar clientes preferentes, \n",
        "(6) Terminar. \n",
        "\n",
        "En función de la opción elegida el programa\n",
        "tendrá que hacer lo siguiente:\n",
        "\n",
        "1.\n",
        "Preguntar los datos del cliente, crear un diccionario con los datos y añadirlo a la base de datos.\n",
        "\n",
        "2.\n",
        "Preguntar por el NIF del cliente y eliminar sus datos de la base de datos.\n",
        "\n",
        "3.\n",
        "Preguntar por el NIF del cliente y mostrar sus datos.\n",
        "\n",
        "4.\n",
        "Mostrar lista de todos los clientes de la base datos con su NIF y nombre.\n",
        "\n",
        "5.\n",
        "Mostrar la lista de clientes preferentes de la base de datos con su NIF y nombre.\n",
        "\n",
        "6.\n",
        "Terminar el programa."
      ],
      "metadata": {
        "id": "cX7EObuxvYop"
      }
    },
    {
      "cell_type": "markdown",
      "source": [
        ""
      ],
      "metadata": {
        "id": "OcSlOJose1uR"
      }
    },
    {
      "cell_type": "code",
      "source": [
        "base_datos={23952: {'DNI': '23952' ,'Nombre': 'Leo', 'Teléfono': 1566, 'Direccion': 'Federico', 'Preferente': 'True'}}\n",
        "\n",
        "while True:\n",
        "  print(\"MENU\")\n",
        "  print(\"1 - Agregar Cliente\")\n",
        "  print(\"2 - Eliminar Cliente\")\n",
        "  print(\"3 - Mostrar Cliente\")\n",
        "  print(\"4 - Mostrar TODOS los clientes\")\n",
        "  print(\"5 - Mostrar Clientes PREFERENTES\")\n",
        "  print(\"6 - Salir del sistema\")\n",
        "  opcion=int(input(\"Elija el número de opción deseada: \"))\n",
        "  if opcion ==1:\n",
        "    while True:\n",
        "      dni = int(input(\"Ingrese su DNI: \"))\n",
        "      nombre=input(\"Ingrese su nombre de Cliente: \")\n",
        "      telefono = int(input(\"Ingrese su Teléfono: \"))\n",
        "      direccion=input(\"Ingrese su dirección: \")\n",
        "      preferente=input(\"EL cliente es preferente? True / False: \")\n",
        "      base_datos.update({dni:{\"DNI\":dni , \"Nombre\":nombre,\"Teléfono\":telefono,\"Direccion\":direccion ,\"Preferente\":preferente}})\n",
        "      rta=input(\"quiere agregar otro usuario? s/n :\")\n",
        "      if rta != \"s\":\n",
        "        break\n",
        "  elif opcion ==2:\n",
        "    num=int(input(\"Ingrese el número del DNI del cliente que desea borrar: \"))\n",
        "    if num in base_datos:\n",
        "      del base_datos[num]\n",
        "  elif opcion==3:\n",
        "    num=int(input(\"Que cliente quiere ver? Ingrese DNI: \"))\n",
        "    if num in base_datos:\n",
        "      print(base_datos[num])\n",
        "  elif opcion == 4:\n",
        "    for i in base_datos:\n",
        "      print(base_datos[i])\n",
        "  elif opcion ==5: \n",
        "    for i in base_datos:\n",
        "      if  \"True\" in base_datos[i].values():\n",
        "        print(base_datos[i])\n",
        "  elif opcion ==6:\n",
        "    break\n",
        "\n",
        "  \n",
        " "
      ],
      "metadata": {
        "id": "pxvvef4RRo0u",
        "colab": {
          "base_uri": "https://localhost:8080/"
        },
        "outputId": "a0e61fc0-676f-4d6d-d6f1-e4903218af6a"
      },
      "execution_count": 51,
      "outputs": [
        {
          "name": "stdout",
          "output_type": "stream",
          "text": [
            "MENU\n",
            "1 - Agregar Cliente\n",
            "2 - Eliminar Cliente\n",
            "3 - Mostrar Cliente\n",
            "4 - Mostrar TODOS los clientes\n",
            "5 - Mostrar Clientes PREFERENTES\n",
            "6 - Salir del sistema\n",
            "Elija el número de opción deseada: 4\n",
            "{'DNI': '23952', 'Nombre': 'Leo', 'Teléfono': 1566, 'Direccion': 'Federico', 'Preferente': 'True'}\n",
            "MENU\n",
            "1 - Agregar Cliente\n",
            "2 - Eliminar Cliente\n",
            "3 - Mostrar Cliente\n",
            "4 - Mostrar TODOS los clientes\n",
            "5 - Mostrar Clientes PREFERENTES\n",
            "6 - Salir del sistema\n",
            "Elija el número de opción deseada: 1\n",
            "Ingrese su DNI: 25669\n",
            "Ingrese su nombre de Cliente: Fedra\n",
            "Ingrese su Teléfono: 444\n",
            "Ingrese su dirección: Salta\n",
            "EL cliente es preferente? True / False: True\n",
            "quiere agregar otro usuario? s/n :s\n",
            "Ingrese su DNI: 5964\n",
            "Ingrese su nombre de Cliente: Diana\n",
            "Ingrese su Teléfono: 555\n",
            "Ingrese su dirección: Mitre\n",
            "EL cliente es preferente? True / False: False\n",
            "quiere agregar otro usuario? s/n :n\n",
            "MENU\n",
            "1 - Agregar Cliente\n",
            "2 - Eliminar Cliente\n",
            "3 - Mostrar Cliente\n",
            "4 - Mostrar TODOS los clientes\n",
            "5 - Mostrar Clientes PREFERENTES\n",
            "6 - Salir del sistema\n",
            "Elija el número de opción deseada: 4\n",
            "{'DNI': '23952', 'Nombre': 'Leo', 'Teléfono': 1566, 'Direccion': 'Federico', 'Preferente': 'True'}\n",
            "{'DNI': 25669, 'Nombre': 'Fedra', 'Teléfono': 444, 'Direccion': 'Salta', 'Preferente': 'True'}\n",
            "{'DNI': 5964, 'Nombre': 'Diana', 'Teléfono': 555, 'Direccion': 'Mitre', 'Preferente': 'False'}\n",
            "MENU\n",
            "1 - Agregar Cliente\n",
            "2 - Eliminar Cliente\n",
            "3 - Mostrar Cliente\n",
            "4 - Mostrar TODOS los clientes\n",
            "5 - Mostrar Clientes PREFERENTES\n",
            "6 - Salir del sistema\n",
            "Elija el número de opción deseada: 5\n",
            "{'DNI': '23952', 'Nombre': 'Leo', 'Teléfono': 1566, 'Direccion': 'Federico', 'Preferente': 'True'}\n",
            "{'DNI': 25669, 'Nombre': 'Fedra', 'Teléfono': 444, 'Direccion': 'Salta', 'Preferente': 'True'}\n",
            "MENU\n",
            "1 - Agregar Cliente\n",
            "2 - Eliminar Cliente\n",
            "3 - Mostrar Cliente\n",
            "4 - Mostrar TODOS los clientes\n",
            "5 - Mostrar Clientes PREFERENTES\n",
            "6 - Salir del sistema\n",
            "Elija el número de opción deseada: 3\n",
            "Que cliente quiere ver? Ingrese DNI: 5964\n",
            "{'DNI': 5964, 'Nombre': 'Diana', 'Teléfono': 555, 'Direccion': 'Mitre', 'Preferente': 'False'}\n",
            "MENU\n",
            "1 - Agregar Cliente\n",
            "2 - Eliminar Cliente\n",
            "3 - Mostrar Cliente\n",
            "4 - Mostrar TODOS los clientes\n",
            "5 - Mostrar Clientes PREFERENTES\n",
            "6 - Salir del sistema\n",
            "Elija el número de opción deseada: 4\n",
            "{'DNI': '23952', 'Nombre': 'Leo', 'Teléfono': 1566, 'Direccion': 'Federico', 'Preferente': 'True'}\n",
            "{'DNI': 25669, 'Nombre': 'Fedra', 'Teléfono': 444, 'Direccion': 'Salta', 'Preferente': 'True'}\n",
            "{'DNI': 5964, 'Nombre': 'Diana', 'Teléfono': 555, 'Direccion': 'Mitre', 'Preferente': 'False'}\n",
            "MENU\n",
            "1 - Agregar Cliente\n",
            "2 - Eliminar Cliente\n",
            "3 - Mostrar Cliente\n",
            "4 - Mostrar TODOS los clientes\n",
            "5 - Mostrar Clientes PREFERENTES\n",
            "6 - Salir del sistema\n",
            "Elija el número de opción deseada: 5\n",
            "{'DNI': '23952', 'Nombre': 'Leo', 'Teléfono': 1566, 'Direccion': 'Federico', 'Preferente': 'True'}\n",
            "{'DNI': 25669, 'Nombre': 'Fedra', 'Teléfono': 444, 'Direccion': 'Salta', 'Preferente': 'True'}\n",
            "MENU\n",
            "1 - Agregar Cliente\n",
            "2 - Eliminar Cliente\n",
            "3 - Mostrar Cliente\n",
            "4 - Mostrar TODOS los clientes\n",
            "5 - Mostrar Clientes PREFERENTES\n",
            "6 - Salir del sistema\n",
            "Elija el número de opción deseada: 6\n"
          ]
        }
      ]
    }
  ]
}