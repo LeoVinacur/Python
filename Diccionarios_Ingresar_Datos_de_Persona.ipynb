{
  "nbformat": 4,
  "nbformat_minor": 0,
  "metadata": {
    "colab": {
      "name": "Diccionarios - Ingresar Datos de Persona.ipynb",
      "provenance": [],
      "collapsed_sections": [],
      "authorship_tag": "ABX9TyP8/Mj4UHoVtK04Ocx7QLx1",
      "include_colab_link": true
    },
    "kernelspec": {
      "name": "python3",
      "display_name": "Python 3"
    },
    "language_info": {
      "name": "python"
    }
  },
  "cells": [
    {
      "cell_type": "markdown",
      "metadata": {
        "id": "view-in-github",
        "colab_type": "text"
      },
      "source": [
        "<a href=\"https://colab.research.google.com/github/LeoVinacur/Python/blob/main/Diccionarios_Ingresar_Datos_de_Persona.ipynb\" target=\"_parent\"><img src=\"https://colab.research.google.com/assets/colab-badge.svg\" alt=\"Open In Colab\"/></a>"
      ]
    },
    {
      "cell_type": "code",
      "execution_count": null,
      "metadata": {
        "id": "ftj06k8GC4sx"
      },
      "outputs": [],
      "source": [
        " "
      ]
    },
    {
      "cell_type": "code",
      "source": [
        "nombre = input(\"Ingrese su nombre: \")\n",
        "edad = int(input(\"Ingrese su edad: \"))\n",
        "direccion = input(\"Ingrese su dirección: \")\n",
        "telefono = int(input(\"Ingrese su teléfono: \"))\n",
        "\n",
        "persona = {\"nombre\": nombre, \"edad\": edad, \"direccion\": direccion, \"telefono\": telefono}\n",
        "print(\"el usuario\" , persona[\"nombre\"], \" tiene \" , persona[\"edad\"], \" años \", \"vive en la calle \" , persona[\"direccion\"], \" y su teléfono es: \" ,persona[\"telefono\"] )\n",
        "\n",
        "print(\n",
        "    f\"El usuario {persona['nombre']} tiene {persona['edad']} años, vive en {persona['direccion']} y su número de teléfono es {persona['telefono']}\"\n",
        ")\n",
        " "
      ],
      "metadata": {
        "colab": {
          "base_uri": "https://localhost:8080/"
        },
        "id": "fWaP-vRTDQ7Z",
        "outputId": "674e5fb5-d491-447e-d521-2fe3eeeaf46b"
      },
      "execution_count": 28,
      "outputs": [
        {
          "output_type": "stream",
          "name": "stdout",
          "text": [
            "Ingrese su nombre: Leo\n",
            "Ingrese su edad: 45\n",
            "Ingrese su dirección: Federico\n",
            "Ingrese su teléfono: 1566\n",
            "el usuario Leo  tiene  45  años  vive en la calle  Federico  y su teléfono es:  1566\n",
            "El usuario Leo tiene 45 años, vive en Federico y su número de teléfono es 1566\n"
          ]
        }
      ]
    }
  ]
}