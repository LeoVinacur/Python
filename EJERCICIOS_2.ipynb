{
  "nbformat": 4,
  "nbformat_minor": 0,
  "metadata": {
    "colab": {
      "name": "EJERCICIOS 2.ipynb",
      "provenance": [],
      "collapsed_sections": [],
      "authorship_tag": "ABX9TyN552oLl83YuvDcXJ3cS5Rt",
      "include_colab_link": true
    },
    "kernelspec": {
      "name": "python3",
      "display_name": "Python 3"
    },
    "language_info": {
      "name": "python"
    }
  },
  "cells": [
    {
      "cell_type": "markdown",
      "metadata": {
        "id": "view-in-github",
        "colab_type": "text"
      },
      "source": [
        "<a href=\"https://colab.research.google.com/github/LeoVinacur/Python/blob/main/EJERCICIOS_2.ipynb\" target=\"_parent\"><img src=\"https://colab.research.google.com/assets/colab-badge.svg\" alt=\"Open In Colab\"/></a>"
      ]
    },
    {
      "cell_type": "code",
      "execution_count": 13,
      "metadata": {
        "colab": {
          "base_uri": "https://localhost:8080/"
        },
        "id": "Qep18Jxzn4s7",
        "outputId": "12663ff3-5c97-4112-d4c8-081a6bd57dad"
      },
      "outputs": [
        {
          "output_type": "stream",
          "name": "stdout",
          "text": [
            "EJERCICIOS 2\n"
          ]
        }
      ],
      "source": [
        "print(\"EJERCICIOS 2\")\n",
        "\n"
      ]
    },
    {
      "cell_type": "code",
      "source": [
        "\n",
        "nombre = input(\"Ingrese su nombre \")\n",
        "print(\"Su nombre es\" ,nombre)"
      ],
      "metadata": {
        "colab": {
          "base_uri": "https://localhost:8080/"
        },
        "id": "Y0WSFJKJn-Jc",
        "outputId": "f023af53-3ac0-4173-fc8b-2e57360c1430"
      },
      "execution_count": 14,
      "outputs": [
        {
          "output_type": "stream",
          "name": "stdout",
          "text": [
            "Ingrese su nombre diana\n",
            "Su nombre es diana\n"
          ]
        }
      ]
    },
    {
      "cell_type": "code",
      "source": [
        "n = ((3+2)/(2*5))**2\n",
        "print(n)"
      ],
      "metadata": {
        "colab": {
          "base_uri": "https://localhost:8080/"
        },
        "id": "NlhSVTkioN-9",
        "outputId": "625875aa-8cae-48f6-ac50-cc3156a7004a"
      },
      "execution_count": null,
      "outputs": [
        {
          "output_type": "stream",
          "name": "stdout",
          "text": [
            "0.25\n"
          ]
        }
      ]
    },
    {
      "cell_type": "code",
      "source": [
        "horas = int(input(\"Ingrese el numero de horas trabajadas \"))\n",
        "paga = int(input(\"ingrese a cuanto se paga la hora \"))\n",
        "print(\"El monto a pagar es de \" , horas*paga , \"pesos\")"
      ],
      "metadata": {
        "colab": {
          "base_uri": "https://localhost:8080/"
        },
        "id": "u9b5c96XpR-7",
        "outputId": "b6ed795d-188a-4734-9747-d9bcb62fa028"
      },
      "execution_count": null,
      "outputs": [
        {
          "output_type": "stream",
          "name": "stdout",
          "text": [
            "Ingrese el numero de horas trabajadas 10\n",
            "ingrese a cuanto se paga la hora 3\n",
            "El monto a pagar es de  30 pesos\n"
          ]
        }
      ]
    },
    {
      "cell_type": "code",
      "source": [
        "n = int(input(\"Ingrese un número entero positivo \"))\n",
        "print(\"la suma de todos los enteros desde 1 hasta n es: \" , n*((n+1)/2))"
      ],
      "metadata": {
        "colab": {
          "base_uri": "https://localhost:8080/"
        },
        "id": "YhrjMzXYqY6D",
        "outputId": "2fc34d37-9ff8-46a0-cafe-7ae38b872f5d"
      },
      "execution_count": 15,
      "outputs": [
        {
          "output_type": "stream",
          "name": "stdout",
          "text": [
            "Ingrese un número entero positivo 189\n",
            "la suma de todos los enteros desde 1 hasta n es:  17955.0\n"
          ]
        }
      ]
    },
    {
      "cell_type": "code",
      "source": [
        "peso = float(input(\"Ingrese su peso en kilos \"))\n",
        "altura = float(input(\"Ingrese su altura en metros \"))\n",
        "imc = (peso/(altura)**2) \n",
        "print(\"Su índice de masa corporal es: \" , round(imc, 2) )"
      ],
      "metadata": {
        "colab": {
          "base_uri": "https://localhost:8080/"
        },
        "id": "ThJEntP8sEkU",
        "outputId": "f2fe4f1c-51b2-4181-a0a0-0323002839f6"
      },
      "execution_count": 8,
      "outputs": [
        {
          "output_type": "stream",
          "name": "stdout",
          "text": [
            "Ingrese su peso en kilos 110\n",
            "Ingrese su altura en metros 1.89\n",
            "Su índice de masa corporal es:  30.79\n"
          ]
        }
      ]
    },
    {
      "cell_type": "code",
      "source": [
        "print(\"PAYASOS Y MUÑECAS\")\n",
        "p = int(input(\"Ingrese la cantidad de payasos \"))\n",
        "m = int(input(\"Ingrese la cantidad de muñecas \"))\n",
        "peso = ((p*112) + (m*75))\n",
        "print(\"El peso total del paquete será: \" , peso, \" gramos\")\n",
        "\n"
      ],
      "metadata": {
        "id": "nFSEYS4wshnK",
        "colab": {
          "base_uri": "https://localhost:8080/"
        },
        "outputId": "2fb446f9-cbbe-407e-a65d-18d0a7b9e552"
      },
      "execution_count": 11,
      "outputs": [
        {
          "output_type": "stream",
          "name": "stdout",
          "text": [
            "PAYASOS Y MUÑECAS\n",
            "Ingrese la cantidad de payasos 1\n",
            "Ingrese la cantidad de muñecas 1\n",
            "El peso total del paquete será:  187  gramos\n"
          ]
        }
      ]
    },
    {
      "cell_type": "code",
      "source": [
        "pan = int(input(\"Ingrese cuantas barras de pan vendió, que no son del día \"))\n",
        "print(\"El precio del pan es $35 cada barra\")\n",
        "print(\"El descuento aplicado por no ser pan del día es 60%\")\n",
        "print(\"El precio total de las barras de pan vendidas, aplicado el descuento es: \" , pan *35*0.4)"
      ],
      "metadata": {
        "colab": {
          "base_uri": "https://localhost:8080/"
        },
        "id": "SeCCnQHnqSnQ",
        "outputId": "9ae27d70-6af5-4009-c87f-7cbf780e7972"
      },
      "execution_count": 12,
      "outputs": [
        {
          "output_type": "stream",
          "name": "stdout",
          "text": [
            "Ingrese cuantas barras de pan vendió, que no son del día 10\n",
            "El precio del pan es $35 cada barra\n",
            "El descuento aplicado por no ser pan del día es 60%\n",
            "El precio total de las barras de pan vendidas, aplicado el descuento es:  140.0\n"
          ]
        }
      ]
    }
  ]
}