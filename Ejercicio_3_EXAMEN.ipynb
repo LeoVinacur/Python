{
  "nbformat": 4,
  "nbformat_minor": 0,
  "metadata": {
    "colab": {
      "name": "Ejercicio 3 EXAMEN.ipynb",
      "provenance": [],
      "collapsed_sections": [],
      "authorship_tag": "ABX9TyM38FzQtFnfgB5w1bjLFZj1",
      "include_colab_link": true
    },
    "kernelspec": {
      "name": "python3",
      "display_name": "Python 3"
    },
    "language_info": {
      "name": "python"
    }
  },
  "cells": [
    {
      "cell_type": "markdown",
      "metadata": {
        "id": "view-in-github",
        "colab_type": "text"
      },
      "source": [
        "<a href=\"https://colab.research.google.com/github/LeoVinacur/Python/blob/main/Ejercicio_3_EXAMEN.ipynb\" target=\"_parent\"><img src=\"https://colab.research.google.com/assets/colab-badge.svg\" alt=\"Open In Colab\"/></a>"
      ]
    },
    {
      "cell_type": "code",
      "source": [
        "from google.colab import drive\n",
        "drive.mount(\"/drive/\")\n",
        "ruta = \"/drive/MyDrive/Base de Datos\""
      ],
      "metadata": {
        "colab": {
          "base_uri": "https://localhost:8080/"
        },
        "id": "iODOJvy0iphp",
        "outputId": "cc6fbc39-3bcf-4e2b-92c1-9a0061b4d8ea"
      },
      "execution_count": 1,
      "outputs": [
        {
          "output_type": "stream",
          "name": "stdout",
          "text": [
            "Mounted at /drive/\n"
          ]
        }
      ]
    },
    {
      "cell_type": "code",
      "execution_count": 9,
      "metadata": {
        "colab": {
          "base_uri": "https://localhost:8080/"
        },
        "id": "DVa3JdK3igbr",
        "outputId": "f6123a03-6d53-45bf-dbfb-ef8bd85fa09a"
      },
      "outputs": [
        {
          "output_type": "stream",
          "name": "stdout",
          "text": [
            "[{'nombre': 'Flash', 'identidadSecreta': \"Bartholomew Henry 'Barry' Allen\", 'poderes': ['Inmensa velocidad', 'agilidad', 'Electrokinesis']}, {'nombre': 'Batman', 'identidadSecreta': 'Bruce Wayne', 'poderes': ['Super fuerza', 'super velocidad']}, {'nombre': 'Super Man', 'identidadSecreta': 'Clark Joseph Kent', 'poderes': ['Super fuerza', 'super velocidad', 'resistencia', 'agilidad', 'reflejos', 'durabilidad', 'sentidos y longevidad']}]\n"
          ]
        }
      ],
      "source": [
        "\"\"\"Consigna: Guardar el diccionario “heroes” en un archivo.json llamado\n",
        "super_heroes.json con una indentacion de 4.\"\"\"\n",
        "\n",
        "from google.colab import drive\n",
        "drive.mount(\"/drive/\")\n",
        "ruta = \"/drive/MyDrive/Base de Datos\"\n",
        "\n",
        "import json\n",
        "heroes= {\n",
        "\"nombre\": \"Flash\",\n",
        "\"identidadSecreta\": \"Bartholomew Henry 'Barry' Allen\",\n",
        "\"poderes\": [\n",
        "\"Inmensa velocidad\",\n",
        "\"agilidad\",\n",
        "\"Electrokinesis\"]\n",
        "},{\"nombre\": \"Batman\",\n",
        "\"identidadSecreta\": \"Bruce Wayne\",\n",
        "\"poderes\": [\"Super fuerza\",\n",
        "\"super velocidad\"]},{ \"nombre\": \"Super Man\",\n",
        "\"identidadSecreta\": \"Clark Joseph Kent\",\n",
        "\"poderes\": [\"Super fuerza\",\n",
        "\"super velocidad\",\n",
        "\"resistencia\",\n",
        "\"agilidad\",\n",
        "\"reflejos\",\n",
        "\"durabilidad\",\n",
        "\"sentidos y longevidad\"\n",
        "]}\n",
        "\n",
        "with open(\"superheroes.json\", 'w') as file:\n",
        "    json.dump(heroes, file, indent=4)\n",
        "\n",
        "with open(\"superheroes.json\") as file:\n",
        "    super = json.load(file)\n",
        "print(super)\n",
        " "
      ]
    }
  ]
}