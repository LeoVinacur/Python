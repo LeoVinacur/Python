{
  "nbformat": 4,
  "nbformat_minor": 0,
  "metadata": {
    "colab": {
      "name": "Ejercicios con Funciones.ipynb",
      "provenance": [],
      "collapsed_sections": [],
      "authorship_tag": "ABX9TyMIGrzK4F6E0OcsBSWH0x4f",
      "include_colab_link": true
    },
    "kernelspec": {
      "name": "python3",
      "display_name": "Python 3"
    },
    "language_info": {
      "name": "python"
    }
  },
  "cells": [
    {
      "cell_type": "markdown",
      "metadata": {
        "id": "view-in-github",
        "colab_type": "text"
      },
      "source": [
        "<a href=\"https://colab.research.google.com/github/LeoVinacur/Python/blob/main/Ejercicios_con_Funciones.ipynb\" target=\"_parent\"><img src=\"https://colab.research.google.com/assets/colab-badge.svg\" alt=\"Open In Colab\"/></a>"
      ]
    },
    {
      "cell_type": "markdown",
      "source": [
        ""
      ],
      "metadata": {
        "id": "KJheQXf0Ce4r"
      }
    },
    {
      "cell_type": "markdown",
      "source": [
        "FUNCIONES - EJERCICIOS\n",
        "\n",
        "Ejercicio 1\n"
      ],
      "metadata": {
        "id": "PN1VV8D4Ci6B"
      }
    },
    {
      "cell_type": "code",
      "source": [
        "def saludo(nombre):\n",
        "  \"\"\"Imprime el nombre\"\"\"\n",
        "  print(\"Hola\",nombre)\n",
        "\n",
        "saludo(\"Diana\")\n",
        "saludo(\"Pepe\")"
      ],
      "metadata": {
        "colab": {
          "base_uri": "https://localhost:8080/"
        },
        "id": "N_6kQVHrClTr",
        "outputId": "3d234f9c-ccda-4223-f09f-1b5190334022"
      },
      "execution_count": null,
      "outputs": [
        {
          "output_type": "stream",
          "name": "stdout",
          "text": [
            "Hola Diana\n",
            "Hola Pepe\n"
          ]
        }
      ]
    },
    {
      "cell_type": "markdown",
      "source": [
        "Ejercicio 2"
      ],
      "metadata": {
        "id": "ikyk_2zWDCri"
      }
    },
    {
      "cell_type": "code",
      "source": [
        "def cuadrado_de_lista(lista_numeros ):\n",
        "  cuadrados=[]\n",
        "  for i in lista_numeros :\n",
        "   cuadrados.append(i **2)  \n",
        "  return cuadrados\n",
        "\n",
        "\n",
        "def mostrar_print(dato , lista_numeros):\n",
        "  resultado= cuadrado_de_lista(lista_numeros)\n",
        "  print(dato , resultado)\n",
        "  \n",
        "\n",
        "\n",
        "lista=[1,2,3,4]\n",
        "\n",
        "dato=\"El resultado es: \"\n",
        "\n",
        "mostrar_print(dato , lista)\n",
        " \n",
        "#cuadrado_de_lista(lista)"
      ],
      "metadata": {
        "colab": {
          "base_uri": "https://localhost:8080/"
        },
        "id": "H-4oneTDDEO5",
        "outputId": "cb6db576-792d-426d-f3a4-028a3f92ae98"
      },
      "execution_count": null,
      "outputs": [
        {
          "output_type": "stream",
          "name": "stdout",
          "text": [
            "\n",
            "El resultado es:  [1, 4, 9, 16]\n"
          ]
        }
      ]
    },
    {
      "cell_type": "markdown",
      "source": [
        "Ejercicio 3\n",
        "Escribir una función que reciba una frase y devuelva un diccionario\n",
        "con las palabras que contiene y su longitud.\n"
      ],
      "metadata": {
        "id": "KoCBBIvgEC05"
      }
    },
    {
      "cell_type": "code",
      "source": [
        "def funcion_frase(frase):\n",
        "  print(\"la longitud es: \",len(frase), \"letras y/o espacios\")\n",
        "  lista = frase.split()\n",
        "  if len(lista)==0:\n",
        "    print(\"vacia\")\n",
        "\n",
        "  n=len(lista)\n",
        "  print(\"La frase tiene\",len(lista), \"palabras\")\n",
        "\n",
        "\n",
        "funcion_frase(\"\")"
      ],
      "metadata": {
        "id": "TiYGAP3sEEIb",
        "colab": {
          "base_uri": "https://localhost:8080/"
        },
        "outputId": "36b10a01-723d-4fa6-aa1d-3d3aac152f22"
      },
      "execution_count": 5,
      "outputs": [
        {
          "output_type": "stream",
          "name": "stdout",
          "text": [
            "la longitud es:  0 letras y/o espacios\n",
            "vacia\n",
            "La frase tiene 0 palabras\n"
          ]
        }
      ]
    }
  ]
}