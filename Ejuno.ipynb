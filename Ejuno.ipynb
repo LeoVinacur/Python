{
  "nbformat": 4,
  "nbformat_minor": 0,
  "metadata": {
    "colab": {
      "name": "Untitled0.ipynb",
      "provenance": [],
      "collapsed_sections": [],
      "authorship_tag": "ABX9TyMNB4o+R2Ydj/cBLX+xKy1S",
      "include_colab_link": true
    },
    "kernelspec": {
      "name": "python3",
      "display_name": "Python 3"
    },
    "language_info": {
      "name": "python"
    }
  },
  "cells": [
    {
      "cell_type": "markdown",
      "metadata": {
        "id": "view-in-github",
        "colab_type": "text"
      },
      "source": [
        "<a href=\"https://colab.research.google.com/github/LeoVinacur/Python/blob/main/Ejuno.ipynb\" target=\"_parent\"><img src=\"https://colab.research.google.com/assets/colab-badge.svg\" alt=\"Open In Colab\"/></a>"
      ]
    },
    {
      "cell_type": "code",
      "execution_count": 14,
      "metadata": {
        "colab": {
          "base_uri": "https://localhost:8080/"
        },
        "id": "VocDDyj01X2P",
        "outputId": "49fff0f6-37bf-4a8c-abd1-26b83ec2b71e"
      },
      "outputs": [
        {
          "name": "stdout",
          "output_type": "stream",
          "text": [
            "ingrese un valor10\n",
            "ingrese otro valor20\n",
            "ingrese otro valor30\n"
          ]
        }
      ],
      "source": [
        "valor1 = int(input(\"ingrese un valor\"))\n",
        "valor2 = int(input(\"ingrese otro valor\"))\n",
        "valor3 = int(input(\"ingrese otro valor\"))"
      ]
    },
    {
      "cell_type": "code",
      "source": [
        "calculo1 = valor1 + valor2\n",
        "calculo2 = valor1/valor2\n",
        "print(\"El resultado del calculo1 es \" , calculo1 , \"y el tipo es\" , type(calculo1))\n",
        "print (\"El resultado del calculo2 es \" , calculo2 , \"y el tipo es\",  type(calculo2))"
      ],
      "metadata": {
        "colab": {
          "base_uri": "https://localhost:8080/"
        },
        "id": "nPW5vVp613mh",
        "outputId": "3ed9a343-6dce-4f5f-91ae-6f699e137343"
      },
      "execution_count": 15,
      "outputs": [
        {
          "output_type": "stream",
          "name": "stdout",
          "text": [
            "El resultado del calculo1 es  30 y el tipo es <class 'int'>\n",
            "El resultado del calculo2 es  0.5 y el tipo es <class 'float'>\n"
          ]
        }
      ]
    }
  ]
}