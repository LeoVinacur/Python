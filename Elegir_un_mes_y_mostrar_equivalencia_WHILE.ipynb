{
  "nbformat": 4,
  "nbformat_minor": 0,
  "metadata": {
    "colab": {
      "name": "Elegir un mes y mostrar equivalencia WHILE.ipynb",
      "provenance": [],
      "collapsed_sections": [],
      "authorship_tag": "ABX9TyPxylfHhfWWEi+OMt10MOVr",
      "include_colab_link": true
    },
    "kernelspec": {
      "name": "python3",
      "display_name": "Python 3"
    },
    "language_info": {
      "name": "python"
    }
  },
  "cells": [
    {
      "cell_type": "markdown",
      "metadata": {
        "id": "view-in-github",
        "colab_type": "text"
      },
      "source": [
        "<a href=\"https://colab.research.google.com/github/LeoVinacur/Python/blob/main/Elegir_un_mes_y_mostrar_equivalencia_WHILE.ipynb\" target=\"_parent\"><img src=\"https://colab.research.google.com/assets/colab-badge.svg\" alt=\"Open In Colab\"/></a>"
      ]
    },
    {
      "cell_type": "code",
      "execution_count": 36,
      "metadata": {
        "colab": {
          "base_uri": "https://localhost:8080/"
        },
        "id": "MMurdvUexfVP",
        "outputId": "b3dd4c92-ea71-4652-d702-48bed052dde4"
      },
      "outputs": [
        {
          "output_type": "stream",
          "name": "stdout",
          "text": [
            "<class 'tuple'>\n",
            "Ingrese un número del 1 al 12: 5\n",
            "el mes equivalente al número ingresado es:  mayo\n",
            "Fin de programa\n"
          ]
        }
      ],
      "source": [
        "meses =(\"enero\",\"febrero\",\"marzo\",\"abril\",\"mayo\",\"junio\",\"julio\",\"agosto\",\"septiembre\",\"octubre\",\"noviembre\",\"diciembre\")\n",
        "print(type(meses))\n",
        "\n",
        " \n",
        "while True:\n",
        "  rta = int(input(\"Ingrese un número del 1 al 12: \"))\n",
        "  if rta >12 or rta<1:\n",
        "    print(\"ingrese un número válido\")\n",
        "  else:\n",
        "    print(\"el mes equivalente al número ingresado es: \" , meses[rta-1])\n",
        "    break\n",
        "\n",
        "print(\"Fin de programa\")"
      ]
    }
  ]
}