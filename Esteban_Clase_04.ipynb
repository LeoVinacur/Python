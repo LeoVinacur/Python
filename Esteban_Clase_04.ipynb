{
  "nbformat": 4,
  "nbformat_minor": 0,
  "metadata": {
    "colab": {
      "name": "Esteban. Clase 04.ipynb",
      "provenance": [],
      "collapsed_sections": [],
      "include_colab_link": true
    },
    "kernelspec": {
      "name": "python3",
      "display_name": "Python 3"
    },
    "language_info": {
      "name": "python"
    }
  },
  "cells": [
    {
      "cell_type": "markdown",
      "metadata": {
        "id": "view-in-github",
        "colab_type": "text"
      },
      "source": [
        "<a href=\"https://colab.research.google.com/github/LeoVinacur/Python/blob/main/Esteban_Clase_04.ipynb\" target=\"_parent\"><img src=\"https://colab.research.google.com/assets/colab-badge.svg\" alt=\"Open In Colab\"/></a>"
      ]
    },
    {
      "cell_type": "markdown",
      "source": [
        "# **CLASE 4**"
      ],
      "metadata": {
        "id": "bWM2q9m1_ybX"
      }
    },
    {
      "cell_type": "markdown",
      "source": [
        "# Ejercicio 1\n",
        "\n",
        "Codear un programa que le permita crear una lista de palabras, las cuales son ingresadas por consola. Para esto, el programa debe pedir al usuario la cantidad de palabras, y luego agregar las palabras por consola. Si se le ingresa 0, deberá informar que no es posible agregar 0 palabras."
      ],
      "metadata": {
        "id": "PpSA2YJDKWja"
      }
    },
    {
      "cell_type": "code",
      "execution_count": null,
      "metadata": {
        "colab": {
          "base_uri": "https://localhost:8080/"
        },
        "id": "5Vs0_L_RKSOD",
        "outputId": "9c4e74c9-18a2-4e92-c00c-4f4faf28ee0d"
      },
      "outputs": [
        {
          "output_type": "stream",
          "name": "stdout",
          "text": [
            "Ingrese la cantidad de palabras: 3\n",
            "Nueva palabra: Primera\n",
            "Nueva palabra: Segunda\n",
            "Nueva palabra: Tercera\n",
            "Lista de palabras: ['Primera', 'Segunda', 'Tercera']\n"
          ]
        }
      ],
      "source": [
        "cantidad_palabras = int(input(\"Ingrese la cantidad de palabras: \"))\n",
        "\n",
        "if cantidad_palabras == 0:\n",
        "    print(\"No es posible agregar 0 palabras\")\n",
        "else:\n",
        "    lista = []\n",
        "    for i in range(cantidad_palabras):\n",
        "        nueva_palabra = input(\"Nueva palabra: \")\n",
        "        lista.append(nueva_palabra)\n",
        "    print(\"Lista de palabras:\", lista)\n",
        "  "
      ]
    },
    {
      "cell_type": "markdown",
      "source": [
        "# Ejercicio 2\n",
        "Codear un programa que le permita crear una lista de palabras y que, a continuación, pida una palabra y diga cuántas veces aparece la misma dentro de la lista."
      ],
      "metadata": {
        "id": "pXFwahUhTsqN"
      }
    },
    {
      "cell_type": "code",
      "source": [
        "cantidad_palabras = int(input(\"Ingrese la cantidad de palabras: \"))\n",
        "\n",
        "if cantidad_palabras == 0:\n",
        "    print(\"No es posible agregar 0 palabras\")\n",
        "else:\n",
        "    lista = []\n",
        "    for i in range(cantidad_palabras):\n",
        "        nueva_palabra = input(\"Nueva palabra: \")\n",
        "        lista.append(nueva_palabra)\n",
        "    print(\"Lista de palabras:\", lista)\n",
        "    palabra_a_contar = input(\"Ingrese una palabra para contar cúantas veces aparece en la lista: \")\n",
        "    cuenta = lista.count(palabra_a_contar)\n",
        "    print(f\"La palabra '{palabra_a_contar}'' aparece {cuenta} veces en la lista.\")"
      ],
      "metadata": {
        "colab": {
          "base_uri": "https://localhost:8080/"
        },
        "id": "i1_4ZIBNKWGD",
        "outputId": "367c7b37-2c3b-4932-c37a-179f5833a0c3"
      },
      "execution_count": null,
      "outputs": [
        {
          "output_type": "stream",
          "name": "stdout",
          "text": [
            "Ingrese la cantidad de palabras: 5\n",
            "Nueva palabra: uno\n",
            "Nueva palabra: dos\n",
            "Nueva palabra: uno\n",
            "Nueva palabra: uo\n",
            "Nueva palabra: tres\n",
            "Lista de palabras: ['uno', 'dos', 'uno', 'uo', 'tres']\n",
            "Ingrese una palabra para contar cúantas veces aparece en la lista: uno\n",
            "La palabra 'uno'' aparece 2 veces en la lista.\n"
          ]
        }
      ]
    },
    {
      "cell_type": "markdown",
      "source": [
        "# Ejercicio 3\n",
        "Codear un programa que le permita crear una lista de palabras y que luego le pida 2 palabras y reemplace la primera palabra por la segunda en la lista."
      ],
      "metadata": {
        "id": "1qQYE7xwWLxz"
      }
    },
    {
      "cell_type": "code",
      "source": [
        "cantidad_palabras = int(input(\"Ingrese la cantidad de palabras: \"))\n",
        "\n",
        "if cantidad_palabras == 0:\n",
        "    print(\"No es posible agregar 0 palabras\")\n",
        "else:\n",
        "    lista = []\n",
        "    for i in range(cantidad_palabras):\n",
        "        nueva_palabra = input(\"Nueva palabra: \")\n",
        "        lista.append(nueva_palabra)\n",
        "    print(\"Lista de palabras:\", lista)\n",
        "    reemplazar = input(\"Ingrese palabra de la lista a reemplazar: \")\n",
        "    reemplazo = input(\"Ingrese la nueva palabra de reemplazo: \")\n",
        "    \n",
        "    for i in lista:  # recorre toda la lista\n",
        "        if reemplazar in lista:\n",
        "            indice = lista.index(reemplazar)  # index devuelve el valor de una determinada posición\n",
        "            lista[indice] = reemplazo  # asigna un nuevo valor a esa determinada posición de la list\n",
        "    print(\"Nueva lista de palabras:\", lista)"
      ],
      "metadata": {
        "colab": {
          "base_uri": "https://localhost:8080/"
        },
        "id": "eweC6ey3WZ33",
        "outputId": "b4b45e96-c01b-4ed6-d8cf-b0c58ca861d7"
      },
      "execution_count": null,
      "outputs": [
        {
          "output_type": "stream",
          "name": "stdout",
          "text": [
            "Ingrese la cantidad de palabras: 5\n",
            "Nueva palabra: a\n",
            "Nueva palabra: a\n",
            "Nueva palabra: b\n",
            "Nueva palabra: c\n",
            "Nueva palabra: a\n",
            "Lista de palabras: ['a', 'a', 'b', 'c', 'a']\n",
            "Ingrese palabra de la lista a reemplazar: a\n",
            "Ingrese la nueva palabra de reemplazo : Z\n",
            "Nueva lista de palabras: ['Z', 'Z', 'b', 'c', 'Z']\n"
          ]
        }
      ]
    },
    {
      "cell_type": "markdown",
      "source": [
        "# Ejercicio 4\n",
        "\n",
        "Codear un programa que permita crear una lista de palabras y que luego le pida una palabra y la elimine de la lista."
      ],
      "metadata": {
        "id": "Fr0OO36h9-nm"
      }
    },
    {
      "cell_type": "code",
      "source": [
        "cantidad_palabras = int(input(\"Ingrese la cantidad de palabras: \"))\n",
        "\n",
        "if cantidad_palabras == 0:\n",
        "    print(\"No es posible agregar 0 palabras\")\n",
        "else:\n",
        "    lista = []\n",
        "    for i in range(cantidad_palabras):\n",
        "        nueva_palabra = input(\"Nueva palabra: \")\n",
        "        lista.append(nueva_palabra)\n",
        "    print(\"Lista de palabras:\", lista)\n",
        "    eliminar = input(\"Ingrese palabra a eliminar: \")\n",
        "    \n",
        "    for i in lista:  # recorre toda la lista\n",
        "        if eliminar in lista:\n",
        "            lista.remove(eliminar)  # remove elimina el primer elemento que coincide con el argumento 'eliminar'\n",
        "    print(\"Nueva lista de palabras:\", lista)"
      ],
      "metadata": {
        "colab": {
          "base_uri": "https://localhost:8080/"
        },
        "id": "-nLPKavb-6PN",
        "outputId": "4984a6cc-4615-4b1f-f214-7373df407cfe"
      },
      "execution_count": null,
      "outputs": [
        {
          "output_type": "stream",
          "name": "stdout",
          "text": [
            "Ingrese la cantidad de palabras: 5\n",
            "Nueva palabra: a\n",
            "Nueva palabra: b\n",
            "Nueva palabra: a\n",
            "Nueva palabra: c\n",
            "Nueva palabra: a\n",
            "Lista de palabras: ['a', 'b', 'a', 'c', 'a']\n",
            "Ingrese palabra a eliminar: a\n",
            "Nueva lista de palabras: ['b', 'c']\n"
          ]
        }
      ]
    }
  ]
}