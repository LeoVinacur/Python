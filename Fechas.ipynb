{
  "nbformat": 4,
  "nbformat_minor": 0,
  "metadata": {
    "colab": {
      "name": "Fechas.ipynb",
      "provenance": [],
      "collapsed_sections": [],
      "authorship_tag": "ABX9TyPka6/pcc8H7dVdaXjTW1MP",
      "include_colab_link": true
    },
    "kernelspec": {
      "name": "python3",
      "display_name": "Python 3"
    },
    "language_info": {
      "name": "python"
    }
  },
  "cells": [
    {
      "cell_type": "markdown",
      "metadata": {
        "id": "view-in-github",
        "colab_type": "text"
      },
      "source": [
        "<a href=\"https://colab.research.google.com/github/LeoVinacur/Python/blob/main/Fechas.ipynb\" target=\"_parent\"><img src=\"https://colab.research.google.com/assets/colab-badge.svg\" alt=\"Open In Colab\"/></a>"
      ]
    },
    {
      "cell_type": "code",
      "execution_count": 5,
      "metadata": {
        "colab": {
          "base_uri": "https://localhost:8080/"
        },
        "id": "NCEFcwQ4K84U",
        "outputId": "9076e135-56b7-406d-f71d-4d8341237a0c"
      },
      "outputs": [
        {
          "output_type": "stream",
          "name": "stdout",
          "text": [
            "48\n"
          ]
        }
      ],
      "source": [
        "from datetime import date \n",
        "\n",
        "\n",
        "fecha1 = date(1974 , 5 , 9)  #Año / Mes / Dia\n",
        "fecha2= date(2022 , 6 , 2)\n",
        "\n",
        "fecha3 = fecha2 - fecha1\n",
        "\n",
        "print(round(fecha3.days/365))"
      ]
    },
    {
      "cell_type": "code",
      "source": [
        "from datetime import date\n",
        "\n",
        "def calcularEdad(fechaNacimiento):\n",
        "    fecha_actual = date.today() # NO olvidar el paréntesis\n",
        "    resultado = fecha_actual.year - fechaNacimiento.year\n",
        "    resultado -= ((fecha_actual.month , fecha_actual.day)< (fechaNacimiento.month , fechaNacimiento.day))\n",
        "    return resultado\n",
        "\n",
        "fechaNacimiento_Leo= date(1974,5,9)\n",
        "edad = calcularEdad(fechaNacimiento_Leo)\n",
        "\n",
        "print(edad)"
      ],
      "metadata": {
        "colab": {
          "base_uri": "https://localhost:8080/"
        },
        "id": "wSG2Dord7DB9",
        "outputId": "f8eec26a-42c4-40bb-b4c3-633000df129f"
      },
      "execution_count": 4,
      "outputs": [
        {
          "output_type": "stream",
          "name": "stdout",
          "text": [
            "48\n"
          ]
        }
      ]
    }
  ]
}