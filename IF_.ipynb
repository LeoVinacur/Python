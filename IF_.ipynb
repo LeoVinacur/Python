{
  "nbformat": 4,
  "nbformat_minor": 0,
  "metadata": {
    "colab": {
      "name": "IF .ipynb",
      "provenance": [],
      "authorship_tag": "ABX9TyObDvQNL+vyeJrqKc/Z8fVR",
      "include_colab_link": true
    },
    "kernelspec": {
      "name": "python3",
      "display_name": "Python 3"
    },
    "language_info": {
      "name": "python"
    }
  },
  "cells": [
    {
      "cell_type": "markdown",
      "metadata": {
        "id": "view-in-github",
        "colab_type": "text"
      },
      "source": [
        "<a href=\"https://colab.research.google.com/github/LeoVinacur/Python/blob/main/IF_.ipynb\" target=\"_parent\"><img src=\"https://colab.research.google.com/assets/colab-badge.svg\" alt=\"Open In Colab\"/></a>"
      ]
    },
    {
      "cell_type": "code",
      "execution_count": 24,
      "metadata": {
        "colab": {
          "base_uri": "https://localhost:8080/"
        },
        "id": "bjCjLoxWEeqY",
        "outputId": "21deaaf7-e1c9-49e5-a472-a6430f9958a1"
      },
      "outputs": [
        {
          "output_type": "stream",
          "name": "stdout",
          "text": [
            "ingrese un número positivo o negativo 5\n",
            "Su número ya esta en valor absoluto\n"
          ]
        }
      ],
      "source": [
        "n=int(input(\"ingrese un número positivo o negativo \"))\n",
        "\n",
        "if (n < 0):\n",
        " print(\"El valor absoluto de su número es: \" , abs(n))\n",
        "else:\n",
        " print( \"Su número ya esta en valor absoluto\")\n",
        "   \n"
      ]
    },
    {
      "cell_type": "code",
      "source": [
        ""
      ],
      "metadata": {
        "id": "U8NPYFUBIje-"
      },
      "execution_count": null,
      "outputs": []
    },
    {
      "cell_type": "markdown",
      "source": [
        ""
      ],
      "metadata": {
        "id": "yF7dPv7gIkpt"
      }
    },
    {
      "cell_type": "code",
      "source": [
        "nombre1 = input(\"ingrese su nombre \")\n",
        "nombre2 = input(\"ingrese otro nombre \")\n",
        "if(nombre1.startswith(nombre2[0])): \n",
        "  print(\"Coincidencia!!\")\n",
        "else:\n",
        "  print(\"Los nombres no son iguales\")\n"
      ],
      "metadata": {
        "colab": {
          "base_uri": "https://localhost:8080/"
        },
        "id": "nu00IaRRImmn",
        "outputId": "da1a6154-26bf-420b-d7b0-b25b4577de8f"
      },
      "execution_count": 20,
      "outputs": [
        {
          "output_type": "stream",
          "name": "stdout",
          "text": [
            "ingrese su nombre leo\n",
            "ingrese otro nombre leo\n",
            "Coincidencia!!\n"
          ]
        }
      ]
    },
    {
      "cell_type": "markdown",
      "source": [
        "puede ser:"
      ],
      "metadata": {
        "id": "QTx79NilMwpF"
      }
    },
    {
      "cell_type": "markdown",
      "source": [
        ""
      ],
      "metadata": {
        "id": "zOkah9N2M2w1"
      }
    },
    {
      "cell_type": "code",
      "source": [
        "nombre3 = input(\"ingrese su nombre \")\n",
        "nombre4 = input(\"ingrese otro nombre \")\n",
        "if (nombre3[0] == nombre4[0] or nombre3[-1] == nombre4[-1]):\n",
        "  print(\"Coincidencia\")\n",
        "else:\n",
        "   print(\"Los nombres no comienzan o terminan con la misma letra\")"
      ],
      "metadata": {
        "colab": {
          "base_uri": "https://localhost:8080/"
        },
        "id": "OtDIHXhhMyGO",
        "outputId": "9c014eef-e2bd-4bb6-b296-715e29e5eab2"
      },
      "execution_count": 23,
      "outputs": [
        {
          "output_type": "stream",
          "name": "stdout",
          "text": [
            "ingrese su nombre leo\n",
            "ingrese otro nombre ado\n",
            "Coincidencia\n"
          ]
        }
      ]
    },
    {
      "cell_type": "code",
      "source": [
        ""
      ],
      "metadata": {
        "id": "Etruk9YDNLkG"
      },
      "execution_count": null,
      "outputs": []
    }
  ]
}