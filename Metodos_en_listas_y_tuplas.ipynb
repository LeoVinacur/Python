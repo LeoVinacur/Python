{
  "nbformat": 4,
  "nbformat_minor": 0,
  "metadata": {
    "colab": {
      "name": "Metodos en listas y tuplas.ipynb",
      "provenance": [],
      "authorship_tag": "ABX9TyMouR2cy6Gjb/DxDCQIVxZL",
      "include_colab_link": true
    },
    "kernelspec": {
      "name": "python3",
      "display_name": "Python 3"
    },
    "language_info": {
      "name": "python"
    }
  },
  "cells": [
    {
      "cell_type": "markdown",
      "metadata": {
        "id": "view-in-github",
        "colab_type": "text"
      },
      "source": [
        "<a href=\"https://colab.research.google.com/github/LeoVinacur/Python/blob/main/Metodos_en_listas_y_tuplas.ipynb\" target=\"_parent\"><img src=\"https://colab.research.google.com/assets/colab-badge.svg\" alt=\"Open In Colab\"/></a>"
      ]
    },
    {
      "cell_type": "code",
      "execution_count": 1,
      "metadata": {
        "colab": {
          "base_uri": "https://localhost:8080/"
        },
        "id": "V9jjhUkqzOSF",
        "outputId": "adf1ac1b-4607-4f60-c8f7-4cef0aeacfa9"
      },
      "outputs": [
        {
          "output_type": "stream",
          "name": "stdout",
          "text": [
            "(222, 333, 4)\n",
            "[222, 333, 4, 4]\n",
            "Ahora convierto a tupla\n",
            "(222, 333, 4, 4)\n",
            "con count, cuento cuantos elementos 4 hay\n",
            "2\n",
            "con len cuento cuantos elementos tiene la lista\n",
            "4\n"
          ]
        }
      ],
      "source": [
        " \n",
        "tupla1 = (222 , 333 , 4)\n",
        "print (tupla1)\n",
        "lista1= list(tupla1)\n",
        "lista1.append(4)\n",
        "print (lista1)\n",
        "print(\"Ahora convierto a tupla\")\n",
        "tupla1 = tuple(lista1)\n",
        "print (tupla1)\n",
        "print(\"con count, cuento cuantos elementos 4 hay\")\n",
        "print (lista1.count(4))\n",
        "print (\"con len cuento cuantos elementos tiene la lista\")\n",
        "print(len(lista1))"
      ]
    }
  ]
}