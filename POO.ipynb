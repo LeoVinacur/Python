{
  "nbformat": 4,
  "nbformat_minor": 0,
  "metadata": {
    "colab": {
      "name": "POO.ipynb",
      "provenance": [],
      "collapsed_sections": [],
      "authorship_tag": "ABX9TyNCHy5tfeHlHsaV1dSlexxv",
      "include_colab_link": true
    },
    "kernelspec": {
      "name": "python3",
      "display_name": "Python 3"
    },
    "language_info": {
      "name": "python"
    }
  },
  "cells": [
    {
      "cell_type": "markdown",
      "metadata": {
        "id": "view-in-github",
        "colab_type": "text"
      },
      "source": [
        "<a href=\"https://colab.research.google.com/github/LeoVinacur/Python/blob/main/POO.ipynb\" target=\"_parent\"><img src=\"https://colab.research.google.com/assets/colab-badge.svg\" alt=\"Open In Colab\"/></a>"
      ]
    },
    {
      "cell_type": "code",
      "execution_count": null,
      "metadata": {
        "colab": {
          "base_uri": "https://localhost:8080/"
        },
        "id": "Ao96eJnz_0lO",
        "outputId": "8b621551-f56e-4f5e-ab84-7932973f4d18"
      },
      "outputs": [
        {
          "output_type": "stream",
          "name": "stdout",
          "text": [
            "caniche\n",
            "Creando Perro tomy , caniche, Mamifero\n",
            "Este perro ha ladrado\n",
            "Este perro ha caminado 8 pasos\n",
            "<__main__.Perro object at 0x7fc815e0bb10>\n"
          ]
        }
      ],
      "source": [
        "class Perro:\n",
        "\n",
        "  #Atributos de la clase\n",
        "  especie = \"Mamifero\"\n",
        "\n",
        "  #Constructor de la clase\n",
        "  def __init__(self,nombre,raza):\n",
        "\n",
        "    #atributos de la instancia\n",
        "    self.nombre = nombre\n",
        "    self.raza = raza\n",
        "\n",
        "#Metodos\n",
        "  def ladrar(self):\n",
        "    print(\"Este perro ha ladrado\")\n",
        "  def caminar(self,pasos):\n",
        "    print(f\"Este perro ha caminado {pasos} pasos\")\n",
        "\n",
        "\n",
        "perro1 = Perro(\"tomy\" , \"caniche\")\n",
        "print(perro1.raza)\n",
        "print(f\"Creando Perro {perro1.nombre} , {perro1.raza}, {Perro.especie}\")  #sirve {perro1.especie} \n",
        "                                                      #(Perro es porque es un atributo de clase)\n",
        "\n",
        "perro1.ladrar()\n",
        "perro1.caminar(8)\n",
        "print(perro1)"
      ]
    },
    {
      "cell_type": "markdown",
      "source": [
        ""
      ],
      "metadata": {
        "id": "2naUmCBN9KK3"
      }
    },
    {
      "cell_type": "code",
      "source": [
        "class Atleta():\n",
        "    def __init__(self, nombre, apellido, altura, peso):\n",
        "      self.nombre = nombre\n",
        "      self.apellido = apellido\n",
        "      self.altura = altura\n",
        "      self.peso = peso\n",
        "      self.__telefono = None\n",
        "\n",
        "    def get_telefono(self):\n",
        "       return self.__telefono\n",
        "    \n",
        "    def set_telefono(self, telefono: str):\n",
        "      self.__telefono = telefono\n",
        "        \n",
        "    def obtener_imc(self):\n",
        "      imc = self.peso / self.altura ** 2\n",
        "      return imc\n",
        "\n",
        "atleta1 = Atleta (\"Oliver\" , \"Makensi\" , 1.80 , 110)\n",
        "atleta1.set_telefono(\"2615456\")\n",
        "atleta1.get_telefono()\n",
        "print(atleta1.__dict__)\n",
        "print(atleta1.get_telefono()) "
      ],
      "metadata": {
        "colab": {
          "base_uri": "https://localhost:8080/"
        },
        "id": "n2uav5kVmqmD",
        "outputId": "8ff95b5a-102e-4a17-c5b8-8381ead5da73"
      },
      "execution_count": null,
      "outputs": [
        {
          "output_type": "stream",
          "name": "stdout",
          "text": [
            "{'nombre': 'Oliver', 'apellido': 'Makensi', 'altura': 1.8, 'peso': 110, '_Atleta__telefono': '2615456'}\n",
            "2615456\n"
          ]
        }
      ]
    },
    {
      "cell_type": "code",
      "source": [
        "#Ej. de Damian Paez (corregido por Leo)\n",
        "\n",
        "class Persona:\n",
        "    #Atributos de clase\n",
        "    nacionalidad = \"argentino\"\n",
        "    \n",
        "    #Construcctor de la clase\n",
        "    def __init__(self, nombre, dni):\n",
        "        #Atributos de la instancia\n",
        "        self.nombre= nombre\n",
        "        self.dni= dni\n",
        "        \n",
        "    #Metodos\n",
        "    def genero(self , genero):\n",
        "        print(f\"Genero del alumno: {genero} \")\n",
        "        \n",
        "    def curso(self, curso):\n",
        "        print(f\"Pertenece al curso: {curso} \")\n",
        "        \n",
        "alumno= Persona(\"Juan\", \"25.654.447\")\n",
        "print(f\"El nombre del alumno es:  {alumno.nombre}\")\n",
        "print(f\"El DNI del alumno es: {alumno.dni}\") \n",
        "print(f\"Nacionalidad del Alumno: {alumno.nacionalidad}\")\n",
        "alumno.genero(\"masculino\")\n",
        "alumno.curso(3)\n"
      ],
      "metadata": {
        "colab": {
          "base_uri": "https://localhost:8080/"
        },
        "id": "_39M46o9LawK",
        "outputId": "45964ac3-4b5b-4e3c-8eac-d43518a0bcdc"
      },
      "execution_count": null,
      "outputs": [
        {
          "output_type": "stream",
          "name": "stdout",
          "text": [
            "El nombre del alumno es:  Juan\n",
            "El DNI del alumno es: 25.654.447\n",
            "Nacionalidad del Alumno: argentino\n",
            "Genero del alumno: masculino \n",
            "Pertenece al curso: 3 \n"
          ]
        }
      ]
    },
    {
      "cell_type": "code",
      "source": [
        "from IPython.lib.display import VimeoVideo\n",
        "class Vector():\n",
        "\n",
        "  def __init__(self,data):\n",
        "    self._data =data\n",
        "\n",
        "  def __str__(self):\n",
        "    return f\"{self._data}\"\n",
        "  \n",
        "  def __len__(self):\n",
        "    return len(self._data)\n",
        "\n",
        "  def __getitem__(self,pos):\n",
        "    return  self._data[pos]\n",
        "\n",
        "  def __setitem__(self, pos, value):\n",
        "    self._data[pos] = value\n",
        "\n",
        "v = Vector([15,46])\n",
        "print(v)\n",
        "print(len(v))\n",
        "print(v[1])\n",
        "v[1]=20\n",
        "print(v) , print(v[1])"
      ],
      "metadata": {
        "colab": {
          "base_uri": "https://localhost:8080/"
        },
        "id": "DfM9WxfRI2UV",
        "outputId": "7f11a8ae-a124-40af-af2f-a0c7753cfc3d"
      },
      "execution_count": null,
      "outputs": [
        {
          "output_type": "stream",
          "name": "stdout",
          "text": [
            "[15, 46]\n",
            "2\n",
            "46\n",
            "[15, 20]\n",
            "20\n"
          ]
        },
        {
          "output_type": "execute_result",
          "data": {
            "text/plain": [
              "(None, None)"
            ]
          },
          "metadata": {},
          "execution_count": 15
        }
      ]
    },
    {
      "cell_type": "code",
      "source": [
        "import os\n",
        "os.system(\"cls\")\n",
        "\n",
        "class Animal:\n",
        "    ser_vivo = True\n",
        "    nombre = \"\"\n",
        "\n",
        "    def  __init__(self, nombre, *args, **kwargs):\n",
        "        self.nombre = nombre  \n",
        "        self.propiedades = args\n",
        "        self.caracteristicas = kwargs\n",
        "\n",
        "\n",
        "propiedades = [\"color negro\", \"recién nacido\"]\n",
        "nuevas_caract = {\"hace miau\": True, \"tiene hermanos\": False }\n",
        "gato = Animal(\"Felix\", *propiedades, **nuevas_caract)\n",
        "print(gato.__dict__)\n",
        "print(gato.nombre)\n",
        "print(gato.propiedades)\n",
        "print(gato.caracteristicas)\n"
      ],
      "metadata": {
        "colab": {
          "base_uri": "https://localhost:8080/"
        },
        "id": "uN8v9zkoUQYN",
        "outputId": "9af2a2cb-b29e-4cfa-d799-4c91af435edd"
      },
      "execution_count": null,
      "outputs": [
        {
          "output_type": "stream",
          "name": "stdout",
          "text": [
            "{'nombre': 'Felix', 'propiedades': ('color negro', 'recién nacido'), 'caracteristicas': {'hace miau': True, 'tiene hermanos': False}}\n",
            "Felix\n",
            "('color negro', 'recién nacido')\n",
            "{'hace miau': True, 'tiene hermanos': False}\n"
          ]
        }
      ]
    },
    {
      "cell_type": "code",
      "source": [
        "import os\n",
        "os.system(\"cls\")\n",
        "\n",
        "\n",
        "class Persona:\n",
        "    ojos = 2\n",
        "\n",
        "    def __init__(self, nombre, apellido):\n",
        "        self.nombre = nombre\n",
        "        self.apellido = apellido\n",
        "\n",
        "    def ver_nombre(self):\n",
        "        print(f\"{self.apellido}, {self.nombre}\")\n",
        "\n",
        "    def saludar(self):\n",
        "        return print(f\"Hola, soy {self.nombre} y tengo {Persona.ojos} ojos\")\n",
        "\n",
        "\n",
        "yo = Persona(\"Nicolás\", \"Bespeira\")\n",
        "yo.ver_nombre()\n",
        "yo.saludar()\n"
      ],
      "metadata": {
        "colab": {
          "base_uri": "https://localhost:8080/"
        },
        "id": "7M9rsvvuUeHF",
        "outputId": "6f254989-65ca-4977-9d73-51173d4be99c"
      },
      "execution_count": null,
      "outputs": [
        {
          "output_type": "stream",
          "name": "stdout",
          "text": [
            "Bespeira, Nicolás\n",
            "Hola, soy Nicolás y tengo 2 ojos\n"
          ]
        }
      ]
    },
    {
      "cell_type": "code",
      "source": [
        "class Atleta:\n",
        "\n",
        "    def __init__(self, nombre, apellido, altura, peso):\n",
        "        self.nombre = nombre\n",
        "        self.apellido = apellido\n",
        "        self.altura = altura\n",
        "        self.peso = peso\n",
        " \n",
        "atleta1 = Atleta(\"Pedro\" , \"Gutierrez\" , 1.85 , 110)\n",
        "print(atleta1.__dict__)\n"
      ],
      "metadata": {
        "colab": {
          "base_uri": "https://localhost:8080/"
        },
        "id": "T9hi-zLkcrQ5",
        "outputId": "364ecf65-7191-40f6-b1a2-a6b2038e2f45"
      },
      "execution_count": null,
      "outputs": [
        {
          "output_type": "stream",
          "name": "stdout",
          "text": [
            "{'nombre': 'Pedro', 'apellido': 'Gutierrez', 'altura': 1.85, 'peso': 110}\n"
          ]
        }
      ]
    },
    {
      "cell_type": "markdown",
      "source": [
        "HERENCIA"
      ],
      "metadata": {
        "id": "sXczSgzg9MPB"
      }
    },
    {
      "cell_type": "code",
      "source": [
        "class Ciclista:\n",
        "  def __init__(self, estilo):\n",
        "    self.__estilo=estilo\n",
        "\n",
        "  def get_estilo(self):\n",
        "    return self.__estilo\n",
        "\n",
        "  def set_estilo(self, estilo):\n",
        "    self.__estilo = estilo\n",
        "\n",
        "  def hacer_bici(self):\n",
        "    print(\"Estoy andando en bici\")\n",
        "\n",
        "  def __str__(self):\n",
        "    return f\"soy un ciclista estilo {self.__estilo}\"\n",
        "     \n",
        "\n",
        "class Corredor:\n",
        "   def __init__(self, metros, tipo):\n",
        "    self.metros=metros\n",
        "    self.tipo=tipo\n",
        "\n",
        "   def correr(self):\n",
        "    print(\"Estoy corriendo\")\n",
        "\n",
        "   def __str__(self):\n",
        "    return f\"Soy un atleta del tipo {self.tipo} y corro {self.metros} metros \"\n",
        "\n",
        "\n",
        "class Nadador:\n",
        "   def __init__(self, estilo):\n",
        "    self.__estilo=estilo\n",
        "\n",
        "   def get_estilo(self):\n",
        "    return self.__estilo\n",
        "\n",
        "   def set_estilo(self, estilo):\n",
        "    self.__estilo = estilo\n",
        "\n",
        "   def nadar(self):\n",
        "     print(\"estoy nadando\")\n",
        "\n",
        "   def __str__(self):\n",
        "     return f\"soy un nadador estilo {self.__estilo}\"\n",
        "\n",
        "\n",
        "class Triatleta(Ciclista,Corredor,Nadador):\n",
        "    def __init__(self , estiloC , metros , tipo, estiloN, nombre , edad):\n",
        "      Ciclista.__init__(self , estiloC)\n",
        "      Corredor.__init__(self, metros, tipo)\n",
        "      Nadador.__init__(self , estiloN)\n",
        "      self.nombre = nombre\n",
        "      self.edad = edad\n",
        "\n",
        "    def __str__(self):\n",
        "      return Nadador.__str__(self) +\"\\n\"+ Corredor.__str__(self)  + \"\\n\"+ Ciclista.__str__(self) + f\"\\nMi nombre es {self.nombre} con {self.edad} años\"\n",
        "\n",
        "atleta2 = Triatleta(\"maraton\", 50 , \"trote\" , \"mariposa\" , \"Pepe Angulo\" , 30)\n",
        "\n",
        "print(f\"{atleta2}\")\n",
        "print()\n",
        "print(atleta2)\n",
        "print()\n",
        "atleta2.hacer_bici()\n",
        "atleta2.correr()\n",
        "atleta2.nadar()\n"
      ],
      "metadata": {
        "colab": {
          "base_uri": "https://localhost:8080/"
        },
        "id": "SACv53TcOVvU",
        "outputId": "84b719ca-dbd1-4c8a-8c40-538399ca2ba8"
      },
      "execution_count": 48,
      "outputs": [
        {
          "output_type": "stream",
          "name": "stdout",
          "text": [
            "soy un nadador estilo mariposa\n",
            "Soy un atleta del tipo trote y corro 50 metros \n",
            "soy un ciclista estilo maraton\n",
            "Mi nombre es Pepe Angulo con 30 años\n",
            "\n",
            "soy un nadador estilo mariposa\n",
            "Soy un atleta del tipo trote y corro 50 metros \n",
            "soy un ciclista estilo maraton\n",
            "Mi nombre es Pepe Angulo con 30 años\n",
            "\n",
            "Estoy andando en bici\n",
            "Estoy corriendo\n",
            "estoy nadando\n"
          ]
        }
      ]
    },
    {
      "cell_type": "code",
      "source": [
        "##EJERCICIO DEL PROFESOR\n",
        "#################### CICLISTA ###############################  \n",
        "\n",
        "class Ciclista: \n",
        "\n",
        "  #Constructor, con atributos privados\n",
        "  def __init__(self, estilo):\n",
        "    self.__estilo = estilo\n",
        "\n",
        "  #Metodo de este padre\n",
        "  def hacerBici(self):\n",
        "    print(\"Estoy andando en bici o--to\")\n",
        "\n",
        "  #Como quiero mostrar al objeto\n",
        "  def __str__(self):\n",
        "    return f\"Soy un ciclista del estilo {self.__estilo}\"\n",
        "\n",
        "  #Getter y setter\n",
        "  def get_estilo(self):\n",
        "    return self.__estilo\n",
        "\n",
        "  def set_estilo(self, estilo):\n",
        "    self.__estilo = estilo\n",
        "\n",
        "#################### CORREDOR ###############################\n",
        "class Corredor: \n",
        "\n",
        "  #Constructor, con atributos privados\n",
        "  def __init__(self, metros, tipo):\n",
        "    self.__metros = metros\n",
        "    self.__tipo = tipo\n",
        "\n",
        "  #Metodo de este padre\n",
        "  def correr(self):\n",
        "    print(\"Estoy corriendoooo....\")\n",
        "\n",
        "  #Como quiero mostrar al objeto\n",
        "  def __str__(self):\n",
        "    return f\"Soy un corredor de  {self.__metros} del tipo {self.__tipo}\"\n",
        "\n",
        "\n",
        "  #Getter y setter\n",
        "  def get_metros(self):\n",
        "    return self.__metros\n",
        "\n",
        "  def set_metros(self, metros):\n",
        "    self.__metros = metros\n",
        "\n",
        "  def get_tipo(self):\n",
        "    return self.__tipo\n",
        "\n",
        "  def set_tipo(self, tipo):\n",
        "    self.__tipo = tipo\n",
        "\n",
        "\n",
        "#################### NADADOR ###############################\n",
        "class Nadador:\n",
        "\n",
        "  def __init__(self, estilo):\n",
        "    self.__estilo = estilo\n",
        "\n",
        "\n",
        "  #Metodo de este padre\n",
        "  def nadar(self):\n",
        "    print(\"Nadandooooooo.... \\o/\")\n",
        "\n",
        "\n",
        "  #Como quiero mostrar al objeto\n",
        "  def __str__(self):\n",
        "    return f\"Soy un nadador de  {self.__estilo}\"\n",
        "\n",
        "\n",
        "  #Getter y setter\n",
        "  def get_estilo(self):\n",
        "    return self.__estilo\n",
        "\n",
        "  def set_estilo(self, estilo):\n",
        "    self.__estilo = estilo\n",
        "\n",
        "class TriAtleta(Nadador, Corredor, Ciclista):\n",
        "\n",
        "  #Consturctor\n",
        "  def __init__(self, estiloN, metros, tipo, estiloC, nombreYApellido, edad):\n",
        "\n",
        "    #super().__init__(estiloN, metros, tipo, estiloC)\n",
        "    #En las multiples el super no te sirve\n",
        "    Nadador.__init__(self, estiloN)\n",
        "    Corredor.__init__(self, metros, tipo)\n",
        "    Ciclista.__init__(self, estiloC)\n",
        "\n",
        "    self.__nombreYApellido = nombreYApellido\n",
        "    self.__edad = edad\n",
        "  \n",
        "  def __str__(self):\n",
        "    return Nadador.__str__(self) +\"\\n\"+ Corredor.__str__(self)  +\"\\n\"+ Ciclista.__str__(self) +\"\\nSoy Genial\" +f\"\\nMi nombre es {self.__nombreYApellido} con {self.__edad} años...\"\n",
        "\n",
        "atleta1 = TriAtleta(\"Mariposa\", \"500\", \"Urbano\", \"BMX\", \"Nicolas Perez\", 31)\n",
        "print(f\"{atleta1}\") "
      ],
      "metadata": {
        "colab": {
          "base_uri": "https://localhost:8080/"
        },
        "id": "UvykUqTyKO1h",
        "outputId": "2a070bf6-423e-4d48-8dd1-b0e328303b5f"
      },
      "execution_count": 19,
      "outputs": [
        {
          "output_type": "stream",
          "name": "stdout",
          "text": [
            "Soy un nadador de  Mariposa\n",
            "Soy un corredor de  500 del tipo Urbano\n",
            "Soy un ciclista del estilo BMX\n",
            "Soy Genial\n",
            "Mi nombre es Nicolas Perez con 31 años...\n"
          ]
        }
      ]
    }
  ]
}