{
  "nbformat": 4,
  "nbformat_minor": 0,
  "metadata": {
    "colab": {
      "name": "Palabra más larga de una frase.ipynb",
      "provenance": [],
      "collapsed_sections": [],
      "authorship_tag": "ABX9TyMWhB9rsydOjO3uSDHYs7q9",
      "include_colab_link": true
    },
    "kernelspec": {
      "name": "python3",
      "display_name": "Python 3"
    },
    "language_info": {
      "name": "python"
    }
  },
  "cells": [
    {
      "cell_type": "markdown",
      "metadata": {
        "id": "view-in-github",
        "colab_type": "text"
      },
      "source": [
        "<a href=\"https://colab.research.google.com/github/LeoVinacur/Python/blob/main/Palabra_m%C3%A1s_larga_de_una_frase.ipynb\" target=\"_parent\"><img src=\"https://colab.research.google.com/assets/colab-badge.svg\" alt=\"Open In Colab\"/></a>"
      ]
    },
    {
      "cell_type": "code",
      "execution_count": 14,
      "metadata": {
        "colab": {
          "base_uri": "https://localhost:8080/"
        },
        "id": "a4t9khCH-AAE",
        "outputId": "7164ab0e-1e5c-4573-c663-cc078e54a288"
      },
      "outputs": [
        {
          "output_type": "stream",
          "name": "stdout",
          "text": [
            "ingrese una frase: Hola, que tal\n",
            "['Hola,', 'que', 'tal']\n",
            "La palabra más larga es:  Hola,\n",
            "La cantidad de palabras en la frase es:  3\n"
          ]
        }
      ],
      "source": [
        "frase = input(\"ingrese una frase: \")\n",
        "print(frase.split())\n",
        "palabraLarga = \"\"\n",
        "\n",
        "for i in frase.split():\n",
        "  if len(i)> len(palabraLarga):\n",
        "    palabraLarga=i\n",
        "\n",
        "print(\"La palabra más larga es: \" ,palabraLarga)\n",
        "print(\"La cantidad de palabras en la frase es: \" , len(frase.split()))\n",
        "\n",
        "\n"
      ]
    }
  ]
}