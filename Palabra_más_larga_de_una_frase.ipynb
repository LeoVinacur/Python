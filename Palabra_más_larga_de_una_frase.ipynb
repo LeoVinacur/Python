{
  "nbformat": 4,
  "nbformat_minor": 0,
  "metadata": {
    "colab": {
      "name": "Palabra más larga de una frase.ipynb",
      "provenance": [],
      "collapsed_sections": [],
      "authorship_tag": "ABX9TyP1d7Us9sDqjajpQVcGDA1e",
      "include_colab_link": true
    },
    "kernelspec": {
      "name": "python3",
      "display_name": "Python 3"
    },
    "language_info": {
      "name": "python"
    }
  },
  "cells": [
    {
      "cell_type": "markdown",
      "metadata": {
        "id": "view-in-github",
        "colab_type": "text"
      },
      "source": [
        "<a href=\"https://colab.research.google.com/github/LeoVinacur/Python/blob/main/Palabra_m%C3%A1s_larga_de_una_frase.ipynb\" target=\"_parent\"><img src=\"https://colab.research.google.com/assets/colab-badge.svg\" alt=\"Open In Colab\"/></a>"
      ]
    },
    {
      "cell_type": "code",
      "execution_count": 17,
      "metadata": {
        "colab": {
          "base_uri": "https://localhost:8080/"
        },
        "id": "a4t9khCH-AAE",
        "outputId": "c498a25d-f234-453f-999d-4901ff09a229"
      },
      "outputs": [
        {
          "output_type": "stream",
          "name": "stdout",
          "text": [
            "ingrese una frase: hola que tal holi\n",
            "['hola', 'que', 'tal', 'holi']\n",
            "La palabra más larga es:  holi\n",
            "La cantidad de palabras en la frase es:  4\n"
          ]
        }
      ],
      "source": [
        "frase = input(\"ingrese una frase: \")\n",
        "print(frase.split())\n",
        "palabraLarga = \"\"\n",
        "\n",
        "for i in frase.split():\n",
        "  if len(i)>= len(palabraLarga):   #se pone mayor o igual, para que se quede con la última larga\n",
        "    palabraLarga=i                  #de lo contrario, se queda con la primera más larga\n",
        "\n",
        "print(\"La palabra más larga es: \" ,palabraLarga)\n",
        "print(\"La cantidad de palabras en la frase es: \" , len(frase.split()))\n",
        "\n",
        "\n"
      ]
    }
  ]
}