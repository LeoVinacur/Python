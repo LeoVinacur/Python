{
  "nbformat": 4,
  "nbformat_minor": 0,
  "metadata": {
    "colab": {
      "name": "QUINCE Ejercicios Extras.ipynb",
      "provenance": [],
      "collapsed_sections": [],
      "authorship_tag": "ABX9TyPf13vdK/blmqHZK262voNq",
      "include_colab_link": true
    },
    "kernelspec": {
      "name": "python3",
      "display_name": "Python 3"
    },
    "language_info": {
      "name": "python"
    }
  },
  "cells": [
    {
      "cell_type": "markdown",
      "metadata": {
        "id": "view-in-github",
        "colab_type": "text"
      },
      "source": [
        "<a href=\"https://colab.research.google.com/github/LeoVinacur/Python/blob/main/QUINCE_Ejercicios_Extras.ipynb\" target=\"_parent\"><img src=\"https://colab.research.google.com/assets/colab-badge.svg\" alt=\"Open In Colab\"/></a>"
      ]
    },
    {
      "cell_type": "code",
      "execution_count": null,
      "metadata": {
        "id": "HEj0xzmkY3zI"
      },
      "outputs": [],
      "source": [
        ""
      ]
    },
    {
      "cell_type": "markdown",
      "source": [
        "EJERCICIOS EXTRA"
      ],
      "metadata": {
        "id": "oLCrMrNJZQyI"
      }
    },
    {
      "cell_type": "markdown",
      "source": [
        "1- Escribí un programa para solicitar al usuario tres números y mostrar en pantalla al menor de los tres"
      ],
      "metadata": {
        "id": "lcUZfzhuZUg4"
      }
    },
    {
      "cell_type": "code",
      "source": [
        "lista=[]\n",
        "\n",
        "for i in range(3):\n",
        "  num = int(input(\"Ingresar un número: \"))\n",
        "  lista.append(num)\n",
        "\n",
        "print(lista)\n",
        "\n",
        "mayor = lista[0]\n",
        "for i in lista:\n",
        "  if i > mayor:\n",
        "    mayor = i\n",
        "\n",
        "print(\"El mayor de los tres números ingresados es :\" , mayor)"
      ],
      "metadata": {
        "colab": {
          "base_uri": "https://localhost:8080/"
        },
        "id": "RhlIUsEPZYoG",
        "outputId": "8e72c4cf-1f02-4709-97aa-dab51581b596"
      },
      "execution_count": 8,
      "outputs": [
        {
          "output_type": "stream",
          "name": "stdout",
          "text": [
            "Ingresar un número: -9\n",
            "Ingresar un número: -5\n",
            "Ingresar un número: -1\n",
            "[-9, -5, -1]\n",
            "El mayor de los tres números ingresados es : -1\n"
          ]
        }
      ]
    },
    {
      "cell_type": "markdown",
      "source": [
        "2- Escribí un programa que solicite ingresar un nombre de usuario y una contraseña. Si el nombre es “Gwenevere” y la contraseña es “excalibur”, mostrar en pantalla “Usuario y contraseña correctos. Puede ingresar al sistema”. Si el nombre o la contraseña no coinciden, mostrar “Acceso denegado”. El usuario tiene 3 intentos"
      ],
      "metadata": {
        "id": "LUxgI2BCcU0A"
      }
    },
    {
      "cell_type": "code",
      "source": [
        "usuario = \"Gwenevere\"\n",
        "contrasenia = \"excalibur\"\n",
        "aux = 0\n",
        "\n",
        "while aux <3:\n",
        "  usu = (input(\"Ingrese usuario: \"))\n",
        "  cont = (input(\"Ingrese contraseña: \"))\n",
        "  if usu == usuario and cont == contrasenia:\n",
        "    print(\"Puede ingrersar al sistema\")\n",
        "    break\n",
        "  else:\n",
        "    aux +=1\n",
        "\n",
        "    if aux<3:\n",
        "      print(\"Intente nuevamente\")\n",
        "    else:\n",
        "      print(\"Lo siento, debe blanquear la contraseña\")\n",
        "      break\n",
        "\n",
        "print(\"Programa terminado\")"
      ],
      "metadata": {
        "colab": {
          "base_uri": "https://localhost:8080/"
        },
        "id": "SvGXl13Jcd7u",
        "outputId": "a8acabd4-0a23-4b01-cf83-2f4244fe1fcb"
      },
      "execution_count": 19,
      "outputs": [
        {
          "output_type": "stream",
          "name": "stdout",
          "text": [
            "Ingrese usuario: f\n",
            "Ingrese contraseña: f\n",
            "Intente nuevamente\n",
            "Ingrese usuario: g\n",
            "Ingrese contraseña: g\n",
            "Intente nuevamente\n",
            "Ingrese usuario: Gwenevere\n",
            "Ingrese contraseña: excalibur\n",
            "Puede ingrersar al sistema\n",
            "Programa terminado\n"
          ]
        }
      ]
    },
    {
      "cell_type": "markdown",
      "source": [
        "3. Escribí un programa que permita saber si un año es bisiesto. Para que un año sea bisiesto debe ser divisible por 4 y no debe ser divisible por 100, excepto que también sea divisible por 400."
      ],
      "metadata": {
        "id": "K29ugO6shNxK"
      }
    },
    {
      "cell_type": "code",
      "source": [
        "anio = int(input(\"ingrese un año: \"))\n",
        "\n",
        "if anio%4==0:\n",
        "  if not anio%100==0:\n",
        "    print(\"El año es bisiesto\")\n",
        "  elif anio%400==0:\n",
        "    print(\"El año es bisiesto\")\n",
        "  else:\n",
        "    print(\"El año NO es bisiesto\")\n",
        "else:\n",
        "  print(\"El año NO es bisiesto\")"
      ],
      "metadata": {
        "colab": {
          "base_uri": "https://localhost:8080/"
        },
        "id": "ff2iBWeDhUKr",
        "outputId": "b2cfb716-ddaa-4ca0-c0a2-78cc8120b086"
      },
      "execution_count": 45,
      "outputs": [
        {
          "output_type": "stream",
          "name": "stdout",
          "text": [
            "ingrese un año: 2100\n",
            "El año NO es bisiesto\n"
          ]
        }
      ]
    },
    {
      "cell_type": "markdown",
      "source": [
        "4. Escribí un programa que muestre la sumatoria de todos los números entre el 0 y el 100."
      ],
      "metadata": {
        "id": "mCy2LqGEoFfO"
      }
    },
    {
      "cell_type": "code",
      "source": [
        "print(\"Sumatoria de todos los números hasta el 100\")\n",
        "suma = 0\n",
        "\n",
        "for i in range(100+1):\n",
        "  suma = suma+i\n",
        "\n",
        "suma"
      ],
      "metadata": {
        "colab": {
          "base_uri": "https://localhost:8080/"
        },
        "id": "d5XqKiD5oHfG",
        "outputId": "f2a48bcf-b25a-4e9b-9799-cc30135bffa4"
      },
      "execution_count": 55,
      "outputs": [
        {
          "output_type": "stream",
          "name": "stdout",
          "text": [
            "Sumatoria de todos los números hasta el 100\n"
          ]
        },
        {
          "output_type": "execute_result",
          "data": {
            "text/plain": [
              "5050"
            ]
          },
          "metadata": {},
          "execution_count": 55
        }
      ]
    },
    {
      "cell_type": "markdown",
      "source": [
        "5. Escribí un programa que, dado un número por el usuario, muestre todos sus divisores positivos. Recordá que un divisor es aquel que divide al número de forma exacta (con resto 0)."
      ],
      "metadata": {
        "id": "LPKVHC7nvg7h"
      }
    },
    {
      "cell_type": "code",
      "source": [
        "num=int(input(\"Ingrese un número \"))\n",
        "lista = []\n",
        "for i in range(1,num+1):\n",
        "  if num%i == 0:\n",
        "    lista.append(i)\n",
        "\n",
        "print(\"La lista de los divisores del número \" , num , \"es: \")\n",
        "print(lista)"
      ],
      "metadata": {
        "colab": {
          "base_uri": "https://localhost:8080/"
        },
        "id": "dKzImDqmvjF7",
        "outputId": "b7cfba06-4195-46fa-b9b9-7e272c723012"
      },
      "execution_count": 64,
      "outputs": [
        {
          "output_type": "stream",
          "name": "stdout",
          "text": [
            "Ingrese un número 7\n",
            "La lista de los divisores del número  7 es: \n",
            "[1, 7]\n"
          ]
        }
      ]
    },
    {
      "cell_type": "markdown",
      "source": [
        "6 -Escribí un programa que, dada una frase por el usuario, muestre la cantidad total de vocales (tanto mayúsculas como minúsculas) que contiene."
      ],
      "metadata": {
        "id": "AE5rnO3OxLmC"
      }
    },
    {
      "cell_type": "code",
      "source": [
        "#def contar_vocales(cadena):\n",
        "cadena=input(\"Ingrese una frase: \")\n",
        "contador = 0\n",
        "for letra in cadena:\n",
        "  if letra.lower() in \"aeiou\":\n",
        "\t\t\tcontador += 1\n",
        "\n",
        "contador"
      ],
      "metadata": {
        "colab": {
          "base_uri": "https://localhost:8080/"
        },
        "id": "kKEPBKaYxM4C",
        "outputId": "5f7827a1-81a8-427e-c315-95a5ee4e06f9"
      },
      "execution_count": 68,
      "outputs": [
        {
          "name": "stdout",
          "output_type": "stream",
          "text": [
            "Ingrese una frase: El GATO con botAS\n"
          ]
        },
        {
          "output_type": "execute_result",
          "data": {
            "text/plain": [
              "6"
            ]
          },
          "metadata": {},
          "execution_count": 68
        }
      ]
    },
    {
      "cell_type": "markdown",
      "source": [
        "7. Escribí un programa que muestre los primeros 10 números de la sucesión de Fibonacci. La sucesión comienza con los números 0 y 1 y, a partir de éstos, cada elemento es la suma de los dos números anteriores en la secuencia: 0, 1, 1, 2, 3, 5, 8, 13, 21, 34, 55…"
      ],
      "metadata": {
        "id": "aA7As-EmyCFx"
      }
    },
    {
      "cell_type": "code",
      "source": [
        " \n",
        "lista= [0,1]\n",
        "a=0\n",
        "b=1\n",
        "\n",
        "for i in range (8):\n",
        "  c=a+b\n",
        "  lista.append(c)\n",
        "  a=b\n",
        "  b=c\n",
        "\n",
        "print(lista)"
      ],
      "metadata": {
        "colab": {
          "base_uri": "https://localhost:8080/"
        },
        "id": "lL1xd3wqyEax",
        "outputId": "318fd471-5870-4773-dd33-a6388aeafe86"
      },
      "execution_count": 81,
      "outputs": [
        {
          "output_type": "stream",
          "name": "stdout",
          "text": [
            "[0, 1, 1, 2, 3, 5, 8, 13, 21, 34]\n"
          ]
        }
      ]
    },
    {
      "cell_type": "markdown",
      "source": [
        "8. Escribí un programa que, dado un número entero positivo, calcule y muestre su factorial. El factorial de un número se obtiene multiplicando todos los números enteros positivos que hay entre el 1 y ese número. El factorial de 0 es 1."
      ],
      "metadata": {
        "id": "Zsa5AvrW3JHg"
      }
    },
    {
      "cell_type": "code",
      "source": [
        "num= int(input(\"Ingrese un número: \"))\n",
        "cont = 1\n",
        "for i in range(1,num):\n",
        "  cont=cont*(i+1)\n",
        "print(cont)\n"
      ],
      "metadata": {
        "colab": {
          "base_uri": "https://localhost:8080/"
        },
        "id": "caaRd2833LJY",
        "outputId": "6b0beff6-a17a-4900-b132-155170e2fe8a"
      },
      "execution_count": 84,
      "outputs": [
        {
          "output_type": "stream",
          "name": "stdout",
          "text": [
            "Ingrese un número: 10\n",
            "3628800\n"
          ]
        }
      ]
    },
    {
      "cell_type": "markdown",
      "source": [
        "9. Escribí un programa que permita al usuario ingresar 6 números enteros, que pueden ser positivos o negativos. Al finalizar, mostrar la sumatoria de los números negativos y el promedio de los positivos. No olvides que no es posible dividir por cero, por lo que es necesario evitar que el programa arroje un error si no se ingresaron números positivos."
      ],
      "metadata": {
        "id": "BT_01qvl44VV"
      }
    },
    {
      "cell_type": "code",
      "source": [
        "lista=[]\n",
        "negativos =0\n",
        "positivos =0\n",
        "contPositivos = 0\n",
        "\n",
        "for i in range(6):\n",
        "  n = int(input(\"Ingrese un número positivo o negativo: \"))\n",
        "  lista.append(n)\n",
        "print(lista)\n",
        "\n",
        "for i in lista:\n",
        "  if i <0:\n",
        "    negativos = negativos+i\n",
        "  if i>0:\n",
        "    positivos = positivos+i\n",
        "    contPositivos = contPositivos+1\n",
        "\n",
        "print(\"La suma total de los números negativos es: \" , negativos)\n",
        "print(\"El promedio de todos los números positivos ingresados es: \", positivos/contPositivos)\n"
      ],
      "metadata": {
        "colab": {
          "base_uri": "https://localhost:8080/"
        },
        "id": "7vwK4ts847Wd",
        "outputId": "be3d3fdd-990e-40f7-decc-5be51b59b3ef"
      },
      "execution_count": 89,
      "outputs": [
        {
          "output_type": "stream",
          "name": "stdout",
          "text": [
            "Ingrese un número positivo o negativo: -5\n",
            "Ingrese un número positivo o negativo: -3\n",
            "Ingrese un número positivo o negativo: 5\n",
            "Ingrese un número positivo o negativo: 6\n",
            "Ingrese un número positivo o negativo: 10\n",
            "Ingrese un número positivo o negativo: 9\n",
            "[-5, -3, 5, 6, 10, 9]\n",
            "La suma total de los números negativos es:  -8\n",
            "El promedio de todos los números positivos ingresados es:  7.5\n"
          ]
        }
      ]
    },
    {
      "cell_type": "markdown",
      "source": [
        "10. Escribí un programa que permita al usuario ingresar una frase y luego un carácter (string de longitud 1) y luego muestre la frase ingresada, pero con todas las ocurrencias del carácter indicado por el usuario reemplazadas por “*”."
      ],
      "metadata": {
        "id": "UAaCbmR07aU7"
      }
    },
    {
      "cell_type": "code",
      "source": [
        "frase = input(\"Ingrese una frase: \")\n",
        "letra = input(\"Ingrese una letra: \")\n",
        "\n",
        "nueva_frase = frase.replace(letra , \"*\")\n",
        "\n",
        "print(nueva_frase)"
      ],
      "metadata": {
        "colab": {
          "base_uri": "https://localhost:8080/"
        },
        "id": "UQ-TEYzo7cFT",
        "outputId": "c454f05b-eae7-4a3b-b273-8bc51f69e124"
      },
      "execution_count": 93,
      "outputs": [
        {
          "output_type": "stream",
          "name": "stdout",
          "text": [
            "Ingrese una frase: El gato con botas\n",
            "Ingrese una letra: o\n",
            "El gat* c*n b*tas\n"
          ]
        }
      ]
    },
    {
      "cell_type": "markdown",
      "source": [
        "11. Escribí un programa que, dada una frase por el usuario, la muestre invertida, sin utilizar una rebanada con paso negativo. Utilizando un ciclo."
      ],
      "metadata": {
        "id": "5bOGdgy1dCDU"
      }
    },
    {
      "cell_type": "code",
      "source": [
        "frase= input(\"Ingrese una frase: \")\n",
        "y=-1\n",
        "for i in range(len(frase)):\n",
        "  i=frase[y]\n",
        "  y=y-1\n",
        "  print(i, end=\"\")\n",
        "\n",
        "print()\n",
        "\n",
        "  #Otra forma\n",
        "al_reves =\"\"\n",
        "for i in frase:\n",
        "  al_reves = i +al_reves\n",
        "print(al_reves)\n",
        "print()\n",
        "\n",
        "#otra forma\n",
        "for i in range(len(frase) -1,-1,-1):\n",
        "  print(frase[i], end=\"\")\n",
        "\n",
        "print()\n",
        "\n",
        "#otra forma de manera directa\n",
        "print(frase[::-1])"
      ],
      "metadata": {
        "colab": {
          "base_uri": "https://localhost:8080/"
        },
        "id": "A4b9w54UdIQR",
        "outputId": "7cd7d90d-1742-4368-df24-87e48ca99872"
      },
      "execution_count": 11,
      "outputs": [
        {
          "output_type": "stream",
          "name": "stdout",
          "text": [
            "Ingrese una frase: EL gato\n",
            "otag LE\n",
            "otag LE\n",
            "\n",
            "otag LE\n",
            "otag LE\n"
          ]
        }
      ]
    },
    {
      "cell_type": "markdown",
      "source": [
        "12. Escribí un programa que permita al usuario ingresar una cantidad de números positivos indefinida (la cantidad que ingresará no se conoce y puede cambiar en cada ejecución), finalizando cuando ingresa el número 0 (que no se tendrá en\n",
        "cuenta). Una vez terminada la lectura de números, informar cuál fue el mayor de los números ingresados"
      ],
      "metadata": {
        "id": "RG4wSzEwjibd"
      }
    },
    {
      "cell_type": "code",
      "source": [
        "mayor=0\n",
        "num = None\n",
        "while num !=0:\n",
        "  num = int(input(\"Ingrese un número positivo: \"))\n",
        "  if num>mayor:\n",
        "    mayor = num\n",
        "\n",
        "print(\"El número mayor ingresado es: \" ,mayor)\n"
      ],
      "metadata": {
        "colab": {
          "base_uri": "https://localhost:8080/"
        },
        "id": "FBe3cDtcjj4v",
        "outputId": "3a1307e4-bb53-4e66-ea90-93a7e087f0a1"
      },
      "execution_count": 20,
      "outputs": [
        {
          "output_type": "stream",
          "name": "stdout",
          "text": [
            "Ingrese un número positivo: 5\n",
            "Ingrese un número positivo: 6\n",
            "Ingrese un número positivo: 11\n",
            "Ingrese un número positivo: 74\n",
            "Ingrese un número positivo: 0\n",
            "El número mayor ingresado es:  74\n"
          ]
        }
      ]
    },
    {
      "cell_type": "markdown",
      "source": [
        "13. Escribí un programa que pregunte al usuario si desea analizar calificaciones de alumnos y, sólo si responde “S” comenzará el procesamiento de los datos, hasta que el usuario ingrese algo diferente de “S”. Por cada alumno, permitir ingresar su calificación. Si es mayor a 4 el alumno está aprobado. Finalmente, mostrar “Porcentaje de alumnos aprobados: x %” (donde x es el porcentaje de aprobados sobre el total de calificaciones procesadas). También se debe imprimir “Promedio de los aprobados: y” (donde y es la calificación promedio, sólo de los alumnos aprobados)."
      ],
      "metadata": {
        "id": "qYqGx2P0lVS0"
      }
    },
    {
      "cell_type": "code",
      "source": [
        "puntaje=0\n",
        "aprobados=0\n",
        "alumnos=0\n",
        "\n",
        "while True:\n",
        "  rta= input(\"Quiere procesar datos? s/n: \")\n",
        "  if rta==\"s\":\n",
        "    nota = int(input(\"ingrese la nota del alumno: \"))\n",
        "    alumnos = alumnos+1\n",
        "    if nota>4:\n",
        "      aprobados = aprobados+1\n",
        "      puntaje=puntaje+nota\n",
        "  else:\n",
        "    print(\"El programa ha terminado\")\n",
        "    break\n",
        "\n",
        "if alumnos == 0:\n",
        "  print(\"No hay alumnos para calcular estadísticas\")\n",
        "elif aprobados ==0:\n",
        "  print(\"No hay alumnos aprobados, como para calcular estadísticas\")\n",
        "else:\n",
        "  print(\"La cantidad de alumnos aprobados es: \" , aprobados)\n",
        "  print(\"El porcentaje de alumnos aprobados es: \" , aprobados*100/alumnos )\n",
        "  print(\"El promedio de la nota de los alumnos aprobados es: \" ,puntaje/aprobados)\n",
        "\n"
      ],
      "metadata": {
        "colab": {
          "base_uri": "https://localhost:8080/"
        },
        "id": "-HisjNW2lWZD",
        "outputId": "363f51f9-865d-4460-bdff-e38e3b1df0e2"
      },
      "execution_count": 36,
      "outputs": [
        {
          "output_type": "stream",
          "name": "stdout",
          "text": [
            "Quiere procesar datos? s/n: s\n",
            "ingrese la nota del alumno: 10\n",
            "Quiere procesar datos? s/n: s\n",
            "ingrese la nota del alumno: 4\n",
            "Quiere procesar datos? s/n: n\n",
            "El programa ha terminado\n",
            "La cantidad de alumnos aprobados es:  1\n",
            "El porcentaje de alumnos aprobados es:  50.0\n",
            "El promedio de la nota de los alumnos aprobados es:  10.0\n"
          ]
        }
      ]
    },
    {
      "cell_type": "markdown",
      "source": [
        "14. Escribí un programa que solicite al usuario el ingreso de strings de longitud 1 (un solo carácter), uno por vez. La repetición finalizará cuando se ingrese un string que no tenga longitud 1, o cuando el string ingresado corresponda al dígito numérico 0. Al finalizar, mostrar el string completo que se formó con todos los caracteres ingresados y qué porcentaje de caracteres del total fueron la letra “a”."
      ],
      "metadata": {
        "id": "y7katY-YqGPL"
      }
    },
    {
      "cell_type": "code",
      "source": [
        "lista=[]\n",
        "contA=0\n",
        "cont=0\n",
        "\n",
        "while True:\n",
        "  letra = input(\"Ingrese una letra: \")\n",
        "  if len(letra)>1 or letra == \"0\":\n",
        "    break\n",
        "  else:\n",
        "    lista.append(letra)\n",
        "    cont=cont+1\n",
        "    if letra == \"a\":\n",
        "      contA = contA +1\n",
        "\n",
        "print(lista)\n",
        "cadena=\"\".join(lista)\n",
        "print(cadena)\n",
        "\n",
        "if letra==0:\n",
        "  print(\"No hay ninguna letra para calcular estadísticas\")\n",
        "else:\n",
        " print(\"El porcentaje de letras a es: \", contA*100/cont)\n"
      ],
      "metadata": {
        "colab": {
          "base_uri": "https://localhost:8080/"
        },
        "id": "lhZVp-HMqHrB",
        "outputId": "7690a515-c82f-4258-bf38-21f71d67482b"
      },
      "execution_count": 45,
      "outputs": [
        {
          "output_type": "stream",
          "name": "stdout",
          "text": [
            "Ingrese una letra: a\n",
            "Ingrese una letra: s\n",
            "Ingrese una letra: d\n",
            "Ingrese una letra: f\n",
            "Ingrese una letra: g\n",
            "Ingrese una letra: dd\n",
            "['a', 's', 'd', 'f', 'g']\n",
            "asdfg\n",
            "El porcentaje de letras a es:  20.0\n"
          ]
        }
      ]
    },
    {
      "cell_type": "markdown",
      "source": [
        "15. Escribí un programa que, dado un número entero por el usuario (guardado como int), muestre la suma de todos sus dígitos. Recordá que vas a necesitar obtener cada uno de los dígitos por separado para poder sumarlos entre sí."
      ],
      "metadata": {
        "id": "JNLxmJ-8uCWh"
      }
    },
    {
      "cell_type": "code",
      "source": [
        "num=int(input(\"Ingrese un número para calcular la suma de los dígitos: \"))\n",
        "suma = 0\n",
        "while num>0:\n",
        "  suma =suma +num%10\n",
        "  num = num//10\n",
        "\n",
        "print(suma)\n",
        " \n",
        " "
      ],
      "metadata": {
        "colab": {
          "base_uri": "https://localhost:8080/"
        },
        "id": "SxZfHOf-uDgv",
        "outputId": "e6cf1245-945f-4a64-b9ae-4a3a1d13028f"
      },
      "execution_count": 53,
      "outputs": [
        {
          "output_type": "stream",
          "name": "stdout",
          "text": [
            "Ingrese un número para calcular la suma de los dígitos: 12345\n",
            "15\n"
          ]
        }
      ]
    }
  ]
}