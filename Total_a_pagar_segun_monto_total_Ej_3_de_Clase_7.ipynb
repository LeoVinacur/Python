{
  "nbformat": 4,
  "nbformat_minor": 0,
  "metadata": {
    "colab": {
      "name": "Total a pagar segun monto total Ej 3 de Clase 7.ipynb",
      "provenance": [],
      "authorship_tag": "ABX9TyOY3DpDedU67nJRnrsgWecJ",
      "include_colab_link": true
    },
    "kernelspec": {
      "name": "python3",
      "display_name": "Python 3"
    },
    "language_info": {
      "name": "python"
    }
  },
  "cells": [
    {
      "cell_type": "markdown",
      "metadata": {
        "id": "view-in-github",
        "colab_type": "text"
      },
      "source": [
        "<a href=\"https://colab.research.google.com/github/LeoVinacur/Python/blob/main/Total_a_pagar_segun_monto_total_Ej_3_de_Clase_7.ipynb\" target=\"_parent\"><img src=\"https://colab.research.google.com/assets/colab-badge.svg\" alt=\"Open In Colab\"/></a>"
      ]
    },
    {
      "cell_type": "code",
      "execution_count": 8,
      "metadata": {
        "colab": {
          "base_uri": "https://localhost:8080/"
        },
        "id": "JSG5qpm5HGCe",
        "outputId": "d1e99530-cd09-4982-e11c-c45fe9793cc5"
      },
      "outputs": [
        {
          "output_type": "stream",
          "name": "stdout",
          "text": [
            "Ingrese el monto de las compras: 500\n",
            "Ingrese el monto de las compras: -5\n",
            "no puede ingresar números negativos\n",
            "Ingrese el monto de las compras: 10\n",
            "Ingrese el monto de las compras: 0\n",
            "510\n",
            "El total a pagar es:  510\n"
          ]
        }
      ],
      "source": [
        "num = None\n",
        "total=0\n",
        "while num != 0:\n",
        "  num = int(input(\"Ingrese el monto de las compras: \"))\n",
        "  if num <0:\n",
        "    print(\"no puede ingresar números negativos\")\n",
        "  else:\n",
        "    total = total+num\n",
        "\n",
        "print(total)\n",
        "\n",
        "if total>1000:\n",
        "  print(\"El total a pagar es: \" , total*0.9)\n",
        "else:\n",
        "  print(\"El total a pagar es: \" , total)"
      ]
    }
  ]
}