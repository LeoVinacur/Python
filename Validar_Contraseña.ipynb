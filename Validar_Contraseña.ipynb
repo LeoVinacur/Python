{
  "nbformat": 4,
  "nbformat_minor": 0,
  "metadata": {
    "colab": {
      "name": "Validar Contraseña.ipynb",
      "provenance": [],
      "collapsed_sections": [],
      "authorship_tag": "ABX9TyNxRZ6tydB+0a4AOxQ1bZD5",
      "include_colab_link": true
    },
    "kernelspec": {
      "name": "python3",
      "display_name": "Python 3"
    },
    "language_info": {
      "name": "python"
    }
  },
  "cells": [
    {
      "cell_type": "markdown",
      "metadata": {
        "id": "view-in-github",
        "colab_type": "text"
      },
      "source": [
        "<a href=\"https://colab.research.google.com/github/LeoVinacur/Python/blob/main/Validar_Contrase%C3%B1a.ipynb\" target=\"_parent\"><img src=\"https://colab.research.google.com/assets/colab-badge.svg\" alt=\"Open In Colab\"/></a>"
      ]
    },
    {
      "cell_type": "code",
      "execution_count": 72,
      "metadata": {
        "colab": {
          "base_uri": "https://localhost:8080/"
        },
        "id": "lKbLm3g9XahG",
        "outputId": "0ac2e7ea-e5d6-4337-ff70-b28e83249f44"
      },
      "outputs": [
        {
          "output_type": "stream",
          "name": "stdout",
          "text": [
            "ingrese su contraseña: d\n",
            "la contraseña es correcta\n"
          ]
        }
      ],
      "source": [
        "min = ['a', 'b', 'c', 'd', 'e', 'f', 'g', 'h', 'i', 'j', 'k', 'l', 'm', 'n', 'o', 'p', 'q', 'r', 's', 't', 'u', 'v', 'w', 'x', 'y', 'z']\n",
        "may = ['A', 'B', 'C', 'D', 'E', 'F', 'G', 'H', 'I', 'J', 'K', 'L', 'M', 'N', 'O', 'P', 'Q', 'R', 'S', 'T', 'U', 'V', 'W', 'X', 'Y', 'Z']\n",
        "simb = [\"@\",\"-\",\"%\",\"/\",\"&\"]\n",
        "num = [1,2,3,4,5,6,7,8,9,0]\n",
        "\n",
        "\n",
        "contrasenia = input(\"ingrese su contraseña: \")\n",
        "val=False\n",
        "for x in range(len(contrasenia)):\n",
        "  if contrasenia[x] in min:\n",
        "    val=True\n",
        "    if contrasenia[x] in may:\n",
        "      val =True\n",
        "      if contrasenia[x] in simb:\n",
        "        val = True\n",
        "        if contrasenia[x] in num:\n",
        "         val = True\n",
        "           \n",
        "\n",
        "if val == True:\n",
        "  print(\"la contraseña es correcta\")\n",
        "else:\n",
        "  print(\"esta mal\")\n",
        "     "
      ]
    },
    {
      "cell_type": "code",
      "source": [
        "simb = [\"@\",\"-\",\"%\",\"/\",\"&\"] \n",
        " \n",
        "val = False\n",
        "while val == False:\n",
        "  passwd = input(\"ingrese su contraseña: \")\n",
        "  if len(passwd) < 6: \n",
        "        print('La contraseña debe tener al menos 6 carácteres') \n",
        "        val = False\n",
        "  if not any(char.isdigit() for char in passwd): \n",
        "        print('La contraseña debe tener al menos un número') \n",
        "        val = False\n",
        "  if not any(char.isupper() for char in passwd): \n",
        "        print('La contraseña debe tener al menos una mayúscula') \n",
        "        val = False         \n",
        "  if not any(char.islower() for char in passwd): \n",
        "        print('La contraseña debe tener al menos una minúscula') \n",
        "        val = False         \n",
        "  if not any(char in simb for char in passwd): \n",
        "        print('La contraseña debe tener al menosuno de estos símbolos @/-%&') \n",
        "        val = False\n",
        "  else:\n",
        "     val=True\n",
        "  if val == True:\n",
        "    print(\"la contraseña es correcta\")\n",
        " \n",
        "print()\n",
        "print() \n",
        "print(\"Bueno ahora vamos a verificar la contraseña\")\n",
        "print(\"Tiene hasta un máximo de tres intentos\")\n",
        "print()\n",
        "print(\"VERIFICAR CONTRASEÑA\")\n",
        "\n",
        "\n",
        "contador = 0\n",
        "for i in range(3):\n",
        "  validar = input(\"Ingrese nuevamente su contraseña\")\n",
        "  if validar == passwd:\n",
        "    print(\"la contraseña es correcta, bienvenido al sistema\")\n",
        "    break\n",
        "  else:\n",
        "    print(\"Contraseña incorrecta\")\n",
        "    contador +=1\n",
        "  if contador == 3:\n",
        "    print(\"Debe ir al banco a blanquear la contraseña\")\n",
        "     "
      ],
      "metadata": {
        "colab": {
          "base_uri": "https://localhost:8080/"
        },
        "id": "naMooKdqmAZX",
        "outputId": "4a7c457e-8b21-413f-86a7-1dfd8bcdcb04"
      },
      "execution_count": 114,
      "outputs": [
        {
          "output_type": "stream",
          "name": "stdout",
          "text": [
            "ingrese su contraseña: Asd123@\n",
            "la contraseña es correcta\n",
            "\n",
            "\n",
            "Bueno ahora vamos a verificar la contraseña\n",
            "Tiene hasta un máximo de tres intentos\n",
            "\n",
            "VERIFICAR CONTRASEÑA\n",
            "Ingrese nuevamente su contraseña23\n",
            "Contraseña incorrecta\n",
            "Ingrese nuevamente su contraseñad\n",
            "Contraseña incorrecta\n",
            "Ingrese nuevamente su contraseñaAsd123@\n",
            "la contraseña es correcta\n"
          ]
        }
      ]
    }
  ]
}