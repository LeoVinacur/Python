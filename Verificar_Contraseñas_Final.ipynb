{
  "nbformat": 4,
  "nbformat_minor": 0,
  "metadata": {
    "colab": {
      "name": "Verificar Contraseñas Final.ipynb",
      "provenance": [],
      "collapsed_sections": [],
      "authorship_tag": "ABX9TyPqfSUubHwFWtAKvV/2jKAa",
      "include_colab_link": true
    },
    "kernelspec": {
      "name": "python3",
      "display_name": "Python 3"
    },
    "language_info": {
      "name": "python"
    }
  },
  "cells": [
    {
      "cell_type": "markdown",
      "metadata": {
        "id": "view-in-github",
        "colab_type": "text"
      },
      "source": [
        "<a href=\"https://colab.research.google.com/github/LeoVinacur/Python/blob/main/Verificar_Contrase%C3%B1as_Final.ipynb\" target=\"_parent\"><img src=\"https://colab.research.google.com/assets/colab-badge.svg\" alt=\"Open In Colab\"/></a>"
      ]
    },
    {
      "cell_type": "code",
      "execution_count": 2,
      "metadata": {
        "colab": {
          "base_uri": "https://localhost:8080/"
        },
        "id": "VYj7nKNV36xj",
        "outputId": "a0620384-fa01-4560-99d6-1dadacea7355"
      },
      "outputs": [
        {
          "output_type": "stream",
          "name": "stdout",
          "text": [
            "ingrese su contraseña: Aaa123@\n",
            "la contraseña es correcta\n",
            "\n",
            "\n",
            "Bueno ahora vamos a verificar la contraseña\n",
            "Tiene hasta un máximo de tres intentos\n",
            "\n",
            "VERIFICAR CONTRASEÑA\n",
            "Ingrese nuevamente su contraseñaAaa123@\n",
            "la contraseña es correcta, bienvenido al sistema\n"
          ]
        }
      ],
      "source": [
        "\n",
        "\n",
        "\n",
        "\n",
        "simb = [\"@\",\"-\",\"%\",\"/\",\"&\"] \n",
        " \n",
        "val = False\n",
        "while val == False:\n",
        "  passwd = input(\"ingrese su contraseña: \")\n",
        "  if len(passwd) < 6: \n",
        "        print('La contraseña debe tener al menos 6 carácteres') \n",
        "        val = False\n",
        "  if not any(char.isdigit()for char in passwd): \n",
        "        print('La contraseña debe tener al menos un número') \n",
        "        val = False\n",
        "  if not any(char.isupper() for char in passwd): \n",
        "        print('La contraseña debe tener al menos una mayúscula') \n",
        "        val = False         \n",
        "  if not any(char.islower() for char in passwd): \n",
        "        print('La contraseña debe tener al menos una minúscula') \n",
        "        val = False         \n",
        "  if not any(char in simb for char in passwd): \n",
        "        print('La contraseña debe tener al menosuno de estos símbolos @/-%&') \n",
        "        val = False\n",
        "  else:\n",
        "     val=True\n",
        "  if val == True:\n",
        "    print(\"la contraseña es correcta\")\n",
        " \n",
        "print()\n",
        "print() \n",
        "print(\"Bueno ahora vamos a verificar la contraseña\")\n",
        "print(\"Tiene hasta un máximo de tres intentos\")\n",
        "print()\n",
        "print(\"VERIFICAR CONTRASEÑA\")\n",
        "\n",
        "\n",
        "contador = 0\n",
        "for i in range(3):\n",
        "  validar = input(\"Ingrese nuevamente su contraseña\")\n",
        "  if validar == passwd:\n",
        "    print(\"la contraseña es correcta, bienvenido al sistema\")\n",
        "    break\n",
        "  else:\n",
        "    print(\"Contraseña incorrecta\")\n",
        "    contador +=1\n",
        "  if contador == 3:\n",
        "    print(\"Debe ir al banco a blanquear la contraseña\")"
      ]
    }
  ]
}