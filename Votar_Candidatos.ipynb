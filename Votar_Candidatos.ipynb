{
  "nbformat": 4,
  "nbformat_minor": 0,
  "metadata": {
    "colab": {
      "name": "Votar Candidatos.ipynb",
      "provenance": [],
      "collapsed_sections": [],
      "authorship_tag": "ABX9TyNRv7TT5ZCDkd5n8UdtV3x3",
      "include_colab_link": true
    },
    "kernelspec": {
      "name": "python3",
      "display_name": "Python 3"
    },
    "language_info": {
      "name": "python"
    }
  },
  "cells": [
    {
      "cell_type": "markdown",
      "metadata": {
        "id": "view-in-github",
        "colab_type": "text"
      },
      "source": [
        "<a href=\"https://colab.research.google.com/github/LeoVinacur/Python/blob/main/Votar_Candidatos.ipynb\" target=\"_parent\"><img src=\"https://colab.research.google.com/assets/colab-badge.svg\" alt=\"Open In Colab\"/></a>"
      ]
    },
    {
      "cell_type": "code",
      "execution_count": 13,
      "metadata": {
        "colab": {
          "base_uri": "https://localhost:8080/"
        },
        "id": "GfFQNIH6QgLY",
        "outputId": "2cd2654a-f0e0-4f9a-bc77-ab86f35c6916"
      },
      "outputs": [
        {
          "output_type": "stream",
          "name": "stdout",
          "text": [
            "Lista de candidatos\n",
            "[('A', 'rojo'), ('B', 'verde'), ('C', 'azul')]\n",
            "\n",
            "Ingrese a que candidato quiere votar A , B , o C : g\n",
            "Ud. no eligió ninguna letra válida: A, B o C\n",
            "Ingrese a que candidato quiere votar A , B , o C : C\n",
            "Ud. voto por el candidato:  azul\n",
            "Programa terminado\n"
          ]
        }
      ],
      "source": [
        " \n",
        "candidatos = [(\"A\", \"rojo\") , (\"B\" , \"verde\") , (\"C\" , \"azul\")]\n",
        "print(\"Lista de candidatos\")\n",
        "print(candidatos)\n",
        "print()\n",
        "while rta != \"A\" or rta != \"B\" or rta != \"C\":\n",
        "  rta = input(\"Ingrese a que candidato quiere votar A , B , o C : \")\n",
        "  if rta == \"A\":\n",
        "    print(\"Ud. voto por el candidato: \" , candidatos[0][1])\n",
        "    break\n",
        "  elif rta == \"B\":\n",
        "    print(\"Ud. voto por el candidato: \" , candidatos[1][1])\n",
        "    break\n",
        "  elif rta == \"C\":\n",
        "    print(\"Ud. voto por el candidato: \" , candidatos[2][1])\n",
        "    break\n",
        "  else:\n",
        "    print(\"Ud. no eligió ninguna letra válida: A, B o C\")\n",
        "\n",
        "print(\"Programa terminado\")"
      ]
    }
  ]
}